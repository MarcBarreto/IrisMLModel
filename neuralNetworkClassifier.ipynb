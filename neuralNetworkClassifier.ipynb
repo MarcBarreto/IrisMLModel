{
 "cells": [
  {
   "cell_type": "code",
   "execution_count": 1,
   "id": "69b1f6f6",
   "metadata": {},
   "outputs": [
    {
     "name": "stderr",
     "output_type": "stream",
     "text": [
      "\u001b[32m\u001b[1m  Activating\u001b[22m\u001b[39m new project at `C:\\Users\\silvi\\Documents\\workspace\\env`\n",
      "\u001b[32m\u001b[1m  No Changes\u001b[22m\u001b[39m to `C:\\Users\\silvi\\Documents\\workspace\\env\\Project.toml`\n",
      "\u001b[32m\u001b[1m  No Changes\u001b[22m\u001b[39m to `C:\\Users\\silvi\\Documents\\workspace\\env\\Manifest.toml`\n"
     ]
    }
   ],
   "source": [
    "# Create and instance an env\n",
    "using Pkg\n",
    "Pkg.activate(\"env\")\n",
    "Pkg.instantiate()"
   ]
  },
  {
   "cell_type": "code",
   "execution_count": 2,
   "id": "2406ef7d",
   "metadata": {},
   "outputs": [
    {
     "name": "stderr",
     "output_type": "stream",
     "text": [
      "\u001b[32m\u001b[1m    Updating\u001b[22m\u001b[39m registry at `C:\\Users\\silvi\\.julia\\registries\\General.toml`\n",
      "\u001b[32m\u001b[1m   Resolving\u001b[22m\u001b[39m package versions...\n",
      "\u001b[32m\u001b[1m   Installed\u001b[22m\u001b[39m ShowCases ──────────────── v0.1.0\n",
      "\u001b[32m\u001b[1m   Installed\u001b[22m\u001b[39m StatisticalTraits ──────── v3.4.0\n",
      "\u001b[32m\u001b[1m   Installed\u001b[22m\u001b[39m Accessors ──────────────── v0.1.37\n",
      "\u001b[32m\u001b[1m   Installed\u001b[22m\u001b[39m ProgressMeter ──────────── v1.10.2\n",
      "\u001b[32m\u001b[1m   Installed\u001b[22m\u001b[39m LearnAPI ───────────────── v0.1.0\n",
      "\u001b[32m\u001b[1m   Installed\u001b[22m\u001b[39m CategoricalDistributions ─ v0.1.15\n",
      "\u001b[32m\u001b[1m   Installed\u001b[22m\u001b[39m ContextVariablesX ──────── v0.1.3\n",
      "\u001b[32m\u001b[1m   Installed\u001b[22m\u001b[39m NNlib ──────────────────── v0.9.21\n",
      "\u001b[32m\u001b[1m   Installed\u001b[22m\u001b[39m InitialValues ──────────── v0.3.1\n",
      "\u001b[32m\u001b[1m   Installed\u001b[22m\u001b[39m CEnum ──────────────────── v0.5.0\n",
      "\u001b[32m\u001b[1m   Installed\u001b[22m\u001b[39m EarlyStopping ──────────── v0.3.0\n",
      "\u001b[32m\u001b[1m   Installed\u001b[22m\u001b[39m IterationControl ───────── v0.5.4\n",
      "\u001b[32m\u001b[1m   Installed\u001b[22m\u001b[39m PrettyPrint ────────────── v0.2.0\n",
      "\u001b[32m\u001b[1m   Installed\u001b[22m\u001b[39m MLJModels ──────────────── v0.17.3\n",
      "\u001b[32m\u001b[1m   Installed\u001b[22m\u001b[39m MLUtils ────────────────── v0.4.4\n",
      "\u001b[32m\u001b[1m   Installed\u001b[22m\u001b[39m FLoopsBase ─────────────── v0.1.1\n",
      "\u001b[32m\u001b[1m   Installed\u001b[22m\u001b[39m MLJFlow ────────────────── v0.5.0\n",
      "\u001b[32m\u001b[1m   Installed\u001b[22m\u001b[39m MLJIteration ───────────── v0.6.2\n",
      "\u001b[32m\u001b[1m   Installed\u001b[22m\u001b[39m StatisticalMeasures ────── v0.1.6\n",
      "\u001b[32m\u001b[1m   Installed\u001b[22m\u001b[39m DefineSingletons ───────── v0.1.2\n",
      "\u001b[32m\u001b[1m   Installed\u001b[22m\u001b[39m LLVM ───────────────────── v8.0.0\n",
      "\u001b[32m\u001b[1m   Installed\u001b[22m\u001b[39m MicroCollections ───────── v0.2.0\n",
      "\u001b[32m\u001b[1m   Installed\u001b[22m\u001b[39m NameResolution ─────────── v0.1.5\n",
      "\u001b[32m\u001b[1m   Installed\u001b[22m\u001b[39m MLJBase ────────────────── v1.7.0\n",
      "\u001b[32m\u001b[1m   Installed\u001b[22m\u001b[39m UnsafeAtomicsLLVM ──────── v0.1.5\n",
      "\u001b[32m\u001b[1m   Installed\u001b[22m\u001b[39m PrettyPrinting ─────────── v0.4.2\n",
      "\u001b[32m\u001b[1m   Installed\u001b[22m\u001b[39m BangBang ───────────────── v0.4.3\n",
      "\u001b[32m\u001b[1m   Installed\u001b[22m\u001b[39m StatisticalMeasuresBase ── v0.1.1\n",
      "\u001b[32m\u001b[1m   Installed\u001b[22m\u001b[39m ArgCheck ───────────────── v2.3.0\n",
      "\u001b[32m\u001b[1m   Installed\u001b[22m\u001b[39m ComputationalResources ─── v0.3.2\n",
      "\u001b[32m\u001b[1m   Installed\u001b[22m\u001b[39m FLoops ─────────────────── v0.2.2\n",
      "\u001b[32m\u001b[1m   Installed\u001b[22m\u001b[39m MLStyle ────────────────── v0.4.17\n",
      "\u001b[32m\u001b[1m   Installed\u001b[22m\u001b[39m Setfield ───────────────── v1.1.1\n",
      "\u001b[32m\u001b[1m   Installed\u001b[22m\u001b[39m ConstructionBase ───────── v1.5.6\n",
      "\u001b[32m\u001b[1m   Installed\u001b[22m\u001b[39m ScientificTypes ────────── v3.0.2\n",
      "\u001b[32m\u001b[1m   Installed\u001b[22m\u001b[39m ARFFFiles ──────────────── v1.4.1\n",
      "\u001b[32m\u001b[1m   Installed\u001b[22m\u001b[39m FeatureSelection ───────── v0.2.1\n",
      "\u001b[32m\u001b[1m   Installed\u001b[22m\u001b[39m MLJ ────────────────────── v0.20.7\n",
      "\u001b[32m\u001b[1m   Installed\u001b[22m\u001b[39m CategoricalArrays ──────── v0.10.8\n",
      "\u001b[32m\u001b[1m   Installed\u001b[22m\u001b[39m LLVMExtra_jll ──────────── v0.0.30+0\n",
      "\u001b[32m\u001b[1m   Installed\u001b[22m\u001b[39m OpenML ─────────────────── v0.3.1\n",
      "\u001b[32m\u001b[1m   Installed\u001b[22m\u001b[39m ChainRulesCore ─────────── v1.24.0\n",
      "\u001b[32m\u001b[1m   Installed\u001b[22m\u001b[39m Combinatorics ──────────── v1.0.2\n",
      "\u001b[32m\u001b[1m   Installed\u001b[22m\u001b[39m UnsafeAtomics ──────────── v0.2.1\n",
      "\u001b[32m\u001b[1m   Installed\u001b[22m\u001b[39m CompositionsBase ───────── v0.1.2\n",
      "\u001b[32m\u001b[1m   Installed\u001b[22m\u001b[39m SimpleTraits ───────────── v0.9.4\n",
      "\u001b[32m\u001b[1m   Installed\u001b[22m\u001b[39m JuliaVariables ─────────── v0.2.4\n",
      "\u001b[32m\u001b[1m   Installed\u001b[22m\u001b[39m KernelAbstractions ─────── v0.9.22\n",
      "\u001b[32m\u001b[1m   Installed\u001b[22m\u001b[39m InverseFunctions ───────── v0.1.15\n",
      "\u001b[32m\u001b[1m   Installed\u001b[22m\u001b[39m LatinHypercubeSampling ─── v1.9.0\n",
      "\u001b[32m\u001b[1m   Installed\u001b[22m\u001b[39m GPUArraysCore ──────────── v0.1.6\n",
      "\u001b[32m\u001b[1m   Installed\u001b[22m\u001b[39m ScientificTypesBase ────── v3.0.0\n",
      "\u001b[32m\u001b[1m   Installed\u001b[22m\u001b[39m MLJEnsembles ───────────── v0.4.3\n",
      "\u001b[32m\u001b[1m   Installed\u001b[22m\u001b[39m Adapt ──────────────────── v4.0.4\n",
      "\u001b[32m\u001b[1m   Installed\u001b[22m\u001b[39m Atomix ─────────────────── v0.1.0\n",
      "\u001b[32m\u001b[1m   Installed\u001b[22m\u001b[39m MLJTuning ──────────────── v0.8.8\n",
      "\u001b[32m\u001b[1m   Installed\u001b[22m\u001b[39m MLJModelInterface ──────── v1.11.0\n",
      "\u001b[32m\u001b[1m   Installed\u001b[22m\u001b[39m StableRNGs ─────────────── v1.0.2\n",
      "\u001b[32m\u001b[1m   Installed\u001b[22m\u001b[39m MLJBalancing ───────────── v0.1.5\n",
      "\u001b[32m\u001b[1m   Installed\u001b[22m\u001b[39m Transducers ────────────── v0.4.82\n",
      "\u001b[32m\u001b[1m   Installed\u001b[22m\u001b[39m Baselet ────────────────── v0.1.1\n",
      "\u001b[32m\u001b[1m   Installed\u001b[22m\u001b[39m SplittablesBase ────────── v0.1.15\n",
      "\u001b[32m\u001b[1m   Installed\u001b[22m\u001b[39m MLFlowClient ───────────── v0.5.1\n",
      "\u001b[32m\u001b[1m    Updating\u001b[22m\u001b[39m `C:\\Users\\silvi\\Documents\\workspace\\env\\Project.toml`\n",
      "  \u001b[90m[add582a8] \u001b[39m\u001b[92m+ MLJ v0.20.7\u001b[39m\n",
      "\u001b[32m\u001b[1m    Updating\u001b[22m\u001b[39m `C:\\Users\\silvi\\Documents\\workspace\\env\\Manifest.toml`\n",
      "  \u001b[90m[da404889] \u001b[39m\u001b[92m+ ARFFFiles v1.4.1\u001b[39m\n",
      "  \u001b[90m[7d9f7c33] \u001b[39m\u001b[92m+ Accessors v0.1.37\u001b[39m\n",
      "  \u001b[90m[79e6a3ab] \u001b[39m\u001b[92m+ Adapt v4.0.4\u001b[39m\n",
      "  \u001b[90m[66dad0bd] \u001b[39m\u001b[92m+ AliasTables v1.1.3\u001b[39m\n",
      "  \u001b[90m[dce04be8] \u001b[39m\u001b[92m+ ArgCheck v2.3.0\u001b[39m\n",
      "  \u001b[90m[a9b6321e] \u001b[39m\u001b[92m+ Atomix v0.1.0\u001b[39m\n",
      "  \u001b[90m[198e06fe] \u001b[39m\u001b[92m+ BangBang v0.4.3\u001b[39m\n",
      "  \u001b[90m[9718e550] \u001b[39m\u001b[92m+ Baselet v0.1.1\u001b[39m\n",
      "  \u001b[90m[d1d4a3ce] \u001b[39m\u001b[92m+ BitFlags v0.1.9\u001b[39m\n",
      "  \u001b[90m[fa961155] \u001b[39m\u001b[92m+ CEnum v0.5.0\u001b[39m\n",
      "  \u001b[90m[49dc2e85] \u001b[39m\u001b[92m+ Calculus v0.5.1\u001b[39m\n",
      "  \u001b[90m[324d7699] \u001b[39m\u001b[92m+ CategoricalArrays v0.10.8\u001b[39m\n",
      "  \u001b[90m[af321ab8] \u001b[39m\u001b[92m+ CategoricalDistributions v0.1.15\u001b[39m\n",
      "  \u001b[90m[d360d2e6] \u001b[39m\u001b[92m+ ChainRulesCore v1.24.0\u001b[39m\n",
      "  \u001b[90m[944b1d66] \u001b[39m\u001b[92m+ CodecZlib v0.7.5\u001b[39m\n",
      "  \u001b[90m[3da002f7] \u001b[39m\u001b[92m+ ColorTypes v0.11.5\u001b[39m\n",
      "  \u001b[90m[861a8166] \u001b[39m\u001b[92m+ Combinatorics v1.0.2\u001b[39m\n",
      "  \u001b[90m[34da2185] \u001b[39m\u001b[92m+ Compat v4.15.0\u001b[39m\n",
      "  \u001b[90m[a33af91c] \u001b[39m\u001b[92m+ CompositionsBase v0.1.2\u001b[39m\n",
      "  \u001b[90m[ed09eef8] \u001b[39m\u001b[92m+ ComputationalResources v0.3.2\u001b[39m\n",
      "  \u001b[90m[f0e56b4a] \u001b[39m\u001b[92m+ ConcurrentUtilities v2.4.2\u001b[39m\n",
      "  \u001b[90m[187b0558] \u001b[39m\u001b[92m+ ConstructionBase v1.5.6\u001b[39m\n",
      "  \u001b[90m[6add18c4] \u001b[39m\u001b[92m+ ContextVariablesX v0.1.3\u001b[39m\n",
      "  \u001b[90m[a8cc5b0e] \u001b[39m\u001b[92m+ Crayons v4.1.1\u001b[39m\n",
      "  \u001b[90m[9a962f9c] \u001b[39m\u001b[92m+ DataAPI v1.16.0\u001b[39m\n",
      "  \u001b[90m[864edb3b] \u001b[39m\u001b[92m+ DataStructures v0.18.20\u001b[39m\n",
      "  \u001b[90m[e2d170a0] \u001b[39m\u001b[92m+ DataValueInterfaces v1.0.0\u001b[39m\n",
      "  \u001b[90m[244e2a9f] \u001b[39m\u001b[92m+ DefineSingletons v0.1.2\u001b[39m\n",
      "  \u001b[90m[8bb1440f] \u001b[39m\u001b[92m+ DelimitedFiles v1.9.1\u001b[39m\n",
      "  \u001b[90m[b4f34e82] \u001b[39m\u001b[92m+ Distances v0.10.11\u001b[39m\n",
      "  \u001b[90m[31c24e10] \u001b[39m\u001b[92m+ Distributions v0.25.109\u001b[39m\n",
      "  \u001b[90m[ffbed154] \u001b[39m\u001b[92m+ DocStringExtensions v0.9.3\u001b[39m\n",
      "  \u001b[90m[fa6b7ba4] \u001b[39m\u001b[92m+ DualNumbers v0.6.8\u001b[39m\n",
      "  \u001b[90m[792122b4] \u001b[39m\u001b[92m+ EarlyStopping v0.3.0\u001b[39m\n",
      "  \u001b[90m[460bff9d] \u001b[39m\u001b[92m+ ExceptionUnwrapping v0.1.10\u001b[39m\n",
      "  \u001b[90m[cc61a311] \u001b[39m\u001b[92m+ FLoops v0.2.2\u001b[39m\n",
      "  \u001b[90m[b9860ae5] \u001b[39m\u001b[92m+ FLoopsBase v0.1.1\u001b[39m\n",
      "  \u001b[90m[33837fe5] \u001b[39m\u001b[92m+ FeatureSelection v0.2.1\u001b[39m\n",
      "  \u001b[90m[48062228] \u001b[39m\u001b[92m+ FilePathsBase v0.9.21\u001b[39m\n",
      "  \u001b[90m[1a297f60] \u001b[39m\u001b[92m+ FillArrays v1.11.0\u001b[39m\n",
      "  \u001b[90m[53c48c17] \u001b[39m\u001b[92m+ FixedPointNumbers v0.8.5\u001b[39m\n",
      "  \u001b[90m[46192b85] \u001b[39m\u001b[92m+ GPUArraysCore v0.1.6\u001b[39m\n",
      "  \u001b[90m[cd3eb016] \u001b[39m\u001b[92m+ HTTP v1.10.8\u001b[39m\n",
      "  \u001b[90m[34004b35] \u001b[39m\u001b[92m+ HypergeometricFunctions v0.3.23\u001b[39m\n",
      "  \u001b[90m[22cec73e] \u001b[39m\u001b[92m+ InitialValues v0.3.1\u001b[39m\n",
      "  \u001b[90m[3587e190] \u001b[39m\u001b[92m+ InverseFunctions v0.1.15\u001b[39m\n",
      "  \u001b[90m[41ab1584] \u001b[39m\u001b[92m+ InvertedIndices v1.3.0\u001b[39m\n",
      "  \u001b[90m[92d709cd] \u001b[39m\u001b[92m+ IrrationalConstants v0.2.2\u001b[39m\n",
      "  \u001b[90m[b3c1a2ee] \u001b[39m\u001b[92m+ IterationControl v0.5.4\u001b[39m\n",
      "  \u001b[90m[82899510] \u001b[39m\u001b[92m+ IteratorInterfaceExtensions v1.0.0\u001b[39m\n",
      "  \u001b[90m[692b3bcd] \u001b[39m\u001b[92m+ JLLWrappers v1.5.0\u001b[39m\n",
      "  \u001b[90m[682c06a0] \u001b[39m\u001b[92m+ JSON v0.21.4\u001b[39m\n",
      "  \u001b[90m[b14d175d] \u001b[39m\u001b[92m+ JuliaVariables v0.2.4\u001b[39m\n",
      "  \u001b[90m[63c18a36] \u001b[39m\u001b[92m+ KernelAbstractions v0.9.22\u001b[39m\n",
      "  \u001b[90m[929cbde3] \u001b[39m\u001b[92m+ LLVM v8.0.0\u001b[39m\n",
      "  \u001b[90m[b964fa9f] \u001b[39m\u001b[92m+ LaTeXStrings v1.3.1\u001b[39m\n",
      "  \u001b[90m[a5e1c1ea] \u001b[39m\u001b[92m+ LatinHypercubeSampling v1.9.0\u001b[39m\n",
      "  \u001b[90m[92ad9a40] \u001b[39m\u001b[92m+ LearnAPI v0.1.0\u001b[39m\n",
      "  \u001b[90m[2ab3a3ac] \u001b[39m\u001b[92m+ LogExpFunctions v0.3.28\u001b[39m\n",
      "  \u001b[90m[e6f89c97] \u001b[39m\u001b[92m+ LoggingExtras v1.0.3\u001b[39m\n",
      "  \u001b[90m[64a0f543] \u001b[39m\u001b[92m+ MLFlowClient v0.5.1\u001b[39m\n",
      "  \u001b[90m[add582a8] \u001b[39m\u001b[92m+ MLJ v0.20.7\u001b[39m\n",
      "  \u001b[90m[45f359ea] \u001b[39m\u001b[92m+ MLJBalancing v0.1.5\u001b[39m\n",
      "  \u001b[90m[a7f614a8] \u001b[39m\u001b[92m+ MLJBase v1.7.0\u001b[39m\n",
      "  \u001b[90m[50ed68f4] \u001b[39m\u001b[92m+ MLJEnsembles v0.4.3\u001b[39m\n",
      "  \u001b[90m[7b7b8358] \u001b[39m\u001b[92m+ MLJFlow v0.5.0\u001b[39m\n",
      "  \u001b[90m[614be32b] \u001b[39m\u001b[92m+ MLJIteration v0.6.2\u001b[39m\n",
      "  \u001b[90m[e80e1ace] \u001b[39m\u001b[92m+ MLJModelInterface v1.11.0\u001b[39m\n",
      "  \u001b[90m[d491faf4] \u001b[39m\u001b[92m+ MLJModels v0.17.3\u001b[39m\n",
      "  \u001b[90m[03970b2e] \u001b[39m\u001b[92m+ MLJTuning v0.8.8\u001b[39m\n",
      "  \u001b[90m[d8e11817] \u001b[39m\u001b[92m+ MLStyle v0.4.17\u001b[39m\n",
      "  \u001b[90m[f1d291b0] \u001b[39m\u001b[92m+ MLUtils v0.4.4\u001b[39m\n",
      "  \u001b[90m[1914dd2f] \u001b[39m\u001b[92m+ MacroTools v0.5.13\u001b[39m\n",
      "  \u001b[90m[739be429] \u001b[39m\u001b[92m+ MbedTLS v1.1.9\u001b[39m\n",
      "  \u001b[90m[128add7d] \u001b[39m\u001b[92m+ MicroCollections v0.2.0\u001b[39m\n",
      "  \u001b[90m[e1d29d7a] \u001b[39m\u001b[92m+ Missings v1.2.0\u001b[39m\n",
      "  \u001b[90m[872c559c] \u001b[39m\u001b[92m+ NNlib v0.9.21\u001b[39m\n",
      "  \u001b[90m[77ba4419] \u001b[39m\u001b[92m+ NaNMath v1.0.2\u001b[39m\n",
      "  \u001b[90m[71a1bf82] \u001b[39m\u001b[92m+ NameResolution v0.1.5\u001b[39m\n",
      "  \u001b[90m[8b6db2d4] \u001b[39m\u001b[92m+ OpenML v0.3.1\u001b[39m\n",
      "  \u001b[90m[4d8831e6] \u001b[39m\u001b[92m+ OpenSSL v1.4.3\u001b[39m\n",
      "  \u001b[90m[bac558e1] \u001b[39m\u001b[92m+ OrderedCollections v1.6.3\u001b[39m\n",
      "  \u001b[90m[90014a1f] \u001b[39m\u001b[92m+ PDMats v0.11.31\u001b[39m\n",
      "  \u001b[90m[d96e819e] \u001b[39m\u001b[92m+ Parameters v0.12.3\u001b[39m\n",
      "  \u001b[90m[69de0a69] \u001b[39m\u001b[92m+ Parsers v2.8.1\u001b[39m\n",
      "  \u001b[90m[aea7be01] \u001b[39m\u001b[92m+ PrecompileTools v1.2.1\u001b[39m\n",
      "  \u001b[90m[21216c6a] \u001b[39m\u001b[92m+ Preferences v1.4.3\u001b[39m\n",
      "  \u001b[90m[8162dcfd] \u001b[39m\u001b[92m+ PrettyPrint v0.2.0\u001b[39m\n",
      "  \u001b[90m[54e16d92] \u001b[39m\u001b[92m+ PrettyPrinting v0.4.2\u001b[39m\n",
      "  \u001b[90m[08abe8d2] \u001b[39m\u001b[92m+ PrettyTables v2.3.2\u001b[39m\n",
      "  \u001b[90m[92933f4c] \u001b[39m\u001b[92m+ ProgressMeter v1.10.2\u001b[39m\n",
      "  \u001b[90m[43287f4e] \u001b[39m\u001b[92m+ PtrArrays v1.2.0\u001b[39m\n",
      "  \u001b[90m[1fd47b50] \u001b[39m\u001b[92m+ QuadGK v2.10.1\u001b[39m\n",
      "  \u001b[90m[3cdcf5f2] \u001b[39m\u001b[92m+ RecipesBase v1.3.4\u001b[39m\n",
      "  \u001b[90m[189a3867] \u001b[39m\u001b[92m+ Reexport v1.2.2\u001b[39m\n",
      "  \u001b[90m[05181044] \u001b[39m\u001b[92m+ RelocatableFolders v1.0.1\u001b[39m\n",
      "  \u001b[90m[ae029012] \u001b[39m\u001b[92m+ Requires v1.3.0\u001b[39m\n",
      "  \u001b[90m[79098fc4] \u001b[39m\u001b[92m+ Rmath v0.7.1\u001b[39m\n",
      "  \u001b[90m[321657f4] \u001b[39m\u001b[92m+ ScientificTypes v3.0.2\u001b[39m\n",
      "  \u001b[90m[30f210dd] \u001b[39m\u001b[92m+ ScientificTypesBase v3.0.0\u001b[39m\n",
      "  \u001b[90m[6c6a2e73] \u001b[39m\u001b[92m+ Scratch v1.2.1\u001b[39m\n",
      "  \u001b[90m[efcf1570] \u001b[39m\u001b[92m+ Setfield v1.1.1\u001b[39m\n",
      "  \u001b[90m[605ecd9f] \u001b[39m\u001b[92m+ ShowCases v0.1.0\u001b[39m\n",
      "  \u001b[90m[777ac1f9] \u001b[39m\u001b[92m+ SimpleBufferStream v1.1.0\u001b[39m\n",
      "  \u001b[90m[699a6c99] \u001b[39m\u001b[92m+ SimpleTraits v0.9.4\u001b[39m\n",
      "  \u001b[90m[a2af1166] \u001b[39m\u001b[92m+ SortingAlgorithms v1.2.1\u001b[39m\n",
      "  \u001b[90m[276daf66] \u001b[39m\u001b[92m+ SpecialFunctions v2.4.0\u001b[39m\n",
      "  \u001b[90m[171d559e] \u001b[39m\u001b[92m+ SplittablesBase v0.1.15\u001b[39m\n",
      "  \u001b[90m[860ef19b] \u001b[39m\u001b[92m+ StableRNGs v1.0.2\u001b[39m\n",
      "  \u001b[90m[90137ffa] \u001b[39m\u001b[92m+ StaticArrays v1.9.7\u001b[39m\n",
      "  \u001b[90m[1e83bf80] \u001b[39m\u001b[92m+ StaticArraysCore v1.4.3\u001b[39m\n",
      "  \u001b[90m[a19d573c] \u001b[39m\u001b[92m+ StatisticalMeasures v0.1.6\u001b[39m\n",
      "  \u001b[90m[c062fc1d] \u001b[39m\u001b[92m+ StatisticalMeasuresBase v0.1.1\u001b[39m\n",
      "  \u001b[90m[64bff920] \u001b[39m\u001b[92m+ StatisticalTraits v3.4.0\u001b[39m\n",
      "  \u001b[90m[82ae8749] \u001b[39m\u001b[92m+ StatsAPI v1.7.0\u001b[39m\n",
      "  \u001b[90m[2913bbd2] \u001b[39m\u001b[92m+ StatsBase v0.34.3\u001b[39m\n",
      "  \u001b[90m[4c63d2b9] \u001b[39m\u001b[92m+ StatsFuns v1.3.1\u001b[39m\n",
      "  \u001b[90m[892a3eda] \u001b[39m\u001b[92m+ StringManipulation v0.3.4\u001b[39m\n",
      "  \u001b[90m[3783bdb8] \u001b[39m\u001b[92m+ TableTraits v1.0.1\u001b[39m\n",
      "  \u001b[90m[bd369af6] \u001b[39m\u001b[92m+ Tables v1.12.0\u001b[39m\n",
      "  \u001b[90m[3bb67fe8] \u001b[39m\u001b[92m+ TranscodingStreams v0.11.1\u001b[39m\n",
      "  \u001b[90m[28d57a85] \u001b[39m\u001b[92m+ Transducers v0.4.82\u001b[39m\n",
      "  \u001b[90m[5c2747f8] \u001b[39m\u001b[92m+ URIs v1.5.1\u001b[39m\n",
      "  \u001b[90m[3a884ed6] \u001b[39m\u001b[92m+ UnPack v1.0.2\u001b[39m\n",
      "  \u001b[90m[013be700] \u001b[39m\u001b[92m+ UnsafeAtomics v0.2.1\u001b[39m\n",
      "  \u001b[90m[d80eeb9a] \u001b[39m\u001b[92m+ UnsafeAtomicsLLVM v0.1.5\u001b[39m\n",
      "\u001b[33m⌅\u001b[39m \u001b[90m[dad2f222] \u001b[39m\u001b[92m+ LLVMExtra_jll v0.0.30+0\u001b[39m\n",
      "  \u001b[90m[458c3c95] \u001b[39m\u001b[92m+ OpenSSL_jll v3.0.14+0\u001b[39m\n",
      "  \u001b[90m[efe28fd5] \u001b[39m\u001b[92m+ OpenSpecFun_jll v0.5.5+0\u001b[39m\n",
      "  \u001b[90m[f50d1b31] \u001b[39m\u001b[92m+ Rmath_jll v0.4.2+0\u001b[39m\n",
      "  \u001b[90m[0dad84c5] \u001b[39m\u001b[92m+ ArgTools v1.1.1\u001b[39m\n",
      "  \u001b[90m[56f22d72] \u001b[39m\u001b[92m+ Artifacts\u001b[39m\n",
      "  \u001b[90m[2a0f44e3] \u001b[39m\u001b[92m+ Base64\u001b[39m\n",
      "  \u001b[90m[ade2ca70] \u001b[39m\u001b[92m+ Dates\u001b[39m\n",
      "  \u001b[90m[8ba89e20] \u001b[39m\u001b[92m+ Distributed\u001b[39m\n",
      "  \u001b[90m[f43a241f] \u001b[39m\u001b[92m+ Downloads v1.6.0\u001b[39m\n",
      "  \u001b[90m[7b1f6079] \u001b[39m\u001b[92m+ FileWatching\u001b[39m\n",
      "  \u001b[90m[9fa8497b] \u001b[39m\u001b[92m+ Future\u001b[39m\n",
      "  \u001b[90m[b77e0a4c] \u001b[39m\u001b[92m+ InteractiveUtils\u001b[39m\n",
      "  \u001b[90m[4af54fe1] \u001b[39m\u001b[92m+ LazyArtifacts\u001b[39m\n",
      "  \u001b[90m[b27032c2] \u001b[39m\u001b[92m+ LibCURL v0.6.4\u001b[39m\n",
      "  \u001b[90m[76f85450] \u001b[39m\u001b[92m+ LibGit2\u001b[39m\n",
      "  \u001b[90m[8f399da3] \u001b[39m\u001b[92m+ Libdl\u001b[39m\n",
      "  \u001b[90m[37e2e46d] \u001b[39m\u001b[92m+ LinearAlgebra\u001b[39m\n",
      "  \u001b[90m[56ddb016] \u001b[39m\u001b[92m+ Logging\u001b[39m\n",
      "  \u001b[90m[d6f4376e] \u001b[39m\u001b[92m+ Markdown\u001b[39m\n",
      "  \u001b[90m[a63ad114] \u001b[39m\u001b[92m+ Mmap\u001b[39m\n",
      "  \u001b[90m[ca575930] \u001b[39m\u001b[92m+ NetworkOptions v1.2.0\u001b[39m\n",
      "  \u001b[90m[44cfe95a] \u001b[39m\u001b[92m+ Pkg v1.10.0\u001b[39m\n",
      "  \u001b[90m[de0858da] \u001b[39m\u001b[92m+ Printf\u001b[39m\n",
      "  \u001b[90m[3fa0cd96] \u001b[39m\u001b[92m+ REPL\u001b[39m\n",
      "  \u001b[90m[9a3f8284] \u001b[39m\u001b[92m+ Random\u001b[39m\n",
      "  \u001b[90m[ea8e919c] \u001b[39m\u001b[92m+ SHA v0.7.0\u001b[39m\n",
      "  \u001b[90m[9e88b42a] \u001b[39m\u001b[92m+ Serialization\u001b[39m\n",
      "  \u001b[90m[6462fe0b] \u001b[39m\u001b[92m+ Sockets\u001b[39m\n",
      "  \u001b[90m[2f01184e] \u001b[39m\u001b[92m+ SparseArrays v1.10.0\u001b[39m\n",
      "  \u001b[90m[10745b16] \u001b[39m\u001b[92m+ Statistics v1.10.0\u001b[39m\n",
      "  \u001b[90m[4607b0f0] \u001b[39m\u001b[92m+ SuiteSparse\u001b[39m\n",
      "  \u001b[90m[fa267f1f] \u001b[39m\u001b[92m+ TOML v1.0.3\u001b[39m\n",
      "  \u001b[90m[a4e569a6] \u001b[39m\u001b[92m+ Tar v1.10.0\u001b[39m\n",
      "  \u001b[90m[8dfed614] \u001b[39m\u001b[92m+ Test\u001b[39m\n",
      "  \u001b[90m[cf7118a7] \u001b[39m\u001b[92m+ UUIDs\u001b[39m\n",
      "  \u001b[90m[4ec0a83e] \u001b[39m\u001b[92m+ Unicode\u001b[39m\n",
      "  \u001b[90m[e66e0078] \u001b[39m\u001b[92m+ CompilerSupportLibraries_jll v1.1.1+0\u001b[39m\n",
      "  \u001b[90m[deac9b47] \u001b[39m\u001b[92m+ LibCURL_jll v8.4.0+0\u001b[39m\n",
      "  \u001b[90m[e37daf67] \u001b[39m\u001b[92m+ LibGit2_jll v1.6.4+0\u001b[39m\n",
      "  \u001b[90m[29816b5a] \u001b[39m\u001b[92m+ LibSSH2_jll v1.11.0+1\u001b[39m\n",
      "  \u001b[90m[c8ffd9c3] \u001b[39m\u001b[92m+ MbedTLS_jll v2.28.2+1\u001b[39m\n",
      "  \u001b[90m[14a3606d] \u001b[39m\u001b[92m+ MozillaCACerts_jll v2023.1.10\u001b[39m\n",
      "  \u001b[90m[4536629a] \u001b[39m\u001b[92m+ OpenBLAS_jll v0.3.23+4\u001b[39m\n",
      "  \u001b[90m[05823500] \u001b[39m\u001b[92m+ OpenLibm_jll v0.8.1+2\u001b[39m\n",
      "  \u001b[90m[bea87d4a] \u001b[39m\u001b[92m+ SuiteSparse_jll v7.2.1+1\u001b[39m\n",
      "  \u001b[90m[83775a58] \u001b[39m\u001b[92m+ Zlib_jll v1.2.13+1\u001b[39m\n",
      "  \u001b[90m[8e850b90] \u001b[39m\u001b[92m+ libblastrampoline_jll v5.8.0+1\u001b[39m\n",
      "  \u001b[90m[8e850ede] \u001b[39m\u001b[92m+ nghttp2_jll v1.52.0+1\u001b[39m\n",
      "  \u001b[90m[3f19e933] \u001b[39m\u001b[92m+ p7zip_jll v17.4.0+2\u001b[39m\n"
     ]
    },
    {
     "name": "stderr",
     "output_type": "stream",
     "text": [
      "\u001b[36m\u001b[1m        Info\u001b[22m\u001b[39m Packages marked with \u001b[33m⌅\u001b[39m have new versions available but compatibility constraints restrict them from upgrading. To see why use `status --outdated -m`\n",
      "\u001b[32m\u001b[1mPrecompiling\u001b[22m\u001b[39m project...\n",
      "\u001b[32m  ✓ \u001b[39m\u001b[90mDefineSingletons\u001b[39m\n",
      "\u001b[32m  ✓ \u001b[39m\u001b[90mScientificTypesBase\u001b[39m\n",
      "\u001b[32m  ✓ \u001b[39m\u001b[90mCombinatorics\u001b[39m\n",
      "\u001b[32m  ✓ \u001b[39m\u001b[90mStableRNGs\u001b[39m\n",
      "\u001b[32m  ✓ \u001b[39m\u001b[90mConstructionBase\u001b[39m\n",
      "\u001b[32m  ✓ \u001b[39m\u001b[90mPrettyPrint\u001b[39m\n",
      "\u001b[32m  ✓ \u001b[39m\u001b[90mBaselet\u001b[39m\n",
      "\u001b[32m  ✓ \u001b[39m\u001b[90mAdapt\u001b[39m\n",
      "\u001b[32m  ✓ \u001b[39m\u001b[90mArgCheck\u001b[39m\n",
      "\u001b[32m  ✓ \u001b[39m\u001b[90mShowCases\u001b[39m\n",
      "\u001b[32m  ✓ \u001b[39m\u001b[90mComputationalResources\u001b[39m\n",
      "\u001b[32m  ✓ \u001b[39m\u001b[90mCompositionsBase\u001b[39m\n",
      "\u001b[32m  ✓ \u001b[39m\u001b[90mPrettyPrinting\u001b[39m\n",
      "\u001b[32m  ✓ \u001b[39m\u001b[90mUnsafeAtomics\u001b[39m\n",
      "\u001b[32m  ✓ \u001b[39m\u001b[90mProgressMeter\u001b[39m\n",
      "\u001b[32m  ✓ \u001b[39m\u001b[90mCEnum\u001b[39m\n",
      "\u001b[32m  ✓ \u001b[39m\u001b[90mInitialValues\u001b[39m\n",
      "\u001b[32m  ✓ \u001b[39m\u001b[90mChainRulesCore\u001b[39m\n",
      "\u001b[32m  ✓ \u001b[39m\u001b[90mInverseFunctions\u001b[39m\n",
      "\u001b[32m  ✓ \u001b[39m\u001b[90mContextVariablesX\u001b[39m\n",
      "\u001b[32m  ✓ \u001b[39m\u001b[90mLLVMExtra_jll\u001b[39m\n",
      "\u001b[32m  ✓ \u001b[39m\u001b[90mSimpleTraits\u001b[39m\n",
      "\u001b[32m  ✓ \u001b[39m\u001b[90mEarlyStopping\u001b[39m\n",
      "\u001b[32m  ✓ \u001b[39m\u001b[90mStatisticalTraits\u001b[39m\n",
      "\u001b[32m  ✓ \u001b[39m\u001b[90mConstructionBase → ConstructionBaseStaticArraysExt\u001b[39m\n",
      "\u001b[32m  ✓ \u001b[39m\u001b[90mNameResolution\u001b[39m\n",
      "\u001b[32m  ✓ \u001b[39m\u001b[90mCategoricalArrays\u001b[39m\n",
      "\u001b[32m  ✓ \u001b[39m\u001b[90mLearnAPI\u001b[39m\n",
      "\u001b[32m  ✓ \u001b[39m\u001b[90mAdapt → AdaptStaticArraysExt\u001b[39m\n",
      "\u001b[32m  ✓ \u001b[39m\u001b[90mAtomix\u001b[39m\n",
      "\u001b[32m  ✓ \u001b[39m\u001b[90mChainRulesCore → ChainRulesCoreSparseArraysExt\u001b[39m\n",
      "\u001b[32m  ✓ \u001b[39m\u001b[90mMLFlowClient\u001b[39m\n",
      "\u001b[32m  ✓ \u001b[39m\u001b[90mStaticArrays → StaticArraysChainRulesCoreExt\u001b[39m\n",
      "\u001b[32m  ✓ \u001b[39m\u001b[90mInverseFunctions → DatesExt\u001b[39m\n",
      "\u001b[32m  ✓ \u001b[39m\u001b[90mDistances → DistancesChainRulesCoreExt\u001b[39m\n",
      "\u001b[32m  ✓ \u001b[39m\u001b[90mCompositionsBase → CompositionsBaseInverseFunctionsExt\u001b[39m\n",
      "\u001b[32m  ✓ \u001b[39m\u001b[90mFLoopsBase\u001b[39m\n",
      "\u001b[32m  ✓ \u001b[39m\u001b[90mLogExpFunctions → LogExpFunctionsChainRulesCoreExt\u001b[39m\n",
      "\u001b[32m  ✓ \u001b[39m\u001b[90mMLJModelInterface\u001b[39m\n",
      "\u001b[32m  ✓ \u001b[39m\u001b[90mCategoricalArrays → CategoricalArraysRecipesBaseExt\u001b[39m\n",
      "\u001b[32m  ✓ \u001b[39m\u001b[90mIterationControl\u001b[39m\n",
      "\u001b[32m  ✓ \u001b[39m\u001b[90mSetfield\u001b[39m\n",
      "\u001b[32m  ✓ \u001b[39m\u001b[90mGPUArraysCore\u001b[39m\n",
      "\u001b[32m  ✓ \u001b[39m\u001b[90mLogExpFunctions → LogExpFunctionsInverseFunctionsExt\u001b[39m\n",
      "\u001b[32m  ✓ \u001b[39m\u001b[90mFeatureSelection\u001b[39m\n",
      "\u001b[32m  ✓ \u001b[39m\u001b[90mCategoricalArrays → CategoricalArraysJSONExt\u001b[39m\n",
      "\u001b[32m  ✓ \u001b[39m\u001b[90mAccessors\u001b[39m\n",
      "\u001b[32m  ✓ \u001b[39m\u001b[90mSplittablesBase\u001b[39m\n",
      "\u001b[32m  ✓ \u001b[39m\u001b[90mLLVM\u001b[39m\n",
      "\u001b[32m  ✓ \u001b[39m\u001b[90mARFFFiles\u001b[39m\n",
      "\u001b[32m  ✓ \u001b[39m\u001b[90mStatsBase\u001b[39m\n",
      "\u001b[32m  ✓ \u001b[39m\u001b[90mAccessors → AccessorsStaticArraysExt\u001b[39m\n",
      "\u001b[32m  ✓ \u001b[39m\u001b[90mSpecialFunctions → SpecialFunctionsChainRulesCoreExt\u001b[39m\n",
      "\u001b[32m  ✓ \u001b[39m\u001b[90mUnsafeAtomicsLLVM\u001b[39m\n",
      "\u001b[32m  ✓ \u001b[39m\u001b[90mBangBang\u001b[39m\n",
      "\u001b[32m  ✓ \u001b[39m\u001b[90mLatinHypercubeSampling\u001b[39m\n",
      "\u001b[32m  ✓ \u001b[39m\u001b[90mStatsFuns → StatsFunsInverseFunctionsExt\u001b[39m\n",
      "\u001b[32m  ✓ \u001b[39m\u001b[90mOpenML\u001b[39m\n",
      "\u001b[32m  ✓ \u001b[39m\u001b[90mBangBang → BangBangChainRulesCoreExt\u001b[39m\n",
      "\u001b[32m  ✓ \u001b[39m\u001b[90mBangBang → BangBangStaticArraysExt\u001b[39m\n",
      "\u001b[32m  ✓ \u001b[39m\u001b[90mMLStyle\u001b[39m\n",
      "\u001b[32m  ✓ \u001b[39m\u001b[90mBangBang → BangBangTablesExt\u001b[39m\n",
      "\u001b[32m  ✓ \u001b[39m\u001b[90mStatsFuns → StatsFunsChainRulesCoreExt\u001b[39m\n",
      "\u001b[32m  ✓ \u001b[39m\u001b[90mMicroCollections\u001b[39m\n",
      "\u001b[32m  ✓ \u001b[39m\u001b[90mKernelAbstractions\u001b[39m\n",
      "\u001b[32m  ✓ \u001b[39m\u001b[90mTransducers\u001b[39m\n",
      "\u001b[32m  ✓ \u001b[39m\u001b[90mJuliaVariables\u001b[39m\n",
      "\u001b[32m  ✓ \u001b[39m\u001b[90mDistributions\u001b[39m\n",
      "\u001b[32m  ✓ \u001b[39m\u001b[90mDistributions → DistributionsTestExt\u001b[39m\n",
      "\u001b[32m  ✓ \u001b[39m\u001b[90mNNlib\u001b[39m\n",
      "\u001b[32m  ✓ \u001b[39m\u001b[90mFLoops\u001b[39m\n",
      "\u001b[32m  ✓ \u001b[39m\u001b[90mDistributions → DistributionsChainRulesCoreExt\u001b[39m\n",
      "\u001b[32m  ✓ \u001b[39m\u001b[90mScientificTypes\u001b[39m\n",
      "\u001b[32m  ✓ \u001b[39m\u001b[90mCategoricalDistributions\u001b[39m\n",
      "\u001b[32m  ✓ \u001b[39m\u001b[90mMLUtils\u001b[39m\n",
      "\u001b[32m  ✓ \u001b[39m\u001b[90mMLJModels\u001b[39m\n",
      "\u001b[32m  ✓ \u001b[39m\u001b[90mStatisticalMeasuresBase\u001b[39m\n",
      "\u001b[32m  ✓ \u001b[39m\u001b[90mMLJEnsembles\u001b[39m\n",
      "\u001b[32m  ✓ \u001b[39m\u001b[90mMLJBase\u001b[39m\n",
      "\u001b[32m  ✓ \u001b[39m\u001b[90mStatisticalMeasures\u001b[39m\n",
      "\u001b[32m  ✓ \u001b[39m\u001b[90mStatisticalMeasures → ScientificTypesExt\u001b[39m\n",
      "\u001b[32m  ✓ \u001b[39m\u001b[90mMLJBase → DefaultMeasuresExt\u001b[39m\n",
      "\u001b[32m  ✓ \u001b[39m\u001b[90mMLJTuning\u001b[39m\n",
      "\u001b[32m  ✓ \u001b[39m\u001b[90mMLJFlow\u001b[39m\n",
      "\u001b[32m  ✓ \u001b[39m\u001b[90mMLJBalancing\u001b[39m\n",
      "\u001b[32m  ✓ \u001b[39m\u001b[90mMLJIteration\u001b[39m\n",
      "\u001b[32m  ✓ \u001b[39mMLJ\n",
      "  87 dependencies successfully precompiled in 174 seconds. 82 already precompiled.\n"
     ]
    }
   ],
   "source": [
    "# Install MLJ Package\n",
    "Pkg.add(\"MLJ\")"
   ]
  },
  {
   "cell_type": "code",
   "execution_count": 3,
   "id": "564ae626",
   "metadata": {},
   "outputs": [],
   "source": [
    "using MLJ"
   ]
  },
  {
   "cell_type": "code",
   "execution_count": 4,
   "id": "f4747387",
   "metadata": {},
   "outputs": [
    {
     "data": {
      "text/latex": [
       "\\textbf{Author}: R.A. Fisher   \\textbf{Source}: \\href{https://archive.ics.uci.edu/ml/datasets/Iris}{UCI} - 1936 - Donated by Michael Marshall   \\textbf{Please cite}:   \n",
       "\n",
       "\\textbf{Iris Plants Database}   This is perhaps the best known database to be found in the pattern recognition literature.  Fisher's paper is a classic in the field and is referenced frequently to this day.  (See Duda \\& Hart, for example.)  The data set contains 3 classes of 50 instances each, where each class refers to a type of iris plant.  One class is     linearly separable from the other 2; the latter are NOT linearly separable from each other.\n",
       "\n",
       "Predicted attribute: class of iris plant.   This is an exceedingly simple domain.  \n",
       "\n",
       "\\subsubsection{Attribute Information:}\n",
       "\\begin{verbatim}\n",
       "1. sepal length in cm\n",
       "2. sepal width in cm\n",
       "3. petal length in cm\n",
       "4. petal width in cm\n",
       "5. class: \n",
       "   -- Iris Setosa\n",
       "   -- Iris Versicolour\n",
       "   -- Iris Virginica\n",
       "\\end{verbatim}\n"
      ],
      "text/markdown": [
       "**Author**: R.A. Fisher   **Source**: [UCI](https://archive.ics.uci.edu/ml/datasets/Iris) - 1936 - Donated by Michael Marshall   **Please cite**:   \n",
       "\n",
       "**Iris Plants Database**   This is perhaps the best known database to be found in the pattern recognition literature.  Fisher's paper is a classic in the field and is referenced frequently to this day.  (See Duda & Hart, for example.)  The data set contains 3 classes of 50 instances each, where each class refers to a type of iris plant.  One class is     linearly separable from the other 2; the latter are NOT linearly separable from each other.\n",
       "\n",
       "Predicted attribute: class of iris plant.   This is an exceedingly simple domain.  \n",
       "\n",
       "### Attribute Information:\n",
       "\n",
       "```\n",
       "1. sepal length in cm\n",
       "2. sepal width in cm\n",
       "3. petal length in cm\n",
       "4. petal width in cm\n",
       "5. class: \n",
       "   -- Iris Setosa\n",
       "   -- Iris Versicolour\n",
       "   -- Iris Virginica\n",
       "```\n"
      ],
      "text/plain": [
       "  \u001b[1mAuthor\u001b[22m: R.A. Fisher \u001b[1mSource\u001b[22m: UCI\n",
       "  (https://archive.ics.uci.edu/ml/datasets/Iris) - 1936 - Donated by Michael\n",
       "  Marshall \u001b[1mPlease cite\u001b[22m:\n",
       "\n",
       "  \u001b[1mIris Plants Database\u001b[22m This is perhaps the best known database to be found in\n",
       "  the pattern recognition literature. Fisher's paper is a classic in the field\n",
       "  and is referenced frequently to this day. (See Duda & Hart, for example.)\n",
       "  The data set contains 3 classes of 50 instances each, where each class\n",
       "  refers to a type of iris plant. One class is linearly separable from the\n",
       "  other 2; the latter are NOT linearly separable from each other.\n",
       "\n",
       "  Predicted attribute: class of iris plant. This is an exceedingly simple\n",
       "  domain.\n",
       "\n",
       "\u001b[1m  Attribute Information:\u001b[22m\n",
       "\u001b[1m  ––––––––––––––––––––––\u001b[22m\n",
       "\n",
       "\u001b[36m  1. sepal length in cm\u001b[39m\n",
       "\u001b[36m  2. sepal width in cm\u001b[39m\n",
       "\u001b[36m  3. petal length in cm\u001b[39m\n",
       "\u001b[36m  4. petal width in cm\u001b[39m\n",
       "\u001b[36m  5. class: \u001b[39m\n",
       "\u001b[36m     -- Iris Setosa\u001b[39m\n",
       "\u001b[36m     -- Iris Versicolour\u001b[39m\n",
       "\u001b[36m     -- Iris Virginica\u001b[39m"
      ]
     },
     "execution_count": 4,
     "metadata": {},
     "output_type": "execute_result"
    }
   ],
   "source": [
    "# Describe Dataset 61\n",
    "OpenML.describe_dataset(61)"
   ]
  },
  {
   "cell_type": "code",
   "execution_count": 5,
   "id": "6a48b6e4",
   "metadata": {},
   "outputs": [
    {
     "name": "stderr",
     "output_type": "stream",
     "text": [
      "\u001b[36m\u001b[1m[ \u001b[22m\u001b[39m\u001b[36m\u001b[1mInfo: \u001b[22m\u001b[39mDownloading dataset 61.\n"
     ]
    },
    {
     "data": {
      "text/plain": [
       "Tables.DictColumnTable with 150 rows, 5 columns, and schema:\n",
       " :sepallength  Float64\n",
       " :sepalwidth   Float64\n",
       " :petallength  Float64\n",
       " :petalwidth   Float64\n",
       " :class        CategoricalArrays.CategoricalValue{String, UInt32}"
      ]
     },
     "execution_count": 5,
     "metadata": {},
     "output_type": "execute_result"
    }
   ],
   "source": [
    "# Load Dataset 61 (Iris)\n",
    "iris = OpenML.load(61)"
   ]
  },
  {
   "cell_type": "code",
   "execution_count": 6,
   "id": "1e51f625",
   "metadata": {},
   "outputs": [
    {
     "name": "stderr",
     "output_type": "stream",
     "text": [
      "\u001b[36m\u001b[1m[ \u001b[22m\u001b[39m\u001b[36m\u001b[1mInfo: \u001b[22m\u001b[39mPrecompiling CategoricalArraysSentinelArraysExt [25d60f2f-6134-5c9e-b13a-96ac465bddcb]\n",
      "\u001b[36m\u001b[1m[ \u001b[22m\u001b[39m\u001b[36m\u001b[1mInfo: \u001b[22m\u001b[39mPrecompiling BangBangDataFramesExt [d787bcad-b5c5-56bb-adaa-6bfddb178a59]\n",
      "\u001b[36m\u001b[1m[ \u001b[22m\u001b[39m\u001b[36m\u001b[1mInfo: \u001b[22m\u001b[39mPrecompiling TransducersDataFramesExt [cefb4096-3352-5e5f-8501-71f024082a88]\n"
     ]
    }
   ],
   "source": [
    "import DataFrames"
   ]
  },
  {
   "cell_type": "code",
   "execution_count": 7,
   "id": "be7c1570",
   "metadata": {},
   "outputs": [
    {
     "data": {
      "text/html": [
       "<div><div style = \"float: left;\"><span>150×5 DataFrame</span></div><div style = \"float: right;\"><span style = \"font-style: italic;\">125 rows omitted</span></div><div style = \"clear: both;\"></div></div><div class = \"data-frame\" style = \"overflow-x: scroll;\"><table class = \"data-frame\" style = \"margin-bottom: 6px;\"><thead><tr class = \"header\"><th class = \"rowNumber\" style = \"font-weight: bold; text-align: right;\">Row</th><th style = \"text-align: left;\">sepallength</th><th style = \"text-align: left;\">sepalwidth</th><th style = \"text-align: left;\">petallength</th><th style = \"text-align: left;\">petalwidth</th><th style = \"text-align: left;\">class</th></tr><tr class = \"subheader headerLastRow\"><th class = \"rowNumber\" style = \"font-weight: bold; text-align: right;\"></th><th title = \"Float64\" style = \"text-align: left;\">Float64</th><th title = \"Float64\" style = \"text-align: left;\">Float64</th><th title = \"Float64\" style = \"text-align: left;\">Float64</th><th title = \"Float64\" style = \"text-align: left;\">Float64</th><th title = \"CategoricalArrays.CategoricalValue{String, UInt32}\" style = \"text-align: left;\">Cat…</th></tr></thead><tbody><tr><td class = \"rowNumber\" style = \"font-weight: bold; text-align: right;\">1</td><td style = \"text-align: right;\">5.1</td><td style = \"text-align: right;\">3.5</td><td style = \"text-align: right;\">1.4</td><td style = \"text-align: right;\">0.2</td><td style = \"text-align: left;\">Iris-setosa</td></tr><tr><td class = \"rowNumber\" style = \"font-weight: bold; text-align: right;\">2</td><td style = \"text-align: right;\">4.9</td><td style = \"text-align: right;\">3.0</td><td style = \"text-align: right;\">1.4</td><td style = \"text-align: right;\">0.2</td><td style = \"text-align: left;\">Iris-setosa</td></tr><tr><td class = \"rowNumber\" style = \"font-weight: bold; text-align: right;\">3</td><td style = \"text-align: right;\">4.7</td><td style = \"text-align: right;\">3.2</td><td style = \"text-align: right;\">1.3</td><td style = \"text-align: right;\">0.2</td><td style = \"text-align: left;\">Iris-setosa</td></tr><tr><td class = \"rowNumber\" style = \"font-weight: bold; text-align: right;\">4</td><td style = \"text-align: right;\">4.6</td><td style = \"text-align: right;\">3.1</td><td style = \"text-align: right;\">1.5</td><td style = \"text-align: right;\">0.2</td><td style = \"text-align: left;\">Iris-setosa</td></tr><tr><td class = \"rowNumber\" style = \"font-weight: bold; text-align: right;\">5</td><td style = \"text-align: right;\">5.0</td><td style = \"text-align: right;\">3.6</td><td style = \"text-align: right;\">1.4</td><td style = \"text-align: right;\">0.2</td><td style = \"text-align: left;\">Iris-setosa</td></tr><tr><td class = \"rowNumber\" style = \"font-weight: bold; text-align: right;\">6</td><td style = \"text-align: right;\">5.4</td><td style = \"text-align: right;\">3.9</td><td style = \"text-align: right;\">1.7</td><td style = \"text-align: right;\">0.4</td><td style = \"text-align: left;\">Iris-setosa</td></tr><tr><td class = \"rowNumber\" style = \"font-weight: bold; text-align: right;\">7</td><td style = \"text-align: right;\">4.6</td><td style = \"text-align: right;\">3.4</td><td style = \"text-align: right;\">1.4</td><td style = \"text-align: right;\">0.3</td><td style = \"text-align: left;\">Iris-setosa</td></tr><tr><td class = \"rowNumber\" style = \"font-weight: bold; text-align: right;\">8</td><td style = \"text-align: right;\">5.0</td><td style = \"text-align: right;\">3.4</td><td style = \"text-align: right;\">1.5</td><td style = \"text-align: right;\">0.2</td><td style = \"text-align: left;\">Iris-setosa</td></tr><tr><td class = \"rowNumber\" style = \"font-weight: bold; text-align: right;\">9</td><td style = \"text-align: right;\">4.4</td><td style = \"text-align: right;\">2.9</td><td style = \"text-align: right;\">1.4</td><td style = \"text-align: right;\">0.2</td><td style = \"text-align: left;\">Iris-setosa</td></tr><tr><td class = \"rowNumber\" style = \"font-weight: bold; text-align: right;\">10</td><td style = \"text-align: right;\">4.9</td><td style = \"text-align: right;\">3.1</td><td style = \"text-align: right;\">1.5</td><td style = \"text-align: right;\">0.1</td><td style = \"text-align: left;\">Iris-setosa</td></tr><tr><td class = \"rowNumber\" style = \"font-weight: bold; text-align: right;\">11</td><td style = \"text-align: right;\">5.4</td><td style = \"text-align: right;\">3.7</td><td style = \"text-align: right;\">1.5</td><td style = \"text-align: right;\">0.2</td><td style = \"text-align: left;\">Iris-setosa</td></tr><tr><td class = \"rowNumber\" style = \"font-weight: bold; text-align: right;\">12</td><td style = \"text-align: right;\">4.8</td><td style = \"text-align: right;\">3.4</td><td style = \"text-align: right;\">1.6</td><td style = \"text-align: right;\">0.2</td><td style = \"text-align: left;\">Iris-setosa</td></tr><tr><td class = \"rowNumber\" style = \"font-weight: bold; text-align: right;\">13</td><td style = \"text-align: right;\">4.8</td><td style = \"text-align: right;\">3.0</td><td style = \"text-align: right;\">1.4</td><td style = \"text-align: right;\">0.1</td><td style = \"text-align: left;\">Iris-setosa</td></tr><tr><td style = \"text-align: right;\">&vellip;</td><td style = \"text-align: right;\">&vellip;</td><td style = \"text-align: right;\">&vellip;</td><td style = \"text-align: right;\">&vellip;</td><td style = \"text-align: right;\">&vellip;</td><td style = \"text-align: right;\">&vellip;</td></tr><tr><td class = \"rowNumber\" style = \"font-weight: bold; text-align: right;\">139</td><td style = \"text-align: right;\">6.0</td><td style = \"text-align: right;\">3.0</td><td style = \"text-align: right;\">4.8</td><td style = \"text-align: right;\">1.8</td><td style = \"text-align: left;\">Iris-virginica</td></tr><tr><td class = \"rowNumber\" style = \"font-weight: bold; text-align: right;\">140</td><td style = \"text-align: right;\">6.9</td><td style = \"text-align: right;\">3.1</td><td style = \"text-align: right;\">5.4</td><td style = \"text-align: right;\">2.1</td><td style = \"text-align: left;\">Iris-virginica</td></tr><tr><td class = \"rowNumber\" style = \"font-weight: bold; text-align: right;\">141</td><td style = \"text-align: right;\">6.7</td><td style = \"text-align: right;\">3.1</td><td style = \"text-align: right;\">5.6</td><td style = \"text-align: right;\">2.4</td><td style = \"text-align: left;\">Iris-virginica</td></tr><tr><td class = \"rowNumber\" style = \"font-weight: bold; text-align: right;\">142</td><td style = \"text-align: right;\">6.9</td><td style = \"text-align: right;\">3.1</td><td style = \"text-align: right;\">5.1</td><td style = \"text-align: right;\">2.3</td><td style = \"text-align: left;\">Iris-virginica</td></tr><tr><td class = \"rowNumber\" style = \"font-weight: bold; text-align: right;\">143</td><td style = \"text-align: right;\">5.8</td><td style = \"text-align: right;\">2.7</td><td style = \"text-align: right;\">5.1</td><td style = \"text-align: right;\">1.9</td><td style = \"text-align: left;\">Iris-virginica</td></tr><tr><td class = \"rowNumber\" style = \"font-weight: bold; text-align: right;\">144</td><td style = \"text-align: right;\">6.8</td><td style = \"text-align: right;\">3.2</td><td style = \"text-align: right;\">5.9</td><td style = \"text-align: right;\">2.3</td><td style = \"text-align: left;\">Iris-virginica</td></tr><tr><td class = \"rowNumber\" style = \"font-weight: bold; text-align: right;\">145</td><td style = \"text-align: right;\">6.7</td><td style = \"text-align: right;\">3.3</td><td style = \"text-align: right;\">5.7</td><td style = \"text-align: right;\">2.5</td><td style = \"text-align: left;\">Iris-virginica</td></tr><tr><td class = \"rowNumber\" style = \"font-weight: bold; text-align: right;\">146</td><td style = \"text-align: right;\">6.7</td><td style = \"text-align: right;\">3.0</td><td style = \"text-align: right;\">5.2</td><td style = \"text-align: right;\">2.3</td><td style = \"text-align: left;\">Iris-virginica</td></tr><tr><td class = \"rowNumber\" style = \"font-weight: bold; text-align: right;\">147</td><td style = \"text-align: right;\">6.3</td><td style = \"text-align: right;\">2.5</td><td style = \"text-align: right;\">5.0</td><td style = \"text-align: right;\">1.9</td><td style = \"text-align: left;\">Iris-virginica</td></tr><tr><td class = \"rowNumber\" style = \"font-weight: bold; text-align: right;\">148</td><td style = \"text-align: right;\">6.5</td><td style = \"text-align: right;\">3.0</td><td style = \"text-align: right;\">5.2</td><td style = \"text-align: right;\">2.0</td><td style = \"text-align: left;\">Iris-virginica</td></tr><tr><td class = \"rowNumber\" style = \"font-weight: bold; text-align: right;\">149</td><td style = \"text-align: right;\">6.2</td><td style = \"text-align: right;\">3.4</td><td style = \"text-align: right;\">5.4</td><td style = \"text-align: right;\">2.3</td><td style = \"text-align: left;\">Iris-virginica</td></tr><tr><td class = \"rowNumber\" style = \"font-weight: bold; text-align: right;\">150</td><td style = \"text-align: right;\">5.9</td><td style = \"text-align: right;\">3.0</td><td style = \"text-align: right;\">5.1</td><td style = \"text-align: right;\">1.8</td><td style = \"text-align: left;\">Iris-virginica</td></tr></tbody></table></div>"
      ],
      "text/latex": [
       "\\begin{tabular}{r|ccccc}\n",
       "\t& sepallength & sepalwidth & petallength & petalwidth & class\\\\\n",
       "\t\\hline\n",
       "\t& Float64 & Float64 & Float64 & Float64 & Cat…\\\\\n",
       "\t\\hline\n",
       "\t1 & 5.1 & 3.5 & 1.4 & 0.2 & Iris-setosa \\\\\n",
       "\t2 & 4.9 & 3.0 & 1.4 & 0.2 & Iris-setosa \\\\\n",
       "\t3 & 4.7 & 3.2 & 1.3 & 0.2 & Iris-setosa \\\\\n",
       "\t4 & 4.6 & 3.1 & 1.5 & 0.2 & Iris-setosa \\\\\n",
       "\t5 & 5.0 & 3.6 & 1.4 & 0.2 & Iris-setosa \\\\\n",
       "\t6 & 5.4 & 3.9 & 1.7 & 0.4 & Iris-setosa \\\\\n",
       "\t7 & 4.6 & 3.4 & 1.4 & 0.3 & Iris-setosa \\\\\n",
       "\t8 & 5.0 & 3.4 & 1.5 & 0.2 & Iris-setosa \\\\\n",
       "\t9 & 4.4 & 2.9 & 1.4 & 0.2 & Iris-setosa \\\\\n",
       "\t10 & 4.9 & 3.1 & 1.5 & 0.1 & Iris-setosa \\\\\n",
       "\t11 & 5.4 & 3.7 & 1.5 & 0.2 & Iris-setosa \\\\\n",
       "\t12 & 4.8 & 3.4 & 1.6 & 0.2 & Iris-setosa \\\\\n",
       "\t13 & 4.8 & 3.0 & 1.4 & 0.1 & Iris-setosa \\\\\n",
       "\t14 & 4.3 & 3.0 & 1.1 & 0.1 & Iris-setosa \\\\\n",
       "\t15 & 5.8 & 4.0 & 1.2 & 0.2 & Iris-setosa \\\\\n",
       "\t16 & 5.7 & 4.4 & 1.5 & 0.4 & Iris-setosa \\\\\n",
       "\t17 & 5.4 & 3.9 & 1.3 & 0.4 & Iris-setosa \\\\\n",
       "\t18 & 5.1 & 3.5 & 1.4 & 0.3 & Iris-setosa \\\\\n",
       "\t19 & 5.7 & 3.8 & 1.7 & 0.3 & Iris-setosa \\\\\n",
       "\t20 & 5.1 & 3.8 & 1.5 & 0.3 & Iris-setosa \\\\\n",
       "\t21 & 5.4 & 3.4 & 1.7 & 0.2 & Iris-setosa \\\\\n",
       "\t22 & 5.1 & 3.7 & 1.5 & 0.4 & Iris-setosa \\\\\n",
       "\t23 & 4.6 & 3.6 & 1.0 & 0.2 & Iris-setosa \\\\\n",
       "\t24 & 5.1 & 3.3 & 1.7 & 0.5 & Iris-setosa \\\\\n",
       "\t25 & 4.8 & 3.4 & 1.9 & 0.2 & Iris-setosa \\\\\n",
       "\t26 & 5.0 & 3.0 & 1.6 & 0.2 & Iris-setosa \\\\\n",
       "\t27 & 5.0 & 3.4 & 1.6 & 0.4 & Iris-setosa \\\\\n",
       "\t28 & 5.2 & 3.5 & 1.5 & 0.2 & Iris-setosa \\\\\n",
       "\t29 & 5.2 & 3.4 & 1.4 & 0.2 & Iris-setosa \\\\\n",
       "\t30 & 4.7 & 3.2 & 1.6 & 0.2 & Iris-setosa \\\\\n",
       "\t$\\dots$ & $\\dots$ & $\\dots$ & $\\dots$ & $\\dots$ & $\\dots$ \\\\\n",
       "\\end{tabular}\n"
      ],
      "text/plain": [
       "\u001b[1m150×5 DataFrame\u001b[0m\n",
       "\u001b[1m Row \u001b[0m│\u001b[1m sepallength \u001b[0m\u001b[1m sepalwidth \u001b[0m\u001b[1m petallength \u001b[0m\u001b[1m petalwidth \u001b[0m\u001b[1m class          \u001b[0m\n",
       "     │\u001b[90m Float64     \u001b[0m\u001b[90m Float64    \u001b[0m\u001b[90m Float64     \u001b[0m\u001b[90m Float64    \u001b[0m\u001b[90m Cat…           \u001b[0m\n",
       "─────┼──────────────────────────────────────────────────────────────────\n",
       "   1 │         5.1         3.5          1.4         0.2  Iris-setosa\n",
       "   2 │         4.9         3.0          1.4         0.2  Iris-setosa\n",
       "   3 │         4.7         3.2          1.3         0.2  Iris-setosa\n",
       "   4 │         4.6         3.1          1.5         0.2  Iris-setosa\n",
       "   5 │         5.0         3.6          1.4         0.2  Iris-setosa\n",
       "   6 │         5.4         3.9          1.7         0.4  Iris-setosa\n",
       "   7 │         4.6         3.4          1.4         0.3  Iris-setosa\n",
       "   8 │         5.0         3.4          1.5         0.2  Iris-setosa\n",
       "   9 │         4.4         2.9          1.4         0.2  Iris-setosa\n",
       "  10 │         4.9         3.1          1.5         0.1  Iris-setosa\n",
       "  11 │         5.4         3.7          1.5         0.2  Iris-setosa\n",
       "  ⋮  │      ⋮           ⋮            ⋮           ⋮             ⋮\n",
       " 141 │         6.7         3.1          5.6         2.4  Iris-virginica\n",
       " 142 │         6.9         3.1          5.1         2.3  Iris-virginica\n",
       " 143 │         5.8         2.7          5.1         1.9  Iris-virginica\n",
       " 144 │         6.8         3.2          5.9         2.3  Iris-virginica\n",
       " 145 │         6.7         3.3          5.7         2.5  Iris-virginica\n",
       " 146 │         6.7         3.0          5.2         2.3  Iris-virginica\n",
       " 147 │         6.3         2.5          5.0         1.9  Iris-virginica\n",
       " 148 │         6.5         3.0          5.2         2.0  Iris-virginica\n",
       " 149 │         6.2         3.4          5.4         2.3  Iris-virginica\n",
       " 150 │         5.9         3.0          5.1         1.8  Iris-virginica\n",
       "\u001b[36m                                                        129 rows omitted\u001b[0m"
      ]
     },
     "execution_count": 7,
     "metadata": {},
     "output_type": "execute_result"
    }
   ],
   "source": [
    "# Convert Dataset to DataFrame\n",
    "df = DataFrames.DataFrame(iris)"
   ]
  },
  {
   "cell_type": "code",
   "execution_count": 8,
   "id": "e09feec5",
   "metadata": {},
   "outputs": [
    {
     "data": {
      "text/html": [
       "<div><div style = \"float: left;\"><span>4×5 DataFrame</span></div><div style = \"clear: both;\"></div></div><div class = \"data-frame\" style = \"overflow-x: scroll;\"><table class = \"data-frame\" style = \"margin-bottom: 6px;\"><thead><tr class = \"header\"><th class = \"rowNumber\" style = \"font-weight: bold; text-align: right;\">Row</th><th style = \"text-align: left;\">sepallength</th><th style = \"text-align: left;\">sepalwidth</th><th style = \"text-align: left;\">petallength</th><th style = \"text-align: left;\">petalwidth</th><th style = \"text-align: left;\">class</th></tr><tr class = \"subheader headerLastRow\"><th class = \"rowNumber\" style = \"font-weight: bold; text-align: right;\"></th><th title = \"Float64\" style = \"text-align: left;\">Float64</th><th title = \"Float64\" style = \"text-align: left;\">Float64</th><th title = \"Float64\" style = \"text-align: left;\">Float64</th><th title = \"Float64\" style = \"text-align: left;\">Float64</th><th title = \"CategoricalArrays.CategoricalValue{String, UInt32}\" style = \"text-align: left;\">Cat…</th></tr></thead><tbody><tr><td class = \"rowNumber\" style = \"font-weight: bold; text-align: right;\">1</td><td style = \"text-align: right;\">5.1</td><td style = \"text-align: right;\">3.5</td><td style = \"text-align: right;\">1.4</td><td style = \"text-align: right;\">0.2</td><td style = \"text-align: left;\">Iris-setosa</td></tr><tr><td class = \"rowNumber\" style = \"font-weight: bold; text-align: right;\">2</td><td style = \"text-align: right;\">4.9</td><td style = \"text-align: right;\">3.0</td><td style = \"text-align: right;\">1.4</td><td style = \"text-align: right;\">0.2</td><td style = \"text-align: left;\">Iris-setosa</td></tr><tr><td class = \"rowNumber\" style = \"font-weight: bold; text-align: right;\">3</td><td style = \"text-align: right;\">4.7</td><td style = \"text-align: right;\">3.2</td><td style = \"text-align: right;\">1.3</td><td style = \"text-align: right;\">0.2</td><td style = \"text-align: left;\">Iris-setosa</td></tr><tr><td class = \"rowNumber\" style = \"font-weight: bold; text-align: right;\">4</td><td style = \"text-align: right;\">4.6</td><td style = \"text-align: right;\">3.1</td><td style = \"text-align: right;\">1.5</td><td style = \"text-align: right;\">0.2</td><td style = \"text-align: left;\">Iris-setosa</td></tr></tbody></table></div>"
      ],
      "text/latex": [
       "\\begin{tabular}{r|ccccc}\n",
       "\t& sepallength & sepalwidth & petallength & petalwidth & class\\\\\n",
       "\t\\hline\n",
       "\t& Float64 & Float64 & Float64 & Float64 & Cat…\\\\\n",
       "\t\\hline\n",
       "\t1 & 5.1 & 3.5 & 1.4 & 0.2 & Iris-setosa \\\\\n",
       "\t2 & 4.9 & 3.0 & 1.4 & 0.2 & Iris-setosa \\\\\n",
       "\t3 & 4.7 & 3.2 & 1.3 & 0.2 & Iris-setosa \\\\\n",
       "\t4 & 4.6 & 3.1 & 1.5 & 0.2 & Iris-setosa \\\\\n",
       "\\end{tabular}\n"
      ],
      "text/plain": [
       "\u001b[1m4×5 DataFrame\u001b[0m\n",
       "\u001b[1m Row \u001b[0m│\u001b[1m sepallength \u001b[0m\u001b[1m sepalwidth \u001b[0m\u001b[1m petallength \u001b[0m\u001b[1m petalwidth \u001b[0m\u001b[1m class       \u001b[0m\n",
       "     │\u001b[90m Float64     \u001b[0m\u001b[90m Float64    \u001b[0m\u001b[90m Float64     \u001b[0m\u001b[90m Float64    \u001b[0m\u001b[90m Cat…        \u001b[0m\n",
       "─────┼───────────────────────────────────────────────────────────────\n",
       "   1 │         5.1         3.5          1.4         0.2  Iris-setosa\n",
       "   2 │         4.9         3.0          1.4         0.2  Iris-setosa\n",
       "   3 │         4.7         3.2          1.3         0.2  Iris-setosa\n",
       "   4 │         4.6         3.1          1.5         0.2  Iris-setosa"
      ]
     },
     "execution_count": 8,
     "metadata": {},
     "output_type": "execute_result"
    }
   ],
   "source": [
    "# Shows the first 4 rows\n",
    "first(df, 4)"
   ]
  },
  {
   "cell_type": "code",
   "execution_count": 9,
   "id": "6f328c11",
   "metadata": {},
   "outputs": [
    {
     "data": {
      "text/plain": [
       "┌─────────────┬───────────────┬──────────────────────────────────┐\n",
       "│\u001b[22m names       \u001b[0m│\u001b[22m scitypes      \u001b[0m│\u001b[22m types                            \u001b[0m│\n",
       "├─────────────┼───────────────┼──────────────────────────────────┤\n",
       "│ sepallength │ Continuous    │ Float64                          │\n",
       "│ sepalwidth  │ Continuous    │ Float64                          │\n",
       "│ petallength │ Continuous    │ Float64                          │\n",
       "│ petalwidth  │ Continuous    │ Float64                          │\n",
       "│ class       │ Multiclass{3} │ CategoricalValue{String, UInt32} │\n",
       "└─────────────┴───────────────┴──────────────────────────────────┘\n"
      ]
     },
     "execution_count": 9,
     "metadata": {},
     "output_type": "execute_result"
    }
   ],
   "source": [
    "# Shows the DataFrame's schema (metadata)\n",
    "schema(df)"
   ]
  },
  {
   "cell_type": "code",
   "execution_count": 21,
   "id": "b53382cf",
   "metadata": {},
   "outputs": [
    {
     "data": {
      "text/plain": [
       "(CategoricalArrays.CategoricalValue{String, UInt32}[\"Iris-virginica\", \"Iris-versicolor\", \"Iris-virginica\", \"Iris-setosa\", \"Iris-versicolor\", \"Iris-virginica\", \"Iris-setosa\", \"Iris-versicolor\", \"Iris-setosa\", \"Iris-virginica\"  …  \"Iris-virginica\", \"Iris-virginica\", \"Iris-virginica\", \"Iris-versicolor\", \"Iris-virginica\", \"Iris-setosa\", \"Iris-virginica\", \"Iris-virginica\", \"Iris-setosa\", \"Iris-setosa\"], \u001b[1m150×4 DataFrame\u001b[0m\n",
       "\u001b[1m Row \u001b[0m│\u001b[1m sepallength \u001b[0m\u001b[1m sepalwidth \u001b[0m\u001b[1m petallength \u001b[0m\u001b[1m petalwidth \u001b[0m\n",
       "     │\u001b[90m Float64     \u001b[0m\u001b[90m Float64    \u001b[0m\u001b[90m Float64     \u001b[0m\u001b[90m Float64    \u001b[0m\n",
       "─────┼──────────────────────────────────────────────────\n",
       "   1 │         6.7         3.3          5.7         2.1\n",
       "   2 │         5.7         2.8          4.1         1.3\n",
       "   3 │         7.2         3.0          5.8         1.6\n",
       "   4 │         4.4         2.9          1.4         0.2\n",
       "   5 │         5.6         2.5          3.9         1.1\n",
       "   6 │         6.5         3.0          5.2         2.0\n",
       "   7 │         4.4         3.0          1.3         0.2\n",
       "   8 │         6.1         2.9          4.7         1.4\n",
       "   9 │         5.4         3.9          1.7         0.4\n",
       "  10 │         4.9         2.5          4.5         1.7\n",
       "  11 │         6.3         2.5          4.9         1.5\n",
       "  ⋮  │      ⋮           ⋮            ⋮           ⋮\n",
       " 141 │         6.4         2.7          5.3         1.9\n",
       " 142 │         6.8         3.2          5.9         2.3\n",
       " 143 │         6.9         3.1          5.4         2.1\n",
       " 144 │         6.1         2.8          4.0         1.3\n",
       " 145 │         6.7         2.5          5.8         1.8\n",
       " 146 │         5.0         3.5          1.3         0.3\n",
       " 147 │         7.6         3.0          6.6         2.1\n",
       " 148 │         6.3         2.5          5.0         1.9\n",
       " 149 │         5.1         3.8          1.6         0.2\n",
       " 150 │         5.0         3.6          1.4         0.2\n",
       "\u001b[36m                                        129 rows omitted\u001b[0m)"
      ]
     },
     "execution_count": 21,
     "metadata": {},
     "output_type": "execute_result"
    }
   ],
   "source": [
    "# Extract x and y from dataframe\n",
    "# x predictor variables\n",
    "# y target variable\n",
    "y, X = unpack(df , ==(:class), rng = 123)"
   ]
  },
  {
   "cell_type": "code",
   "execution_count": 11,
   "id": "4dc72fba",
   "metadata": {},
   "outputs": [
    {
     "data": {
      "text/plain": [
       "AbstractVector{Multiclass{3}}\u001b[90m (alias for \u001b[39m\u001b[90mAbstractArray{Multiclass{3}, 1}\u001b[39m\u001b[90m)\u001b[39m"
      ]
     },
     "execution_count": 11,
     "metadata": {},
     "output_type": "execute_result"
    }
   ],
   "source": [
    "scitype(y)"
   ]
  },
  {
   "cell_type": "code",
   "execution_count": 13,
   "id": "2141429a",
   "metadata": {},
   "outputs": [
    {
     "data": {
      "text/plain": [
       "233-element Vector{NamedTuple{(:name, :package_name, :is_supervised, :abstract_type, :constructor, :deep_properties, :docstring, :fit_data_scitype, :human_name, :hyperparameter_ranges, :hyperparameter_types, :hyperparameters, :implemented_methods, :inverse_transform_scitype, :is_pure_julia, :is_wrapper, :iteration_parameter, :load_path, :package_license, :package_url, :package_uuid, :predict_scitype, :prediction_type, :reporting_operations, :reports_feature_importances, :supports_class_weights, :supports_online, :supports_training_losses, :supports_weights, :target_in_fit, :transform_scitype, :input_scitype, :target_scitype, :output_scitype)}}:\n",
       " (name = ABODDetector, package_name = OutlierDetectionNeighbors, ... )\n",
       " (name = ABODDetector, package_name = OutlierDetectionPython, ... )\n",
       " (name = ARDRegressor, package_name = MLJScikitLearnInterface, ... )\n",
       " (name = AdaBoostClassifier, package_name = MLJScikitLearnInterface, ... )\n",
       " (name = AdaBoostRegressor, package_name = MLJScikitLearnInterface, ... )\n",
       " (name = AdaBoostStumpClassifier, package_name = DecisionTree, ... )\n",
       " (name = AffinityPropagation, package_name = MLJScikitLearnInterface, ... )\n",
       " (name = AgglomerativeClustering, package_name = MLJScikitLearnInterface, ... )\n",
       " (name = AutoEncoder, package_name = BetaML, ... )\n",
       " (name = BM25Transformer, package_name = MLJText, ... )\n",
       " (name = BaggingClassifier, package_name = MLJScikitLearnInterface, ... )\n",
       " (name = BaggingRegressor, package_name = MLJScikitLearnInterface, ... )\n",
       " (name = BayesianLDA, package_name = MLJScikitLearnInterface, ... )\n",
       " ⋮\n",
       " (name = TSVDTransformer, package_name = TSVD, ... )\n",
       " (name = TfidfTransformer, package_name = MLJText, ... )\n",
       " (name = TheilSenRegressor, package_name = MLJScikitLearnInterface, ... )\n",
       " (name = TomekUndersampler, package_name = Imbalance, ... )\n",
       " (name = UnivariateBoxCoxTransformer, package_name = MLJModels, ... )\n",
       " (name = UnivariateDiscretizer, package_name = MLJModels, ... )\n",
       " (name = UnivariateFillImputer, package_name = MLJModels, ... )\n",
       " (name = UnivariateStandardizer, package_name = MLJModels, ... )\n",
       " (name = UnivariateTimeTypeToContinuous, package_name = MLJModels, ... )\n",
       " (name = XGBoostClassifier, package_name = XGBoost, ... )\n",
       " (name = XGBoostCount, package_name = XGBoost, ... )\n",
       " (name = XGBoostRegressor, package_name = XGBoost, ... )"
      ]
     },
     "execution_count": 13,
     "metadata": {},
     "output_type": "execute_result"
    }
   ],
   "source": [
    "# Search all models available\n",
    "all_models = models()"
   ]
  },
  {
   "cell_type": "code",
   "execution_count": 14,
   "id": "4412d135",
   "metadata": {},
   "outputs": [
    {
     "data": {
      "text/plain": [
       "12-element Vector{NamedTuple{(:name, :package_name, :is_supervised, :abstract_type, :constructor, :deep_properties, :docstring, :fit_data_scitype, :human_name, :hyperparameter_ranges, :hyperparameter_types, :hyperparameters, :implemented_methods, :inverse_transform_scitype, :is_pure_julia, :is_wrapper, :iteration_parameter, :load_path, :package_license, :package_url, :package_uuid, :predict_scitype, :prediction_type, :reporting_operations, :reports_feature_importances, :supports_class_weights, :supports_online, :supports_training_losses, :supports_weights, :target_in_fit, :transform_scitype, :input_scitype, :target_scitype, :output_scitype)}}:\n",
       " (name = EvoLinearRegressor, package_name = EvoLinear, ... )\n",
       " (name = EvoSplineRegressor, package_name = EvoLinear, ... )\n",
       " (name = LinearBinaryClassifier, package_name = GLM, ... )\n",
       " (name = LinearCountRegressor, package_name = GLM, ... )\n",
       " (name = LinearRegressor, package_name = GLM, ... )\n",
       " (name = LinearRegressor, package_name = MLJLinearModels, ... )\n",
       " (name = LinearRegressor, package_name = MLJScikitLearnInterface, ... )\n",
       " (name = LinearRegressor, package_name = MultivariateStats, ... )\n",
       " (name = MultitargetLinearRegressor, package_name = MultivariateStats, ... )\n",
       " (name = MultitargetRidgeRegressor, package_name = MultivariateStats, ... )\n",
       " (name = RidgeRegressor, package_name = MultivariateStats, ... )\n",
       " (name = SVMLinearRegressor, package_name = MLJScikitLearnInterface, ... )"
      ]
     },
     "execution_count": 14,
     "metadata": {},
     "output_type": "execute_result"
    }
   ],
   "source": [
    "# Search specified models\n",
    "some_models = models(\"LinearRegressor\")"
   ]
  },
  {
   "cell_type": "code",
   "execution_count": 15,
   "id": "132012cc",
   "metadata": {},
   "outputs": [
    {
     "data": {
      "text/plain": [
       "(name = \"EvoLinearRegressor\",\n",
       " package_name = \"EvoLinear\",\n",
       " is_supervised = true,\n",
       " abstract_type = Deterministic,\n",
       " constructor = nothing,\n",
       " deep_properties = (),\n",
       " docstring = \"```\\nEvoLinearRegressor(; kwargs...)\\n```\\n\\nA model t...\",\n",
       " fit_data_scitype =\n",
       "     Tuple{Union{Table{<:Union{AbstractVector{<:Continuous}, AbstractVector{<:Count}, AbstractVector{<:OrderedFactor}}}, AbstractMatrix{Continuous}}, AbstractVector{<:Continuous}},\n",
       " human_name = \"evo linear regressor\",\n",
       " hyperparameter_ranges =\n",
       "     (nothing, nothing, nothing, nothing, nothing, nothing, nothing),\n",
       " hyperparameter_types =\n",
       "     (\"Symbol\", \"Int64\", \"Any\", \"Any\", \"Any\", \"Any\", \"Symbol\"),\n",
       " hyperparameters = (:updater, :nrounds, :eta, :L1, :L2, :rng, :device),\n",
       " implemented_methods = [:fit, :predict, :update],\n",
       " inverse_transform_scitype = Unknown,\n",
       " is_pure_julia = true,\n",
       " is_wrapper = false,\n",
       " iteration_parameter = :nrounds,\n",
       " load_path = \"EvoLinear.EvoLinearRegressor\",\n",
       " package_license = \"MIT\",\n",
       " package_url = \"https://github.com/jeremiedb/EvoLinear.jl\",\n",
       " package_uuid = \"ab853011-1780-437f-b4b5-5de6f4777246\",\n",
       " predict_scitype = AbstractVector{<:Continuous},\n",
       " prediction_type = :deterministic,\n",
       " reporting_operations = (),\n",
       " reports_feature_importances = false,\n",
       " supports_class_weights = false,\n",
       " supports_online = false,\n",
       " supports_training_losses = false,\n",
       " supports_weights = false,\n",
       " target_in_fit = true,\n",
       " transform_scitype = Unknown,\n",
       " input_scitype =\n",
       "     Union{Table{<:Union{AbstractVector{<:Continuous}, AbstractVector{<:Count}, AbstractVector{<:OrderedFactor}}}, AbstractMatrix{Continuous}},\n",
       " target_scitype = AbstractVector{<:Continuous},\n",
       " output_scitype = Unknown)"
      ]
     },
     "execution_count": 15,
     "metadata": {},
     "output_type": "execute_result"
    }
   ],
   "source": [
    "# Shows details of specified model\n",
    "meta = some_models[1]"
   ]
  },
  {
   "cell_type": "code",
   "execution_count": 16,
   "id": "817896d4",
   "metadata": {},
   "outputs": [
    {
     "data": {
      "text/plain": [
       "AbstractVector{<:Continuous}\u001b[90m (alias for \u001b[39m\u001b[90mAbstractArray{<:Continuous, 1}\u001b[39m\u001b[90m)\u001b[39m"
      ]
     },
     "execution_count": 16,
     "metadata": {},
     "output_type": "execute_result"
    }
   ],
   "source": [
    "# Extract the variable type from the initial model\n",
    "targetscitype = meta.target_scitype"
   ]
  },
  {
   "cell_type": "code",
   "execution_count": 17,
   "id": "4ff8251e",
   "metadata": {},
   "outputs": [
    {
     "data": {
      "text/plain": [
       "false"
      ]
     },
     "execution_count": 17,
     "metadata": {},
     "output_type": "execute_result"
    }
   ],
   "source": [
    "# Checks if you can use the initial model with our variable\n",
    "scitype(y) <: targetscitype"
   ]
  },
  {
   "cell_type": "code",
   "execution_count": 18,
   "id": "e71d849e",
   "metadata": {},
   "outputs": [
    {
     "data": {
      "text/plain": [
       "filter_julia_classifiers (generic function with 1 method)"
      ]
     },
     "execution_count": 18,
     "metadata": {},
     "output_type": "execute_result"
    }
   ],
   "source": [
    "# Function to filter classification models\n",
    "filter_julia_classifiers(meta) = AbstractVector{Finite} <: meta.target_scitype && meta.is_pure_julia"
   ]
  },
  {
   "cell_type": "code",
   "execution_count": 19,
   "id": "4e9e367b",
   "metadata": {},
   "outputs": [
    {
     "data": {
      "text/plain": [
       "25-element Vector{NamedTuple{(:name, :package_name, :is_supervised, :abstract_type, :constructor, :deep_properties, :docstring, :fit_data_scitype, :human_name, :hyperparameter_ranges, :hyperparameter_types, :hyperparameters, :implemented_methods, :inverse_transform_scitype, :is_pure_julia, :is_wrapper, :iteration_parameter, :load_path, :package_license, :package_url, :package_uuid, :predict_scitype, :prediction_type, :reporting_operations, :reports_feature_importances, :supports_class_weights, :supports_online, :supports_training_losses, :supports_weights, :target_in_fit, :transform_scitype, :input_scitype, :target_scitype, :output_scitype)}}:\n",
       " (name = AdaBoostStumpClassifier, package_name = DecisionTree, ... )\n",
       " (name = BayesianLDA, package_name = MultivariateStats, ... )\n",
       " (name = BayesianSubspaceLDA, package_name = MultivariateStats, ... )\n",
       " (name = ConstantClassifier, package_name = MLJModels, ... )\n",
       " (name = DecisionTreeClassifier, package_name = BetaML, ... )\n",
       " (name = DecisionTreeClassifier, package_name = DecisionTree, ... )\n",
       " (name = DeterministicConstantClassifier, package_name = MLJModels, ... )\n",
       " (name = EvoTreeClassifier, package_name = EvoTrees, ... )\n",
       " (name = GaussianNBClassifier, package_name = NaiveBayes, ... )\n",
       " (name = KNNClassifier, package_name = NearestNeighborModels, ... )\n",
       " (name = KernelPerceptronClassifier, package_name = BetaML, ... )\n",
       " (name = LDA, package_name = MultivariateStats, ... )\n",
       " (name = LogisticClassifier, package_name = MLJLinearModels, ... )\n",
       " (name = MultinomialClassifier, package_name = MLJLinearModels, ... )\n",
       " (name = MultinomialNBClassifier, package_name = NaiveBayes, ... )\n",
       " (name = NeuralNetworkClassifier, package_name = BetaML, ... )\n",
       " (name = NeuralNetworkClassifier, package_name = MLJFlux, ... )\n",
       " (name = OneRuleClassifier, package_name = OneRule, ... )\n",
       " (name = PegasosClassifier, package_name = BetaML, ... )\n",
       " (name = PerceptronClassifier, package_name = BetaML, ... )\n",
       " (name = RandomForestClassifier, package_name = BetaML, ... )\n",
       " (name = RandomForestClassifier, package_name = DecisionTree, ... )\n",
       " (name = StableForestClassifier, package_name = SIRUS, ... )\n",
       " (name = StableRulesClassifier, package_name = SIRUS, ... )\n",
       " (name = SubspaceLDA, package_name = MultivariateStats, ... )"
      ]
     },
     "execution_count": 19,
     "metadata": {},
     "output_type": "execute_result"
    }
   ],
   "source": [
    "# Filter models\n",
    "models(filter_julia_classifiers)"
   ]
  },
  {
   "cell_type": "code",
   "execution_count": 22,
   "id": "6ac7c6ed",
   "metadata": {},
   "outputs": [
    {
     "data": {
      "text/plain": [
       "54-element Vector{NamedTuple{(:name, :package_name, :is_supervised, :abstract_type, :constructor, :deep_properties, :docstring, :fit_data_scitype, :human_name, :hyperparameter_ranges, :hyperparameter_types, :hyperparameters, :implemented_methods, :inverse_transform_scitype, :is_pure_julia, :is_wrapper, :iteration_parameter, :load_path, :package_license, :package_url, :package_uuid, :predict_scitype, :prediction_type, :reporting_operations, :reports_feature_importances, :supports_class_weights, :supports_online, :supports_training_losses, :supports_weights, :target_in_fit, :transform_scitype, :input_scitype, :target_scitype, :output_scitype)}}:\n",
       " (name = AdaBoostClassifier, package_name = MLJScikitLearnInterface, ... )\n",
       " (name = AdaBoostStumpClassifier, package_name = DecisionTree, ... )\n",
       " (name = BaggingClassifier, package_name = MLJScikitLearnInterface, ... )\n",
       " (name = BayesianLDA, package_name = MLJScikitLearnInterface, ... )\n",
       " (name = BayesianLDA, package_name = MultivariateStats, ... )\n",
       " (name = BayesianQDA, package_name = MLJScikitLearnInterface, ... )\n",
       " (name = BayesianSubspaceLDA, package_name = MultivariateStats, ... )\n",
       " (name = CatBoostClassifier, package_name = CatBoost, ... )\n",
       " (name = ConstantClassifier, package_name = MLJModels, ... )\n",
       " (name = DecisionTreeClassifier, package_name = BetaML, ... )\n",
       " (name = DecisionTreeClassifier, package_name = DecisionTree, ... )\n",
       " (name = DeterministicConstantClassifier, package_name = MLJModels, ... )\n",
       " (name = DummyClassifier, package_name = MLJScikitLearnInterface, ... )\n",
       " ⋮\n",
       " (name = RandomForestClassifier, package_name = MLJScikitLearnInterface, ... )\n",
       " (name = RidgeCVClassifier, package_name = MLJScikitLearnInterface, ... )\n",
       " (name = RidgeClassifier, package_name = MLJScikitLearnInterface, ... )\n",
       " (name = SGDClassifier, package_name = MLJScikitLearnInterface, ... )\n",
       " (name = SVC, package_name = LIBSVM, ... )\n",
       " (name = SVMClassifier, package_name = MLJScikitLearnInterface, ... )\n",
       " (name = SVMLinearClassifier, package_name = MLJScikitLearnInterface, ... )\n",
       " (name = SVMNuClassifier, package_name = MLJScikitLearnInterface, ... )\n",
       " (name = StableForestClassifier, package_name = SIRUS, ... )\n",
       " (name = StableRulesClassifier, package_name = SIRUS, ... )\n",
       " (name = SubspaceLDA, package_name = MultivariateStats, ... )\n",
       " (name = XGBoostClassifier, package_name = XGBoost, ... )"
      ]
     },
     "execution_count": 22,
     "metadata": {},
     "output_type": "execute_result"
    }
   ],
   "source": [
    "# Models that can be used with our variables\n",
    "models(matching(X, y))"
   ]
  },
  {
   "cell_type": "code",
   "execution_count": 23,
   "id": "f217e5f4",
   "metadata": {},
   "outputs": [
    {
     "name": "stderr",
     "output_type": "stream",
     "text": [
      "\u001b[32m\u001b[1m   Resolving\u001b[22m\u001b[39m package versions...\n",
      "\u001b[32m\u001b[1m   Installed\u001b[22m\u001b[39m ZygoteRules ────────── v0.2.5\n",
      "\u001b[32m\u001b[1m   Installed\u001b[22m\u001b[39m Optimisers ─────────── v0.3.3\n",
      "\u001b[32m\u001b[1m   Installed\u001b[22m\u001b[39m RealDot ────────────── v0.1.0\n",
      "\u001b[32m\u001b[1m   Installed\u001b[22m\u001b[39m IRTools ────────────── v0.4.14\n",
      "\u001b[32m\u001b[1m   Installed\u001b[22m\u001b[39m FileIO ─────────────── v1.16.3\n",
      "\u001b[32m\u001b[1m   Installed\u001b[22m\u001b[39m JLD2 ───────────────── v0.4.51\n",
      "\u001b[32m\u001b[1m   Installed\u001b[22m\u001b[39m GPUArrays ──────────── v10.3.0\n",
      "\u001b[32m\u001b[1m   Installed\u001b[22m\u001b[39m Functors ───────────── v0.4.12\n",
      "\u001b[32m\u001b[1m   Installed\u001b[22m\u001b[39m ProgressLogging ────── v0.1.4\n",
      "\u001b[32m\u001b[1m   Installed\u001b[22m\u001b[39m CommonSubexpressions ─ v0.3.0\n",
      "\u001b[32m\u001b[1m   Installed\u001b[22m\u001b[39m OneHotArrays ───────── v0.2.5\n",
      "\u001b[32m\u001b[1m   Installed\u001b[22m\u001b[39m Metalhead ──────────── v0.9.3\n",
      "\u001b[32m\u001b[1m   Installed\u001b[22m\u001b[39m ChainRules ─────────── v1.69.0\n",
      "\u001b[32m\u001b[1m   Installed\u001b[22m\u001b[39m MLJFlux ────────────── v0.5.1\n",
      "\u001b[32m\u001b[1m   Installed\u001b[22m\u001b[39m Zygote ─────────────── v0.6.70\n",
      "\u001b[32m\u001b[1m   Installed\u001b[22m\u001b[39m DiffResults ────────── v1.1.0\n",
      "\u001b[32m\u001b[1m   Installed\u001b[22m\u001b[39m DiffRules ──────────── v1.15.1\n",
      "\u001b[32m\u001b[1m   Installed\u001b[22m\u001b[39m AbstractFFTs ───────── v1.5.0\n",
      "\u001b[32m\u001b[1m   Installed\u001b[22m\u001b[39m Flux ───────────────── v0.14.16\n",
      "\u001b[32m\u001b[1m   Installed\u001b[22m\u001b[39m SparseInverseSubset ── v0.1.2\n",
      "\u001b[32m\u001b[1m   Installed\u001b[22m\u001b[39m ForwardDiff ────────── v0.10.36\n",
      "\u001b[32m\u001b[1m   Installed\u001b[22m\u001b[39m BSON ───────────────── v0.3.9\n",
      "\u001b[32m\u001b[1m   Installed\u001b[22m\u001b[39m PartialFunctions ───── v1.2.0\n",
      "\u001b[32m\u001b[1m   Installed\u001b[22m\u001b[39m StructArrays ───────── v0.6.18\n",
      "\u001b[32m\u001b[1m    Updating\u001b[22m\u001b[39m `C:\\Users\\silvi\\Documents\\workspace\\env\\Project.toml`\n",
      "  \u001b[90m[094fc8d1] \u001b[39m\u001b[92m+ MLJFlux v0.5.1\u001b[39m\n",
      "\u001b[32m\u001b[1m    Updating\u001b[22m\u001b[39m `C:\\Users\\silvi\\Documents\\workspace\\env\\Manifest.toml`\n",
      "  \u001b[90m[621f4979] \u001b[39m\u001b[92m+ AbstractFFTs v1.5.0\u001b[39m\n",
      "  \u001b[90m[fbb218c0] \u001b[39m\u001b[92m+ BSON v0.3.9\u001b[39m\n",
      "  \u001b[90m[082447d4] \u001b[39m\u001b[92m+ ChainRules v1.69.0\u001b[39m\n",
      "  \u001b[90m[bbf7d656] \u001b[39m\u001b[92m+ CommonSubexpressions v0.3.0\u001b[39m\n",
      "  \u001b[90m[163ba53b] \u001b[39m\u001b[92m+ DiffResults v1.1.0\u001b[39m\n",
      "  \u001b[90m[b552c78f] \u001b[39m\u001b[92m+ DiffRules v1.15.1\u001b[39m\n",
      "  \u001b[90m[5789e2e9] \u001b[39m\u001b[92m+ FileIO v1.16.3\u001b[39m\n",
      "  \u001b[90m[587475ba] \u001b[39m\u001b[92m+ Flux v0.14.16\u001b[39m\n",
      "  \u001b[90m[f6369f11] \u001b[39m\u001b[92m+ ForwardDiff v0.10.36\u001b[39m\n",
      "  \u001b[90m[d9f16b24] \u001b[39m\u001b[92m+ Functors v0.4.12\u001b[39m\n",
      "  \u001b[90m[0c68f7d7] \u001b[39m\u001b[92m+ GPUArrays v10.3.0\u001b[39m\n",
      "  \u001b[90m[7869d1d1] \u001b[39m\u001b[92m+ IRTools v0.4.14\u001b[39m\n",
      "  \u001b[90m[033835bb] \u001b[39m\u001b[92m+ JLD2 v0.4.51\u001b[39m\n",
      "  \u001b[90m[094fc8d1] \u001b[39m\u001b[92m+ MLJFlux v0.5.1\u001b[39m\n",
      "  \u001b[90m[dbeba491] \u001b[39m\u001b[92m+ Metalhead v0.9.3\u001b[39m\n",
      "  \u001b[90m[0b1bfda6] \u001b[39m\u001b[92m+ OneHotArrays v0.2.5\u001b[39m\n",
      "  \u001b[90m[3bd65402] \u001b[39m\u001b[92m+ Optimisers v0.3.3\u001b[39m\n",
      "  \u001b[90m[570af359] \u001b[39m\u001b[92m+ PartialFunctions v1.2.0\u001b[39m\n",
      "  \u001b[90m[33c8b6b6] \u001b[39m\u001b[92m+ ProgressLogging v0.1.4\u001b[39m\n",
      "  \u001b[90m[c1ae055f] \u001b[39m\u001b[92m+ RealDot v0.1.0\u001b[39m\n",
      "  \u001b[90m[dc90abb0] \u001b[39m\u001b[92m+ SparseInverseSubset v0.1.2\u001b[39m\n",
      "  \u001b[90m[09ab397b] \u001b[39m\u001b[92m+ StructArrays v0.6.18\u001b[39m\n",
      "  \u001b[90m[e88e6eb3] \u001b[39m\u001b[92m+ Zygote v0.6.70\u001b[39m\n",
      "  \u001b[90m[700de1a5] \u001b[39m\u001b[92m+ ZygoteRules v0.2.5\u001b[39m\n",
      "\u001b[32m\u001b[1mPrecompiling\u001b[22m\u001b[39m project...\n",
      "\u001b[32m  ✓ \u001b[39m\u001b[90mRealDot\u001b[39m\n",
      "\u001b[32m  ✓ \u001b[39m\u001b[90mProgressLogging\u001b[39m\n",
      "\u001b[32m  ✓ \u001b[39m\u001b[90mAbstractFFTs\u001b[39m\n",
      "\u001b[32m  ✓ \u001b[39m\u001b[90mCommonSubexpressions\u001b[39m\n",
      "\u001b[32m  ✓ \u001b[39m\u001b[90mFunctors\u001b[39m\n",
      "\u001b[32m  ✓ \u001b[39m\u001b[90mBSON\u001b[39m\n",
      "\u001b[32m  ✓ \u001b[39m\u001b[90mSparseInverseSubset\u001b[39m\n",
      "\u001b[32m  ✓ \u001b[39m\u001b[90mDiffResults\u001b[39m\n",
      "\u001b[32m  ✓ \u001b[39m\u001b[90mPartialFunctions\u001b[39m\n",
      "\u001b[32m  ✓ \u001b[39m\u001b[90mIRTools\u001b[39m\n",
      "\u001b[32m  ✓ \u001b[39m\u001b[90mStructArrays\u001b[39m\n",
      "\u001b[32m  ✓ \u001b[39m\u001b[90mZygoteRules\u001b[39m\n",
      "\u001b[32m  ✓ \u001b[39m\u001b[90mDiffRules\u001b[39m\n",
      "\u001b[32m  ✓ \u001b[39m\u001b[90mOneHotArrays\u001b[39m\n",
      "\u001b[32m  ✓ \u001b[39m\u001b[90mFileIO\u001b[39m\n",
      "\u001b[32m  ✓ \u001b[39m\u001b[90mAbstractFFTs → AbstractFFTsChainRulesCoreExt\u001b[39m\n",
      "\u001b[32m  ✓ \u001b[39m\u001b[90mGPUArrays\u001b[39m\n",
      "\u001b[32m  ✓ \u001b[39m\u001b[90mAccessors → AccessorsStructArraysExt\u001b[39m\n",
      "\u001b[32m  ✓ \u001b[39m\u001b[90mOptimisers\u001b[39m\n",
      "\u001b[32m  ✓ \u001b[39m\u001b[90mStructArrays → StructArraysGPUArraysCoreExt\u001b[39m\n",
      "\u001b[32m  ✓ \u001b[39m\u001b[90mAbstractFFTs → AbstractFFTsTestExt\u001b[39m\n",
      "\u001b[32m  ✓ \u001b[39m\u001b[90mBangBang → BangBangStructArraysExt\u001b[39m\n",
      "\u001b[32m  ✓ \u001b[39m\u001b[90mStructArrays → StructArraysStaticArraysExt\u001b[39m\n",
      "\u001b[32m  ✓ \u001b[39m\u001b[90mStructArrays → StructArraysSparseArraysExt\u001b[39m\n",
      "\u001b[32m  ✓ \u001b[39m\u001b[90mStructArrays → StructArraysAdaptExt\u001b[39m\n",
      "\u001b[32m  ✓ \u001b[39m\u001b[90mForwardDiff\u001b[39m\n",
      "\u001b[32m  ✓ \u001b[39m\u001b[90mForwardDiff → ForwardDiffStaticArraysExt\u001b[39m\n",
      "\u001b[32m  ✓ \u001b[39m\u001b[90mChainRules\u001b[39m\n",
      "\u001b[32m  ✓ \u001b[39m\u001b[90mZygote\u001b[39m\n",
      "\u001b[32m  ✓ \u001b[39m\u001b[90mZygote → ZygoteDistancesExt\u001b[39m\n",
      "\u001b[32m  ✓ \u001b[39m\u001b[90mFlux\u001b[39m\n",
      "\u001b[32m  ✓ \u001b[39m\u001b[90mJLD2\u001b[39m\n",
      "\u001b[32m  ✓ \u001b[39m\u001b[90mMetalhead\u001b[39m\n",
      "\u001b[32m  ✓ \u001b[39mMLJFlux\n",
      "  34 dependencies successfully precompiled in 201 seconds. 169 already precompiled.\n"
     ]
    }
   ],
   "source": [
    "Pkg.add(\"MLJFlux\")"
   ]
  },
  {
   "cell_type": "code",
   "execution_count": 56,
   "id": "2757cd56",
   "metadata": {},
   "outputs": [
    {
     "data": {
      "text/plain": [
       "NeuralNetworkClassifier(\n",
       "  builder = Short(\n",
       "        n_hidden = 0, \n",
       "        dropout = 0.5, \n",
       "        σ = NNlib.σ), \n",
       "  finaliser = NNlib.softmax, \n",
       "  optimiser = Adam(0.001, (0.9, 0.999), 1.0e-8), \n",
       "  loss = Flux.Losses.crossentropy, \n",
       "  epochs = 10, \n",
       "  batch_size = 1, \n",
       "  lambda = 0.0, \n",
       "  alpha = 0.0, \n",
       "  rng = Random.TaskLocalRNG(), \n",
       "  optimiser_changes_trigger_retraining = false, \n",
       "  acceleration = CPU1{Nothing}(nothing))"
      ]
     },
     "execution_count": 56,
     "metadata": {},
     "output_type": "execute_result"
    }
   ],
   "source": [
    "# Load Neural Network Classifier algorithm\n",
    "using MLJFlux\n",
    "\n",
    "model = NeuralNetworkClassifier()"
   ]
  },
  {
   "cell_type": "code",
   "execution_count": 57,
   "id": "01f4b863",
   "metadata": {},
   "outputs": [
    {
     "data": {
      "text/plain": [
       "(name = \"NeuralNetworkClassifier\",\n",
       " package_name = \"MLJFlux\",\n",
       " is_supervised = true,\n",
       " abstract_type = Probabilistic,\n",
       " constructor = nothing,\n",
       " deep_properties = (:optimiser, :builder),\n",
       " docstring = \"```\\nNeuralNetworkClassifier\\n```\\n\\nA model type for ...\",\n",
       " fit_data_scitype =\n",
       "     Tuple{Union{Table{<:AbstractVector{<:Continuous}}, AbstractMatrix{Continuous}}, AbstractVector{<:Finite}},\n",
       " human_name = \"neural network classifier\",\n",
       " hyperparameter_ranges = (nothing,\n",
       "                          nothing,\n",
       "                          nothing,\n",
       "                          nothing,\n",
       "                          nothing,\n",
       "                          nothing,\n",
       "                          nothing,\n",
       "                          nothing,\n",
       "                          nothing,\n",
       "                          nothing,\n",
       "                          nothing),\n",
       " hyperparameter_types = (\"MLJFlux.Short\",\n",
       "                         \"typeof(softmax)\",\n",
       "                         \"Optimisers.Adam\",\n",
       "                         \"typeof(Flux.Losses.crossentropy)\",\n",
       "                         \"Int64\",\n",
       "                         \"Int64\",\n",
       "                         \"Float64\",\n",
       "                         \"Float64\",\n",
       "                         \"Union{Int64, Random.AbstractRNG}\",\n",
       "                         \"Bool\",\n",
       "                         \"ComputationalResources.AbstractResource\"),\n",
       " hyperparameters = (:builder,\n",
       "                    :finaliser,\n",
       "                    :optimiser,\n",
       "                    :loss,\n",
       "                    :epochs,\n",
       "                    :batch_size,\n",
       "                    :lambda,\n",
       "                    :alpha,\n",
       "                    :rng,\n",
       "                    :optimiser_changes_trigger_retraining,\n",
       "                    :acceleration),\n",
       " implemented_methods = [],\n",
       " inverse_transform_scitype = Unknown,\n",
       " is_pure_julia = true,\n",
       " is_wrapper = false,\n",
       " iteration_parameter = :epochs,\n",
       " load_path = \"MLJFlux.NeuralNetworkClassifier\",\n",
       " package_license = \"MIT\",\n",
       " package_url = \"https://github.com/alan-turing-institute/MLJFlux.jl\",\n",
       " package_uuid = \"094fc8d1-fd35-5302-93ea-dabda2abf845\",\n",
       " predict_scitype =\n",
       "     AbstractVector{ScientificTypesBase.Density{_s25} where _s25<:Finite},\n",
       " prediction_type = :probabilistic,\n",
       " reporting_operations = (),\n",
       " reports_feature_importances = false,\n",
       " supports_class_weights = false,\n",
       " supports_online = false,\n",
       " supports_training_losses = true,\n",
       " supports_weights = false,\n",
       " target_in_fit = true,\n",
       " transform_scitype = Unknown,\n",
       " input_scitype =\n",
       "     Union{Table{<:AbstractVector{<:Continuous}}, AbstractMatrix{Continuous}},\n",
       " target_scitype = AbstractVector{<:Finite},\n",
       " output_scitype = Unknown)"
      ]
     },
     "execution_count": 57,
     "metadata": {},
     "output_type": "execute_result"
    }
   ],
   "source": [
    "info(model)"
   ]
  },
  {
   "cell_type": "code",
   "execution_count": 59,
   "id": "d2e83db3",
   "metadata": {},
   "outputs": [
    {
     "data": {
      "text/plain": [
       "30"
      ]
     },
     "execution_count": 59,
     "metadata": {},
     "output_type": "execute_result"
    }
   ],
   "source": [
    "# Number of epochs to train the model\n",
    "model.epochs = 30"
   ]
  },
  {
   "cell_type": "code",
   "execution_count": 60,
   "id": "bc11ab8d",
   "metadata": {},
   "outputs": [
    {
     "data": {
      "text/plain": [
       "true"
      ]
     },
     "execution_count": 60,
     "metadata": {},
     "output_type": "execute_result"
    }
   ],
   "source": [
    "# Checks if the model is ready to be trained in 30 epochs\n",
    "NeuralNetworkClassifier(epochs = 30) == model"
   ]
  },
  {
   "cell_type": "code",
   "execution_count": 61,
   "id": "ba8b8e32",
   "metadata": {},
   "outputs": [
    {
     "data": {
      "text/plain": [
       "untrained Machine; caches model-specific representations of data\n",
       "  model: NeuralNetworkClassifier(builder = Short(n_hidden = 0, …), …)\n",
       "  args: \n",
       "    1:\tSource @735 ⏎ Table{AbstractVector{Continuous}}\n",
       "    2:\tSource @232 ⏎ AbstractVector{Multiclass{3}}\n"
      ]
     },
     "execution_count": 61,
     "metadata": {},
     "output_type": "execute_result"
    }
   ],
   "source": [
    "# Create the object that stores the trained model\n",
    "mach = machine(model, X, y)"
   ]
  },
  {
   "cell_type": "code",
   "execution_count": 62,
   "id": "2d5b8df9",
   "metadata": {},
   "outputs": [
    {
     "data": {
      "text/plain": [
       "([1, 2, 3, 4, 5, 6, 7, 8, 9, 10  …  96, 97, 98, 99, 100, 101, 102, 103, 104, 105], [106, 107, 108, 109, 110, 111, 112, 113, 114, 115  …  141, 142, 143, 144, 145, 146, 147, 148, 149, 150])"
      ]
     },
     "execution_count": 62,
     "metadata": {},
     "output_type": "execute_result"
    }
   ],
   "source": [
    "# Split data\n",
    "train, test = partition(1:length(y), 0.7)"
   ]
  },
  {
   "cell_type": "code",
   "execution_count": 63,
   "id": "0598c96b",
   "metadata": {},
   "outputs": [
    {
     "name": "stderr",
     "output_type": "stream",
     "text": [
      "\u001b[36m\u001b[1m[ \u001b[22m\u001b[39m\u001b[36m\u001b[1mInfo: \u001b[22m\u001b[39mTraining machine(NeuralNetworkClassifier(builder = Short(n_hidden = 0, …), …), …).\n",
      "\u001b[36m\u001b[1m[ \u001b[22m\u001b[39m\u001b[36m\u001b[1mInfo: \u001b[22m\u001b[39mLoss is 1.987\n",
      "\u001b[36m\u001b[1m[ \u001b[22m\u001b[39m\u001b[36m\u001b[1mInfo: \u001b[22m\u001b[39mLoss is 1.415\n",
      "\u001b[36m\u001b[1m[ \u001b[22m\u001b[39m\u001b[36m\u001b[1mInfo: \u001b[22m\u001b[39mLoss is 1.236\n",
      "\u001b[36m\u001b[1m[ \u001b[22m\u001b[39m\u001b[36m\u001b[1mInfo: \u001b[22m\u001b[39mLoss is 1.348\n",
      "\u001b[36m\u001b[1m[ \u001b[22m\u001b[39m\u001b[36m\u001b[1mInfo: \u001b[22m\u001b[39mLoss is 1.284\n",
      "\u001b[36m\u001b[1m[ \u001b[22m\u001b[39m\u001b[36m\u001b[1mInfo: \u001b[22m\u001b[39mLoss is 1.123\n",
      "\u001b[36m\u001b[1m[ \u001b[22m\u001b[39m\u001b[36m\u001b[1mInfo: \u001b[22m\u001b[39mLoss is 1.105\n",
      "\u001b[36m\u001b[1m[ \u001b[22m\u001b[39m\u001b[36m\u001b[1mInfo: \u001b[22m\u001b[39mLoss is 1.076\n",
      "\u001b[36m\u001b[1m[ \u001b[22m\u001b[39m\u001b[36m\u001b[1mInfo: \u001b[22m\u001b[39mLoss is 1.121\n",
      "\u001b[36m\u001b[1m[ \u001b[22m\u001b[39m\u001b[36m\u001b[1mInfo: \u001b[22m\u001b[39mLoss is 1.042\n",
      "\u001b[36m\u001b[1m[ \u001b[22m\u001b[39m\u001b[36m\u001b[1mInfo: \u001b[22m\u001b[39mLoss is 1.045\n",
      "\u001b[36m\u001b[1m[ \u001b[22m\u001b[39m\u001b[36m\u001b[1mInfo: \u001b[22m\u001b[39mLoss is 1.094\n",
      "\u001b[36m\u001b[1m[ \u001b[22m\u001b[39m\u001b[36m\u001b[1mInfo: \u001b[22m\u001b[39mLoss is 0.9427\n",
      "\u001b[36m\u001b[1m[ \u001b[22m\u001b[39m\u001b[36m\u001b[1mInfo: \u001b[22m\u001b[39mLoss is 0.9841\n",
      "\u001b[36m\u001b[1m[ \u001b[22m\u001b[39m\u001b[36m\u001b[1mInfo: \u001b[22m\u001b[39mLoss is 1.015\n",
      "\u001b[36m\u001b[1m[ \u001b[22m\u001b[39m\u001b[36m\u001b[1mInfo: \u001b[22m\u001b[39mLoss is 0.9813\n",
      "\u001b[36m\u001b[1m[ \u001b[22m\u001b[39m\u001b[36m\u001b[1mInfo: \u001b[22m\u001b[39mLoss is 0.9519\n",
      "\u001b[36m\u001b[1m[ \u001b[22m\u001b[39m\u001b[36m\u001b[1mInfo: \u001b[22m\u001b[39mLoss is 0.9707\n",
      "\u001b[36m\u001b[1m[ \u001b[22m\u001b[39m\u001b[36m\u001b[1mInfo: \u001b[22m\u001b[39mLoss is 0.9587\n",
      "\u001b[36m\u001b[1m[ \u001b[22m\u001b[39m\u001b[36m\u001b[1mInfo: \u001b[22m\u001b[39mLoss is 0.9141\n",
      "\u001b[36m\u001b[1m[ \u001b[22m\u001b[39m\u001b[36m\u001b[1mInfo: \u001b[22m\u001b[39mLoss is 0.916\n",
      "\u001b[36m\u001b[1m[ \u001b[22m\u001b[39m\u001b[36m\u001b[1mInfo: \u001b[22m\u001b[39mLoss is 0.8736\n",
      "\u001b[36m\u001b[1m[ \u001b[22m\u001b[39m\u001b[36m\u001b[1mInfo: \u001b[22m\u001b[39mLoss is 0.95\n",
      "\u001b[36m\u001b[1m[ \u001b[22m\u001b[39m\u001b[36m\u001b[1mInfo: \u001b[22m\u001b[39mLoss is 0.9776\n",
      "\u001b[36m\u001b[1m[ \u001b[22m\u001b[39m\u001b[36m\u001b[1mInfo: \u001b[22m\u001b[39mLoss is 1.001\n",
      "\u001b[36m\u001b[1m[ \u001b[22m\u001b[39m\u001b[36m\u001b[1mInfo: \u001b[22m\u001b[39mLoss is 0.8936\n",
      "\u001b[36m\u001b[1m[ \u001b[22m\u001b[39m\u001b[36m\u001b[1mInfo: \u001b[22m\u001b[39mLoss is 0.8963\n",
      "\u001b[36m\u001b[1m[ \u001b[22m\u001b[39m\u001b[36m\u001b[1mInfo: \u001b[22m\u001b[39mLoss is 0.8978\n",
      "\u001b[36m\u001b[1m[ \u001b[22m\u001b[39m\u001b[36m\u001b[1mInfo: \u001b[22m\u001b[39mLoss is 0.84\n",
      "\u001b[36m\u001b[1m[ \u001b[22m\u001b[39m\u001b[36m\u001b[1mInfo: \u001b[22m\u001b[39mLoss is 0.9235\n"
     ]
    },
    {
     "data": {
      "text/plain": [
       "trained Machine; caches model-specific representations of data\n",
       "  model: NeuralNetworkClassifier(builder = Short(n_hidden = 0, …), …)\n",
       "  args: \n",
       "    1:\tSource @735 ⏎ Table{AbstractVector{Continuous}}\n",
       "    2:\tSource @232 ⏎ AbstractVector{Multiclass{3}}\n"
      ]
     },
     "execution_count": 63,
     "metadata": {},
     "output_type": "execute_result"
    }
   ],
   "source": [
    "# Train model\n",
    "fit!(mach, rows = train, verbosity = 2)"
   ]
  },
  {
   "cell_type": "code",
   "execution_count": 64,
   "id": "ed975323",
   "metadata": {},
   "outputs": [
    {
     "data": {
      "text/plain": [
       "45-element CategoricalDistributions.UnivariateFiniteVector{Multiclass{3}, String, UInt32, Float32}:\n",
       " UnivariateFinite{Multiclass{3}}(Iris-setosa=>0.259, Iris-versicolor=>0.359, Iris-virginica=>0.382)\n",
       " UnivariateFinite{Multiclass{3}}(Iris-setosa=>0.232, Iris-versicolor=>0.369, Iris-virginica=>0.399)\n",
       " UnivariateFinite{Multiclass{3}}(Iris-setosa=>0.652, Iris-versicolor=>0.194, Iris-virginica=>0.154)\n",
       " UnivariateFinite{Multiclass{3}}(Iris-setosa=>0.217, Iris-versicolor=>0.373, Iris-virginica=>0.41)\n",
       " UnivariateFinite{Multiclass{3}}(Iris-setosa=>0.214, Iris-versicolor=>0.373, Iris-virginica=>0.413)\n",
       " UnivariateFinite{Multiclass{3}}(Iris-setosa=>0.609, Iris-versicolor=>0.216, Iris-virginica=>0.175)\n",
       " UnivariateFinite{Multiclass{3}}(Iris-setosa=>0.241, Iris-versicolor=>0.364, Iris-virginica=>0.395)\n",
       " UnivariateFinite{Multiclass{3}}(Iris-setosa=>0.252, Iris-versicolor=>0.361, Iris-virginica=>0.387)\n",
       " UnivariateFinite{Multiclass{3}}(Iris-setosa=>0.226, Iris-versicolor=>0.369, Iris-virginica=>0.405)\n",
       " UnivariateFinite{Multiclass{3}}(Iris-setosa=>0.265, Iris-versicolor=>0.357, Iris-virginica=>0.378)\n",
       " UnivariateFinite{Multiclass{3}}(Iris-setosa=>0.229, Iris-versicolor=>0.369, Iris-virginica=>0.402)\n",
       " UnivariateFinite{Multiclass{3}}(Iris-setosa=>0.246, Iris-versicolor=>0.364, Iris-virginica=>0.39)\n",
       " UnivariateFinite{Multiclass{3}}(Iris-setosa=>0.231, Iris-versicolor=>0.367, Iris-virginica=>0.402)\n",
       " ⋮\n",
       " UnivariateFinite{Multiclass{3}}(Iris-setosa=>0.23, Iris-versicolor=>0.368, Iris-virginica=>0.402)\n",
       " UnivariateFinite{Multiclass{3}}(Iris-setosa=>0.672, Iris-versicolor=>0.186, Iris-virginica=>0.142)\n",
       " UnivariateFinite{Multiclass{3}}(Iris-setosa=>0.223, Iris-versicolor=>0.37, Iris-virginica=>0.407)\n",
       " UnivariateFinite{Multiclass{3}}(Iris-setosa=>0.215, Iris-versicolor=>0.373, Iris-virginica=>0.412)\n",
       " UnivariateFinite{Multiclass{3}}(Iris-setosa=>0.221, Iris-versicolor=>0.372, Iris-virginica=>0.408)\n",
       " UnivariateFinite{Multiclass{3}}(Iris-setosa=>0.272, Iris-versicolor=>0.357, Iris-virginica=>0.371)\n",
       " UnivariateFinite{Multiclass{3}}(Iris-setosa=>0.22, Iris-versicolor=>0.371, Iris-virginica=>0.409)\n",
       " UnivariateFinite{Multiclass{3}}(Iris-setosa=>0.694, Iris-versicolor=>0.173, Iris-virginica=>0.133)\n",
       " UnivariateFinite{Multiclass{3}}(Iris-setosa=>0.214, Iris-versicolor=>0.374, Iris-virginica=>0.413)\n",
       " UnivariateFinite{Multiclass{3}}(Iris-setosa=>0.226, Iris-versicolor=>0.37, Iris-virginica=>0.405)\n",
       " UnivariateFinite{Multiclass{3}}(Iris-setosa=>0.689, Iris-versicolor=>0.175, Iris-virginica=>0.136)\n",
       " UnivariateFinite{Multiclass{3}}(Iris-setosa=>0.701, Iris-versicolor=>0.17, Iris-virginica=>0.13)"
      ]
     },
     "execution_count": 64,
     "metadata": {},
     "output_type": "execute_result"
    }
   ],
   "source": [
    "# predict\n",
    "yhat = predict(mach, rows = test)"
   ]
  },
  {
   "cell_type": "code",
   "execution_count": 66,
   "id": "c405288d",
   "metadata": {},
   "outputs": [
    {
     "data": {
      "text/plain": [
       "5-element CategoricalDistributions.UnivariateFiniteVector{Multiclass{3}, String, UInt32, Float32}:\n",
       " UnivariateFinite{Multiclass{3}}(Iris-setosa=>0.259, Iris-versicolor=>0.359, Iris-virginica=>0.382)\n",
       " UnivariateFinite{Multiclass{3}}(Iris-setosa=>0.232, Iris-versicolor=>0.369, Iris-virginica=>0.399)\n",
       " UnivariateFinite{Multiclass{3}}(Iris-setosa=>0.652, Iris-versicolor=>0.194, Iris-virginica=>0.154)\n",
       " UnivariateFinite{Multiclass{3}}(Iris-setosa=>0.217, Iris-versicolor=>0.373, Iris-virginica=>0.41)\n",
       " UnivariateFinite{Multiclass{3}}(Iris-setosa=>0.214, Iris-versicolor=>0.373, Iris-virginica=>0.413)"
      ]
     },
     "execution_count": 66,
     "metadata": {},
     "output_type": "execute_result"
    }
   ],
   "source": [
    "# Shows some predicts\n",
    "yhat[1:5]"
   ]
  },
  {
   "cell_type": "code",
   "execution_count": 67,
   "id": "cf324d26",
   "metadata": {},
   "outputs": [
    {
     "data": {
      "text/plain": [
       "(chain = Chain(Chain(Dense(4 => 3, σ), Dropout(0.5), Dense(3 => 3)), softmax),)"
      ]
     },
     "execution_count": 67,
     "metadata": {},
     "output_type": "execute_result"
    }
   ],
   "source": [
    "# Model Schema\n",
    "fitted_params(mach)"
   ]
  },
  {
   "cell_type": "code",
   "execution_count": 68,
   "id": "a3b995b0",
   "metadata": {},
   "outputs": [
    {
     "data": {
      "text/plain": [
       "(training_losses = Float32[1.5241466, 1.9870203, 1.4148554, 1.236136, 1.3484088, 1.2842779, 1.12267, 1.1054225, 1.0762986, 1.1214051  …  0.91596794, 0.87357235, 0.94996214, 0.97763664, 1.0012268, 0.89364487, 0.8963028, 0.8977697, 0.8400011, 0.9235176],)"
      ]
     },
     "execution_count": 68,
     "metadata": {},
     "output_type": "execute_result"
    }
   ],
   "source": [
    "# Error report during training\n",
    "report(mach)"
   ]
  },
  {
   "cell_type": "code",
   "execution_count": 69,
   "id": "d26906a5",
   "metadata": {},
   "outputs": [
    {
     "data": {
      "text/plain": [
       "0.7693491862898413"
      ]
     },
     "execution_count": 69,
     "metadata": {},
     "output_type": "execute_result"
    }
   ],
   "source": [
    "mean_error = cross_entropy(predict(mach, X), y) |> mean"
   ]
  },
  {
   "cell_type": "code",
   "execution_count": 70,
   "id": "7580bbbf",
   "metadata": {},
   "outputs": [
    {
     "data": {
      "text/plain": [
       "NumericRange(1 ≤ epochs ≤ 200; origin=100.5, unit=99.5; on log10 scale)"
      ]
     },
     "execution_count": 70,
     "metadata": {},
     "output_type": "execute_result"
    }
   ],
   "source": [
    "# Values to create Learning curve\n",
    "r = range(model, :epochs, lower = 1, upper = 200, scale = :log10)"
   ]
  },
  {
   "cell_type": "code",
   "execution_count": 72,
   "id": "f087f680",
   "metadata": {},
   "outputs": [
    {
     "name": "stderr",
     "output_type": "stream",
     "text": [
      "\u001b[36m\u001b[1m[ \u001b[22m\u001b[39m\u001b[36m\u001b[1mInfo: \u001b[22m\u001b[39mTraining machine(ProbabilisticTunedModel(model = NeuralNetworkClassifier(builder = Short(n_hidden = 0, …), …), …), …).\n",
      "\u001b[36m\u001b[1m[ \u001b[22m\u001b[39m\u001b[36m\u001b[1mInfo: \u001b[22m\u001b[39mAttempting to evaluate 25 models.\n",
      "\u001b[33mEvaluating over 25 metamodels: 100%[=========================] Time: 0:00:02\u001b[39m\n"
     ]
    },
    {
     "data": {
      "text/plain": [
       "(parameter_name = \"epochs\",\n",
       " parameter_scale = :log10,\n",
       " parameter_values = [1, 2, 3, 4, 5, 6, 7, 9, 11, 13  …  39, 46, 56, 67, 80, 96, 116, 139, 167, 200],\n",
       " measurements = [1.2967016764890182, 1.2568822103928414, 1.2070488538916018, 1.1550230938132522, 1.1009592230631429, 1.0508082222108606, 1.0232007607823819, 1.000976557397631, 0.9844485837922979, 0.9559276539789263  …  0.7782259700959034, 0.7392357226305146, 0.700113114035872, 0.6660250892482853, 0.6257387258024826, 0.5988707678684823, 0.581764989267229, 0.5498821934655619, 0.5144063475279499, 0.49018550562615126],)"
      ]
     },
     "execution_count": 72,
     "metadata": {},
     "output_type": "execute_result"
    }
   ],
   "source": [
    "lr_curve = learning_curve(model, X, y, range = r, resampling = Holdout(fraction_train = 0.7), measure = cross_entropy)"
   ]
  },
  {
   "cell_type": "code",
   "execution_count": 73,
   "id": "8894e4f8",
   "metadata": {},
   "outputs": [
    {
     "name": "stderr",
     "output_type": "stream",
     "text": [
      "\u001b[36m\u001b[1m[ \u001b[22m\u001b[39m\u001b[36m\u001b[1mInfo: \u001b[22m\u001b[39mPrecompiling Plots [91a5bcdd-55d7-5caf-9e0b-520d859cae80]\n",
      "\u001b[36m\u001b[1m[ \u001b[22m\u001b[39m\u001b[36m\u001b[1mInfo: \u001b[22m\u001b[39mPrecompiling ZygoteColorsExt [e68c091a-8ea5-5ca7-be4f-380657d4ad79]\n",
      "\u001b[36m\u001b[1m[ \u001b[22m\u001b[39m\u001b[36m\u001b[1mInfo: \u001b[22m\u001b[39mPrecompiling FileIOExt [f5f51d8f-5827-5d2e-939b-192fcd6ec70c]\n",
      "\u001b[36m\u001b[1m[ \u001b[22m\u001b[39m\u001b[36m\u001b[1mInfo: \u001b[22m\u001b[39mPrecompiling IJuliaExt [2f4121a4-3b3a-5ce6-9c5e-1f2673ce168a]\n"
     ]
    },
    {
     "data": {
      "image/png": "[encoded data removed]",
      "image/svg+xml": [
       "<?xml version=\"1.0\" encoding=\"utf-8\"?>\n",
       "<svg xmlns=\"http://www.w3.org/2000/svg\" xmlns:xlink=\"http://www.w3.org/1999/xlink\" width=\"600\" height=\"400\" viewBox=\"0 0 2400 1600\">\n",
       "<defs>\n",
       "  <clipPath id=\"clip850\">\n",
       "    <rect x=\"0\" y=\"0\" width=\"2400\" height=\"1600\"/>\n",
       "  </clipPath>\n",
       "</defs>\n",
       "<path clip-path=\"url(#clip850)\" d=\"M0 1600 L2400 1600 L2400 0 L0 0  Z\" fill=\"#ffffff\" fill-rule=\"evenodd\" fill-opacity=\"1\"/>\n",
       "<defs>\n",
       "  <clipPath id=\"clip851\">\n",
       "    <rect x=\"480\" y=\"0\" width=\"1681\" height=\"1600\"/>\n",
       "  </clipPath>\n",
       "</defs>\n",
       "<path clip-path=\"url(#clip850)\" d=\"M219.542 1410.9 L2352.76 1410.9 L2352.76 47.2441 L219.542 47.2441  Z\" fill=\"#ffffff\" fill-rule=\"evenodd\" fill-opacity=\"1\"/>\n",
       "<defs>\n",
       "  <clipPath id=\"clip852\">\n",
       "    <rect x=\"219\" y=\"47\" width=\"2134\" height=\"1365\"/>\n",
       "  </clipPath>\n",
       "</defs>\n",
       "<polyline clip-path=\"url(#clip852)\" style=\"stroke:#000000; stroke-linecap:round; stroke-linejoin:round; stroke-width:2; stroke-opacity:0.1; fill:none\" points=\"279.916,1410.9 279.916,47.2441 \"/>\n",
       "<polyline clip-path=\"url(#clip852)\" style=\"stroke:#000000; stroke-linecap:round; stroke-linejoin:round; stroke-width:2; stroke-opacity:0.1; fill:none\" points=\"1154.51,1410.9 1154.51,47.2441 \"/>\n",
       "<polyline clip-path=\"url(#clip852)\" style=\"stroke:#000000; stroke-linecap:round; stroke-linejoin:round; stroke-width:2; stroke-opacity:0.1; fill:none\" points=\"2029.1,1410.9 2029.1,47.2441 \"/>\n",
       "<polyline clip-path=\"url(#clip850)\" style=\"stroke:#000000; stroke-linecap:round; stroke-linejoin:round; stroke-width:4; stroke-opacity:1; fill:none\" points=\"219.542,1410.9 2352.76,1410.9 \"/>\n",
       "<polyline clip-path=\"url(#clip850)\" style=\"stroke:#000000; stroke-linecap:round; stroke-linejoin:round; stroke-width:4; stroke-opacity:1; fill:none\" points=\"279.916,1410.9 279.916,1392 \"/>\n",
       "<polyline clip-path=\"url(#clip850)\" style=\"stroke:#000000; stroke-linecap:round; stroke-linejoin:round; stroke-width:4; stroke-opacity:1; fill:none\" points=\"1154.51,1410.9 1154.51,1392 \"/>\n",
       "<polyline clip-path=\"url(#clip850)\" style=\"stroke:#000000; stroke-linecap:round; stroke-linejoin:round; stroke-width:4; stroke-opacity:1; fill:none\" points=\"2029.1,1410.9 2029.1,1392 \"/>\n",
       "<path clip-path=\"url(#clip850)\" d=\"M244.899 1485.02 L252.538 1485.02 L252.538 1458.66 L244.228 1460.32 L244.228 1456.06 L252.492 1454.4 L257.167 1454.4 L257.167 1485.02 L264.806 1485.02 L264.806 1488.96 L244.899 1488.96 L244.899 1485.02 Z\" fill=\"#000000\" fill-rule=\"nonzero\" fill-opacity=\"1\" /><path clip-path=\"url(#clip850)\" d=\"M284.251 1457.48 Q280.64 1457.48 278.811 1461.04 Q277.005 1464.58 277.005 1471.71 Q277.005 1478.82 278.811 1482.38 Q280.64 1485.92 284.251 1485.92 Q287.885 1485.92 289.69 1482.38 Q291.519 1478.82 291.519 1471.71 Q291.519 1464.58 289.69 1461.04 Q287.885 1457.48 284.251 1457.48 M284.251 1453.77 Q290.061 1453.77 293.116 1458.38 Q296.195 1462.96 296.195 1471.71 Q296.195 1480.44 293.116 1485.04 Q290.061 1489.63 284.251 1489.63 Q278.44 1489.63 275.362 1485.04 Q272.306 1480.44 272.306 1471.71 Q272.306 1462.96 275.362 1458.38 Q278.44 1453.77 284.251 1453.77 Z\" fill=\"#000000\" fill-rule=\"nonzero\" fill-opacity=\"1\" /><path clip-path=\"url(#clip850)\" d=\"M305.9 1435.97 Q302.966 1435.97 301.48 1438.86 Q300.013 1441.74 300.013 1447.53 Q300.013 1453.31 301.48 1456.2 Q302.966 1459.08 305.9 1459.08 Q308.853 1459.08 310.32 1456.2 Q311.805 1453.31 311.805 1447.53 Q311.805 1441.74 310.32 1438.86 Q308.853 1435.97 305.9 1435.97 M305.9 1432.96 Q310.621 1432.96 313.103 1436.7 Q315.605 1440.43 315.605 1447.53 Q315.605 1454.62 313.103 1458.37 Q310.621 1462.09 305.9 1462.09 Q301.179 1462.09 298.678 1458.37 Q296.195 1454.62 296.195 1447.53 Q296.195 1440.43 298.678 1436.7 Q301.179 1432.96 305.9 1432.96 Z\" fill=\"#000000\" fill-rule=\"nonzero\" fill-opacity=\"1\" /><path clip-path=\"url(#clip850)\" d=\"M1120.84 1485.02 L1128.48 1485.02 L1128.48 1458.66 L1120.17 1460.32 L1120.17 1456.06 L1128.43 1454.4 L1133.11 1454.4 L1133.11 1485.02 L1140.74 1485.02 L1140.74 1488.96 L1120.84 1488.96 L1120.84 1485.02 Z\" fill=\"#000000\" fill-rule=\"nonzero\" fill-opacity=\"1\" /><path clip-path=\"url(#clip850)\" d=\"M1160.19 1457.48 Q1156.58 1457.48 1154.75 1461.04 Q1152.94 1464.58 1152.94 1471.71 Q1152.94 1478.82 1154.75 1482.38 Q1156.58 1485.92 1160.19 1485.92 Q1163.82 1485.92 1165.63 1482.38 Q1167.46 1478.82 1167.46 1471.71 Q1167.46 1464.58 1165.63 1461.04 Q1163.82 1457.48 1160.19 1457.48 M1160.19 1453.77 Q1166 1453.77 1169.05 1458.38 Q1172.13 1462.96 1172.13 1471.71 Q1172.13 1480.44 1169.05 1485.04 Q1166 1489.63 1160.19 1489.63 Q1154.38 1489.63 1151.3 1485.04 Q1148.24 1480.44 1148.24 1471.71 Q1148.24 1462.96 1151.3 1458.38 Q1154.38 1453.77 1160.19 1453.77 Z\" fill=\"#000000\" fill-rule=\"nonzero\" fill-opacity=\"1\" /><path clip-path=\"url(#clip850)\" d=\"M1172.68 1458.35 L1178.89 1458.35 L1178.89 1436.93 L1172.13 1438.28 L1172.13 1434.82 L1178.85 1433.47 L1182.65 1433.47 L1182.65 1458.35 L1188.85 1458.35 L1188.85 1461.55 L1172.68 1461.55 L1172.68 1458.35 Z\" fill=\"#000000\" fill-rule=\"nonzero\" fill-opacity=\"1\" /><path clip-path=\"url(#clip850)\" d=\"M1994.88 1485.02 L2002.51 1485.02 L2002.51 1458.66 L1994.2 1460.32 L1994.2 1456.06 L2002.47 1454.4 L2007.14 1454.4 L2007.14 1485.02 L2014.78 1485.02 L2014.78 1488.96 L1994.88 1488.96 L1994.88 1485.02 Z\" fill=\"#000000\" fill-rule=\"nonzero\" fill-opacity=\"1\" /><path clip-path=\"url(#clip850)\" d=\"M2034.23 1457.48 Q2030.62 1457.48 2028.79 1461.04 Q2026.98 1464.58 2026.98 1471.71 Q2026.98 1478.82 2028.79 1482.38 Q2030.62 1485.92 2034.23 1485.92 Q2037.86 1485.92 2039.67 1482.38 Q2041.5 1478.82 2041.5 1471.71 Q2041.5 1464.58 2039.67 1461.04 Q2037.86 1457.48 2034.23 1457.48 M2034.23 1453.77 Q2040.04 1453.77 2043.09 1458.38 Q2046.17 1462.96 2046.17 1471.71 Q2046.17 1480.44 2043.09 1485.04 Q2040.04 1489.63 2034.23 1489.63 Q2028.42 1489.63 2025.34 1485.04 Q2022.28 1480.44 2022.28 1471.71 Q2022.28 1462.96 2025.34 1458.38 Q2028.42 1453.77 2034.23 1453.77 Z\" fill=\"#000000\" fill-rule=\"nonzero\" fill-opacity=\"1\" /><path clip-path=\"url(#clip850)\" d=\"M2050.74 1458.35 L2064 1458.35 L2064 1461.55 L2046.17 1461.55 L2046.17 1458.35 Q2048.33 1456.11 2052.06 1452.35 Q2055.8 1448.57 2056.76 1447.48 Q2058.58 1445.43 2059.3 1444.02 Q2060.03 1442.59 2060.03 1441.22 Q2060.03 1438.98 2058.45 1437.57 Q2056.89 1436.16 2054.37 1436.16 Q2052.59 1436.16 2050.59 1436.78 Q2048.62 1437.4 2046.36 1438.66 L2046.36 1434.82 Q2048.65 1433.9 2050.65 1433.43 Q2052.64 1432.96 2054.3 1432.96 Q2058.66 1432.96 2061.26 1435.14 Q2063.85 1437.32 2063.85 1440.97 Q2063.85 1442.7 2063.19 1444.26 Q2062.55 1445.8 2060.84 1447.91 Q2060.37 1448.46 2057.85 1451.07 Q2055.33 1453.67 2050.74 1458.35 Z\" fill=\"#000000\" fill-rule=\"nonzero\" fill-opacity=\"1\" /><path clip-path=\"url(#clip850)\" d=\"M1206.34 1554.9 L1206.34 1557.76 L1179.41 1557.76 Q1179.79 1563.81 1183.04 1566.99 Q1186.32 1570.14 1192.14 1570.14 Q1195.52 1570.14 1198.67 1569.32 Q1201.85 1568.49 1204.97 1566.83 L1204.97 1572.37 Q1201.82 1573.71 1198.51 1574.41 Q1195.2 1575.11 1191.79 1575.11 Q1183.26 1575.11 1178.27 1570.14 Q1173.3 1565.18 1173.3 1556.71 Q1173.3 1547.96 1178.01 1542.83 Q1182.75 1537.68 1190.77 1537.68 Q1197.97 1537.68 1202.14 1542.33 Q1206.34 1546.94 1206.34 1554.9 M1200.48 1553.18 Q1200.42 1548.37 1197.78 1545.51 Q1195.17 1542.64 1190.84 1542.64 Q1185.94 1542.64 1182.98 1545.41 Q1180.05 1548.18 1179.6 1553.21 L1200.48 1553.18 Z\" fill=\"#000000\" fill-rule=\"nonzero\" fill-opacity=\"1\" /><path clip-path=\"url(#clip850)\" d=\"M1221.62 1568.84 L1221.62 1587.74 L1215.73 1587.74 L1215.73 1538.54 L1221.62 1538.54 L1221.62 1543.95 Q1223.46 1540.77 1226.26 1539.24 Q1229.1 1537.68 1233.01 1537.68 Q1239.5 1537.68 1243.55 1542.83 Q1247.62 1547.99 1247.62 1556.39 Q1247.62 1564.8 1243.55 1569.95 Q1239.5 1575.11 1233.01 1575.11 Q1229.1 1575.11 1226.26 1573.58 Q1223.46 1572.02 1221.62 1568.84 M1241.54 1556.39 Q1241.54 1549.93 1238.87 1546.27 Q1236.23 1542.58 1231.58 1542.58 Q1226.93 1542.58 1224.26 1546.27 Q1221.62 1549.93 1221.62 1556.39 Q1221.62 1562.85 1224.26 1566.55 Q1226.93 1570.21 1231.58 1570.21 Q1236.23 1570.21 1238.87 1566.55 Q1241.54 1562.85 1241.54 1556.39 Z\" fill=\"#000000\" fill-rule=\"nonzero\" fill-opacity=\"1\" /><path clip-path=\"url(#clip850)\" d=\"M1271.14 1542.64 Q1266.43 1542.64 1263.69 1546.34 Q1260.96 1550 1260.96 1556.39 Q1260.96 1562.79 1263.66 1566.48 Q1266.4 1570.14 1271.14 1570.14 Q1275.82 1570.14 1278.56 1566.45 Q1281.3 1562.76 1281.3 1556.39 Q1281.3 1550.06 1278.56 1546.37 Q1275.82 1542.64 1271.14 1542.64 M1271.14 1537.68 Q1278.78 1537.68 1283.14 1542.64 Q1287.5 1547.61 1287.5 1556.39 Q1287.5 1565.15 1283.14 1570.14 Q1278.78 1575.11 1271.14 1575.11 Q1263.47 1575.11 1259.11 1570.14 Q1254.78 1565.15 1254.78 1556.39 Q1254.78 1547.61 1259.11 1542.64 Q1263.47 1537.68 1271.14 1537.68 Z\" fill=\"#000000\" fill-rule=\"nonzero\" fill-opacity=\"1\" /><path clip-path=\"url(#clip850)\" d=\"M1322.86 1539.91 L1322.86 1545.38 Q1320.38 1544.01 1317.87 1543.34 Q1315.38 1542.64 1312.84 1542.64 Q1307.14 1542.64 1303.99 1546.27 Q1300.84 1549.87 1300.84 1556.39 Q1300.84 1562.92 1303.99 1566.55 Q1307.14 1570.14 1312.84 1570.14 Q1315.38 1570.14 1317.87 1569.47 Q1320.38 1568.77 1322.86 1567.41 L1322.86 1572.82 Q1320.41 1573.96 1317.77 1574.54 Q1315.16 1575.11 1312.2 1575.11 Q1304.15 1575.11 1299.41 1570.05 Q1294.66 1564.99 1294.66 1556.39 Q1294.66 1547.67 1299.44 1542.68 Q1304.24 1537.68 1312.58 1537.68 Q1315.29 1537.68 1317.87 1538.25 Q1320.44 1538.79 1322.86 1539.91 Z\" fill=\"#000000\" fill-rule=\"nonzero\" fill-opacity=\"1\" /><path clip-path=\"url(#clip850)\" d=\"M1362.68 1552.67 L1362.68 1574.19 L1356.82 1574.19 L1356.82 1552.86 Q1356.82 1547.8 1354.85 1545.29 Q1352.88 1542.77 1348.93 1542.77 Q1344.19 1542.77 1341.45 1545.79 Q1338.71 1548.82 1338.71 1554.04 L1338.71 1574.19 L1332.83 1574.19 L1332.83 1524.66 L1338.71 1524.66 L1338.71 1544.08 Q1340.81 1540.86 1343.65 1539.27 Q1346.51 1537.68 1350.24 1537.68 Q1356.38 1537.68 1359.53 1541.5 Q1362.68 1545.29 1362.68 1552.67 Z\" fill=\"#000000\" fill-rule=\"nonzero\" fill-opacity=\"1\" /><path clip-path=\"url(#clip850)\" d=\"M1397.09 1539.59 L1397.09 1545.13 Q1394.6 1543.85 1391.93 1543.22 Q1389.26 1542.58 1386.39 1542.58 Q1382.03 1542.58 1379.84 1543.92 Q1377.67 1545.25 1377.67 1547.93 Q1377.67 1549.96 1379.23 1551.14 Q1380.79 1552.29 1385.5 1553.34 L1387.51 1553.78 Q1393.75 1555.12 1396.36 1557.57 Q1399 1559.99 1399 1564.35 Q1399 1569.32 1395.05 1572.21 Q1391.14 1575.11 1384.26 1575.11 Q1381.4 1575.11 1378.28 1574.54 Q1375.19 1573.99 1371.75 1572.88 L1371.75 1566.83 Q1375 1568.52 1378.15 1569.38 Q1381.3 1570.21 1384.39 1570.21 Q1388.53 1570.21 1390.75 1568.81 Q1392.98 1567.37 1392.98 1564.8 Q1392.98 1562.41 1391.36 1561.14 Q1389.77 1559.86 1384.32 1558.68 L1382.29 1558.21 Q1376.84 1557.06 1374.43 1554.71 Q1372.01 1552.32 1372.01 1548.18 Q1372.01 1543.15 1375.57 1540.42 Q1379.14 1537.68 1385.69 1537.68 Q1388.94 1537.68 1391.8 1538.16 Q1394.67 1538.63 1397.09 1539.59 Z\" fill=\"#000000\" fill-rule=\"nonzero\" fill-opacity=\"1\" /><polyline clip-path=\"url(#clip852)\" style=\"stroke:#000000; stroke-linecap:round; stroke-linejoin:round; stroke-width:2; stroke-opacity:0.1; fill:none\" points=\"219.542,1197.14 2352.76,1197.14 \"/>\n",
       "<polyline clip-path=\"url(#clip852)\" style=\"stroke:#000000; stroke-linecap:round; stroke-linejoin:round; stroke-width:2; stroke-opacity:0.1; fill:none\" points=\"219.542,878.121 2352.76,878.121 \"/>\n",
       "<polyline clip-path=\"url(#clip852)\" style=\"stroke:#000000; stroke-linecap:round; stroke-linejoin:round; stroke-width:2; stroke-opacity:0.1; fill:none\" points=\"219.542,559.103 2352.76,559.103 \"/>\n",
       "<polyline clip-path=\"url(#clip852)\" style=\"stroke:#000000; stroke-linecap:round; stroke-linejoin:round; stroke-width:2; stroke-opacity:0.1; fill:none\" points=\"219.542,240.086 2352.76,240.086 \"/>\n",
       "<polyline clip-path=\"url(#clip850)\" style=\"stroke:#000000; stroke-linecap:round; stroke-linejoin:round; stroke-width:4; stroke-opacity:1; fill:none\" points=\"219.542,1410.9 219.542,47.2441 \"/>\n",
       "<polyline clip-path=\"url(#clip850)\" style=\"stroke:#000000; stroke-linecap:round; stroke-linejoin:round; stroke-width:4; stroke-opacity:1; fill:none\" points=\"219.542,1197.14 238.44,1197.14 \"/>\n",
       "<polyline clip-path=\"url(#clip850)\" style=\"stroke:#000000; stroke-linecap:round; stroke-linejoin:round; stroke-width:4; stroke-opacity:1; fill:none\" points=\"219.542,878.121 238.44,878.121 \"/>\n",
       "<polyline clip-path=\"url(#clip850)\" style=\"stroke:#000000; stroke-linecap:round; stroke-linejoin:round; stroke-width:4; stroke-opacity:1; fill:none\" points=\"219.542,559.103 238.44,559.103 \"/>\n",
       "<polyline clip-path=\"url(#clip850)\" style=\"stroke:#000000; stroke-linecap:round; stroke-linejoin:round; stroke-width:4; stroke-opacity:1; fill:none\" points=\"219.542,240.086 238.44,240.086 \"/>\n",
       "<path clip-path=\"url(#clip850)\" d=\"M126.205 1182.94 Q122.593 1182.94 120.765 1186.5 Q118.959 1190.04 118.959 1197.17 Q118.959 1204.28 120.765 1207.84 Q122.593 1211.39 126.205 1211.39 Q129.839 1211.39 131.644 1207.84 Q133.473 1204.28 133.473 1197.17 Q133.473 1190.04 131.644 1186.5 Q129.839 1182.94 126.205 1182.94 M126.205 1179.23 Q132.015 1179.23 135.07 1183.84 Q138.149 1188.42 138.149 1197.17 Q138.149 1205.9 135.07 1210.51 Q132.015 1215.09 126.205 1215.09 Q120.394 1215.09 117.316 1210.51 Q114.26 1205.9 114.26 1197.17 Q114.26 1188.42 117.316 1183.84 Q120.394 1179.23 126.205 1179.23 Z\" fill=\"#000000\" fill-rule=\"nonzero\" fill-opacity=\"1\" /><path clip-path=\"url(#clip850)\" d=\"M146.366 1208.54 L151.251 1208.54 L151.251 1214.42 L146.366 1214.42 L146.366 1208.54 Z\" fill=\"#000000\" fill-rule=\"nonzero\" fill-opacity=\"1\" /><path clip-path=\"url(#clip850)\" d=\"M172.014 1195.28 Q168.866 1195.28 167.015 1197.43 Q165.186 1199.58 165.186 1203.33 Q165.186 1207.06 167.015 1209.23 Q168.866 1211.39 172.014 1211.39 Q175.163 1211.39 176.991 1209.23 Q178.843 1207.06 178.843 1203.33 Q178.843 1199.58 176.991 1197.43 Q175.163 1195.28 172.014 1195.28 M181.297 1180.62 L181.297 1184.88 Q179.538 1184.05 177.732 1183.61 Q175.95 1183.17 174.19 1183.17 Q169.561 1183.17 167.107 1186.29 Q164.677 1189.42 164.329 1195.74 Q165.695 1193.72 167.755 1192.66 Q169.815 1191.57 172.292 1191.57 Q177.501 1191.57 180.51 1194.74 Q183.542 1197.89 183.542 1203.33 Q183.542 1208.66 180.394 1211.87 Q177.246 1215.09 172.014 1215.09 Q166.019 1215.09 162.848 1210.51 Q159.677 1205.9 159.677 1197.17 Q159.677 1188.98 163.565 1184.12 Q167.454 1179.23 174.005 1179.23 Q175.764 1179.23 177.547 1179.58 Q179.352 1179.93 181.297 1180.62 Z\" fill=\"#000000\" fill-rule=\"nonzero\" fill-opacity=\"1\" /><path clip-path=\"url(#clip850)\" d=\"M126.459 863.92 Q122.848 863.92 121.019 867.485 Q119.214 871.026 119.214 878.156 Q119.214 885.262 121.019 888.827 Q122.848 892.369 126.459 892.369 Q130.093 892.369 131.899 888.827 Q133.728 885.262 133.728 878.156 Q133.728 871.026 131.899 867.485 Q130.093 863.92 126.459 863.92 M126.459 860.216 Q132.269 860.216 135.325 864.823 Q138.404 869.406 138.404 878.156 Q138.404 886.883 135.325 891.489 Q132.269 896.072 126.459 896.072 Q120.649 896.072 117.57 891.489 Q114.515 886.883 114.515 878.156 Q114.515 869.406 117.57 864.823 Q120.649 860.216 126.459 860.216 Z\" fill=\"#000000\" fill-rule=\"nonzero\" fill-opacity=\"1\" /><path clip-path=\"url(#clip850)\" d=\"M146.621 889.522 L151.505 889.522 L151.505 895.401 L146.621 895.401 L146.621 889.522 Z\" fill=\"#000000\" fill-rule=\"nonzero\" fill-opacity=\"1\" /><path clip-path=\"url(#clip850)\" d=\"M171.69 878.989 Q168.357 878.989 166.436 880.772 Q164.538 882.554 164.538 885.679 Q164.538 888.804 166.436 890.586 Q168.357 892.369 171.69 892.369 Q175.024 892.369 176.945 890.586 Q178.866 888.781 178.866 885.679 Q178.866 882.554 176.945 880.772 Q175.047 878.989 171.69 878.989 M167.015 876.998 Q164.005 876.258 162.315 874.198 Q160.649 872.137 160.649 869.174 Q160.649 865.031 163.589 862.624 Q166.552 860.216 171.69 860.216 Q176.852 860.216 179.792 862.624 Q182.732 865.031 182.732 869.174 Q182.732 872.137 181.042 874.198 Q179.376 876.258 176.389 876.998 Q179.769 877.786 181.644 880.077 Q183.542 882.369 183.542 885.679 Q183.542 890.702 180.464 893.387 Q177.408 896.072 171.69 896.072 Q165.973 896.072 162.894 893.387 Q159.839 890.702 159.839 885.679 Q159.839 882.369 161.737 880.077 Q163.635 877.786 167.015 876.998 M165.302 869.614 Q165.302 872.299 166.968 873.804 Q168.658 875.309 171.69 875.309 Q174.7 875.309 176.389 873.804 Q178.102 872.299 178.102 869.614 Q178.102 866.929 176.389 865.424 Q174.7 863.92 171.69 863.92 Q168.658 863.92 166.968 865.424 Q165.302 866.929 165.302 869.614 Z\" fill=\"#000000\" fill-rule=\"nonzero\" fill-opacity=\"1\" /><path clip-path=\"url(#clip850)\" d=\"M117.177 572.448 L124.816 572.448 L124.816 546.083 L116.506 547.749 L116.506 543.49 L124.769 541.823 L129.445 541.823 L129.445 572.448 L137.084 572.448 L137.084 576.383 L117.177 576.383 L117.177 572.448 Z\" fill=\"#000000\" fill-rule=\"nonzero\" fill-opacity=\"1\" /><path clip-path=\"url(#clip850)\" d=\"M146.529 570.504 L151.413 570.504 L151.413 576.383 L146.529 576.383 L146.529 570.504 Z\" fill=\"#000000\" fill-rule=\"nonzero\" fill-opacity=\"1\" /><path clip-path=\"url(#clip850)\" d=\"M171.598 544.902 Q167.987 544.902 166.158 548.467 Q164.352 552.009 164.352 559.138 Q164.352 566.245 166.158 569.809 Q167.987 573.351 171.598 573.351 Q175.232 573.351 177.038 569.809 Q178.866 566.245 178.866 559.138 Q178.866 552.009 177.038 548.467 Q175.232 544.902 171.598 544.902 M171.598 541.198 Q177.408 541.198 180.464 545.805 Q183.542 550.388 183.542 559.138 Q183.542 567.865 180.464 572.471 Q177.408 577.055 171.598 577.055 Q165.788 577.055 162.709 572.471 Q159.653 567.865 159.653 559.138 Q159.653 550.388 162.709 545.805 Q165.788 541.198 171.598 541.198 Z\" fill=\"#000000\" fill-rule=\"nonzero\" fill-opacity=\"1\" /><path clip-path=\"url(#clip850)\" d=\"M118.774 253.431 L126.413 253.431 L126.413 227.065 L118.103 228.732 L118.103 224.472 L126.367 222.806 L131.042 222.806 L131.042 253.431 L138.681 253.431 L138.681 257.366 L118.774 257.366 L118.774 253.431 Z\" fill=\"#000000\" fill-rule=\"nonzero\" fill-opacity=\"1\" /><path clip-path=\"url(#clip850)\" d=\"M148.126 251.486 L153.01 251.486 L153.01 257.366 L148.126 257.366 L148.126 251.486 Z\" fill=\"#000000\" fill-rule=\"nonzero\" fill-opacity=\"1\" /><path clip-path=\"url(#clip850)\" d=\"M167.223 253.431 L183.542 253.431 L183.542 257.366 L161.598 257.366 L161.598 253.431 Q164.26 250.676 168.843 246.046 Q173.45 241.394 174.63 240.051 Q176.876 237.528 177.755 235.792 Q178.658 234.033 178.658 232.343 Q178.658 229.588 176.714 227.852 Q174.792 226.116 171.69 226.116 Q169.491 226.116 167.038 226.88 Q164.607 227.644 161.829 229.195 L161.829 224.472 Q164.653 223.338 167.107 222.759 Q169.561 222.181 171.598 222.181 Q176.968 222.181 180.163 224.866 Q183.357 227.551 183.357 232.042 Q183.357 234.171 182.547 236.093 Q181.76 237.991 179.653 240.583 Q179.075 241.255 175.973 244.472 Q172.871 247.667 167.223 253.431 Z\" fill=\"#000000\" fill-rule=\"nonzero\" fill-opacity=\"1\" /><path clip-path=\"url(#clip850)\" d=\"M16.4842 1202.41 L16.4842 1172.36 L21.895 1172.36 L21.895 1195.98 L35.9632 1195.98 L35.9632 1173.35 L41.3741 1173.35 L41.3741 1195.98 L58.5933 1195.98 L58.5933 1171.79 L64.0042 1171.79 L64.0042 1202.41 L16.4842 1202.41 Z\" fill=\"#000000\" fill-rule=\"nonzero\" fill-opacity=\"1\" /><path clip-path=\"url(#clip850)\" d=\"M33.8307 1140.82 Q33.2578 1141.81 33.0032 1142.98 Q32.7167 1144.13 32.7167 1145.53 Q32.7167 1150.5 35.9632 1153.17 Q39.1779 1155.81 45.2253 1155.81 L64.0042 1155.81 L64.0042 1161.7 L28.3562 1161.7 L28.3562 1155.81 L33.8944 1155.81 Q30.6479 1153.97 29.0883 1151.01 Q27.4968 1148.05 27.4968 1143.81 Q27.4968 1143.21 27.5923 1142.48 Q27.656 1141.74 27.8151 1140.85 L33.8307 1140.82 Z\" fill=\"#000000\" fill-rule=\"nonzero\" fill-opacity=\"1\" /><path clip-path=\"url(#clip850)\" d=\"M33.8307 1115.17 Q33.2578 1116.15 33.0032 1117.33 Q32.7167 1118.48 32.7167 1119.88 Q32.7167 1124.84 35.9632 1127.52 Q39.1779 1130.16 45.2253 1130.16 L64.0042 1130.16 L64.0042 1136.05 L28.3562 1136.05 L28.3562 1130.16 L33.8944 1130.16 Q30.6479 1128.31 29.0883 1125.35 Q27.4968 1122.39 27.4968 1118.16 Q27.4968 1117.55 27.5923 1116.82 Q27.656 1116.09 27.8151 1115.2 L33.8307 1115.17 Z\" fill=\"#000000\" fill-rule=\"nonzero\" fill-opacity=\"1\" /><path clip-path=\"url(#clip850)\" d=\"M32.4621 1096.64 Q32.4621 1101.35 36.1542 1104.09 Q39.8145 1106.83 46.212 1106.83 Q52.6095 1106.83 56.3017 1104.12 Q59.9619 1101.38 59.9619 1096.64 Q59.9619 1091.96 56.2698 1089.23 Q52.5777 1086.49 46.212 1086.49 Q39.8781 1086.49 36.186 1089.23 Q32.4621 1091.96 32.4621 1096.64 M27.4968 1096.64 Q27.4968 1089 32.4621 1084.64 Q37.4273 1080.28 46.212 1080.28 Q54.9649 1080.28 59.9619 1084.64 Q64.9272 1089 64.9272 1096.64 Q64.9272 1104.31 59.9619 1108.67 Q54.9649 1113 46.212 1113 Q37.4273 1113 32.4621 1108.67 Q27.4968 1104.31 27.4968 1096.64 Z\" fill=\"#000000\" fill-rule=\"nonzero\" fill-opacity=\"1\" /><path clip-path=\"url(#clip850)\" d=\"M33.8307 1049.92 Q33.2578 1050.9 33.0032 1052.08 Q32.7167 1053.23 32.7167 1054.63 Q32.7167 1059.59 35.9632 1062.27 Q39.1779 1064.91 45.2253 1064.91 L64.0042 1064.91 L64.0042 1070.8 L28.3562 1070.8 L28.3562 1064.91 L33.8944 1064.91 Q30.6479 1063.06 29.0883 1060.1 Q27.4968 1057.14 27.4968 1052.91 Q27.4968 1052.31 27.5923 1051.57 Q27.656 1050.84 27.8151 1049.95 L33.8307 1049.92 Z\" fill=\"#000000\" fill-rule=\"nonzero\" fill-opacity=\"1\" /><path clip-path=\"url(#clip850)\" d=\"M41.3104 1016.37 L58.7206 1016.37 L58.7206 1006.06 Q58.7206 1000.87 56.5881 998.388 Q54.4238 995.873 49.9996 995.873 Q45.5436 995.873 43.4429 998.388 Q41.3104 1000.87 41.3104 1006.06 L41.3104 1016.37 M21.7677 1016.37 L36.0905 1016.37 L36.0905 1006.85 Q36.0905 1002.14 34.34 999.852 Q32.5576 997.528 28.9291 997.528 Q25.3325 997.528 23.5501 999.852 Q21.7677 1002.14 21.7677 1006.85 L21.7677 1016.37 M16.4842 1022.8 L16.4842 1006.38 Q16.4842 999.024 19.5397 995.046 Q22.5952 991.067 28.2289 991.067 Q32.5894 991.067 35.1675 993.104 Q37.7456 995.141 38.3822 999.088 Q39.4007 994.345 42.6472 991.735 Q45.8619 989.094 50.6998 989.094 Q57.0655 989.094 60.5348 993.422 Q64.0042 997.751 64.0042 1005.74 L64.0042 1022.8 L16.4842 1022.8 Z\" fill=\"#000000\" fill-rule=\"nonzero\" fill-opacity=\"1\" /><path clip-path=\"url(#clip850)\" d=\"M46.0847 962.135 Q46.0847 969.233 47.7079 971.97 Q49.3312 974.707 53.2461 974.707 Q56.3653 974.707 58.2114 972.67 Q60.0256 970.601 60.0256 967.068 Q60.0256 962.198 56.5881 959.27 Q53.1188 956.31 47.3897 956.31 L46.0847 956.31 L46.0847 962.135 M43.6657 950.454 L64.0042 950.454 L64.0042 956.31 L58.5933 956.31 Q61.8398 958.315 63.3994 961.307 Q64.9272 964.299 64.9272 968.628 Q64.9272 974.102 61.8716 977.349 Q58.7843 980.564 53.6281 980.564 Q47.6125 980.564 44.5569 976.553 Q41.5014 972.511 41.5014 964.522 L41.5014 956.31 L40.9285 956.31 Q36.8862 956.31 34.6901 958.984 Q32.4621 961.626 32.4621 966.432 Q32.4621 969.487 33.1941 972.384 Q33.9262 975.28 35.3903 977.954 L29.9795 977.954 Q28.7381 974.739 28.1334 971.715 Q27.4968 968.691 27.4968 965.827 Q27.4968 958.093 31.5072 954.273 Q35.5176 950.454 43.6657 950.454 Z\" fill=\"#000000\" fill-rule=\"nonzero\" fill-opacity=\"1\" /><path clip-path=\"url(#clip850)\" d=\"M29.4065 915.665 L34.9447 915.665 Q33.6716 918.148 33.035 920.821 Q32.3984 923.495 32.3984 926.36 Q32.3984 930.72 33.7352 932.916 Q35.072 935.081 37.7456 935.081 Q39.7826 935.081 40.9603 933.521 Q42.1061 931.961 43.1565 927.251 L43.6021 925.246 Q44.9389 919.007 47.3897 916.397 Q49.8086 913.755 54.1691 913.755 Q59.1344 913.755 62.0308 917.702 Q64.9272 921.617 64.9272 928.492 Q64.9272 931.357 64.3543 934.476 Q63.8132 937.563 62.6992 941.001 L56.6518 941.001 Q58.3387 937.754 59.198 934.603 Q60.0256 931.452 60.0256 928.365 Q60.0256 924.227 58.6251 921.999 Q57.1929 919.771 54.6147 919.771 Q52.2276 919.771 50.9545 921.394 Q49.6813 922.986 48.5037 928.428 L48.0262 930.465 Q46.8804 935.908 44.5251 938.327 Q42.138 940.746 38.0002 940.746 Q32.9713 940.746 30.2341 937.181 Q27.4968 933.616 27.4968 927.06 Q27.4968 923.813 27.9743 920.949 Q28.4517 918.084 29.4065 915.665 Z\" fill=\"#000000\" fill-rule=\"nonzero\" fill-opacity=\"1\" /><path clip-path=\"url(#clip850)\" d=\"M44.7161 873.938 L47.5806 873.938 L47.5806 900.865 Q53.6281 900.483 56.8109 897.236 Q59.9619 893.958 59.9619 888.133 Q59.9619 884.76 59.1344 881.609 Q58.3069 878.426 56.6518 875.307 L62.1899 875.307 Q63.5267 878.458 64.227 881.768 Q64.9272 885.078 64.9272 888.484 Q64.9272 897.014 59.9619 902.011 Q54.9967 906.976 46.5303 906.976 Q37.7774 906.976 32.6531 902.265 Q27.4968 897.523 27.4968 889.502 Q27.4968 882.309 32.1438 878.139 Q36.7589 873.938 44.7161 873.938 M42.9973 879.794 Q38.1912 879.858 35.3266 882.5 Q32.4621 885.11 32.4621 889.438 Q32.4621 894.34 35.2312 897.3 Q38.0002 900.228 43.0292 900.674 L42.9973 879.794 Z\" fill=\"#000000\" fill-rule=\"nonzero\" fill-opacity=\"1\" /><path clip-path=\"url(#clip850)\" d=\"M33.7671 840.868 L14.479 840.868 L14.479 835.012 L64.0042 835.012 L64.0042 840.868 L58.657 840.868 Q61.8398 842.714 63.3994 845.547 Q64.9272 848.348 64.9272 852.295 Q64.9272 858.756 59.771 862.83 Q54.6147 866.872 46.212 866.872 Q37.8093 866.872 32.6531 862.83 Q27.4968 858.756 27.4968 852.295 Q27.4968 848.348 29.0564 845.547 Q30.5842 842.714 33.7671 840.868 M46.212 860.825 Q52.6732 860.825 56.3653 858.183 Q60.0256 855.509 60.0256 850.862 Q60.0256 846.215 56.3653 843.542 Q52.6732 840.868 46.212 840.868 Q39.7508 840.868 36.0905 843.542 Q32.3984 846.215 32.3984 850.862 Q32.3984 855.509 36.0905 858.183 Q39.7508 860.825 46.212 860.825 Z\" fill=\"#000000\" fill-rule=\"nonzero\" fill-opacity=\"1\" /><path clip-path=\"url(#clip850)\" d=\"M32.4621 788.415 Q32.4621 793.125 36.1542 795.863 Q39.8145 798.6 46.212 798.6 Q52.6095 798.6 56.3017 795.894 Q59.9619 793.157 59.9619 788.415 Q59.9619 783.736 56.2698 780.999 Q52.5777 778.261 46.212 778.261 Q39.8781 778.261 36.186 780.999 Q32.4621 783.736 32.4621 788.415 M27.4968 788.415 Q27.4968 780.776 32.4621 776.415 Q37.4273 772.055 46.212 772.055 Q54.9649 772.055 59.9619 776.415 Q64.9272 780.776 64.9272 788.415 Q64.9272 796.085 59.9619 800.446 Q54.9649 804.775 46.212 804.775 Q37.4273 804.775 32.4621 800.446 Q27.4968 796.085 27.4968 788.415 Z\" fill=\"#000000\" fill-rule=\"nonzero\" fill-opacity=\"1\" /><path clip-path=\"url(#clip850)\" d=\"M42.4881 732.715 L64.0042 732.715 L64.0042 738.571 L42.679 738.571 Q37.6183 738.571 35.1038 740.545 Q32.5894 742.518 32.5894 746.465 Q32.5894 751.207 35.6131 753.944 Q38.6368 756.682 43.8567 756.682 L64.0042 756.682 L64.0042 762.57 L28.3562 762.57 L28.3562 756.682 L33.8944 756.682 Q30.6797 754.581 29.0883 751.748 Q27.4968 748.884 27.4968 745.16 Q27.4968 739.017 31.3163 735.866 Q35.1038 732.715 42.4881 732.715 Z\" fill=\"#000000\" fill-rule=\"nonzero\" fill-opacity=\"1\" /><path clip-path=\"url(#clip850)\" d=\"M20.1444 664.474 L26.9239 664.474 Q23.9002 667.721 22.4043 671.413 Q20.9083 675.073 20.9083 679.211 Q20.9083 687.359 25.9054 691.688 Q30.8707 696.016 40.2919 696.016 Q49.6813 696.016 54.6784 691.688 Q59.6436 687.359 59.6436 679.211 Q59.6436 675.073 58.1477 671.413 Q56.6518 667.721 53.6281 664.474 L60.3439 664.474 Q62.6355 667.848 63.7814 671.636 Q64.9272 675.392 64.9272 679.593 Q64.9272 690.383 58.3387 696.589 Q51.7183 702.796 40.2919 702.796 Q28.8336 702.796 22.2451 696.589 Q15.6248 690.383 15.6248 679.593 Q15.6248 675.328 16.7706 671.572 Q17.8846 667.785 20.1444 664.474 Z\" fill=\"#000000\" fill-rule=\"nonzero\" fill-opacity=\"1\" /><path clip-path=\"url(#clip850)\" d=\"M33.8307 634.142 Q33.2578 635.128 33.0032 636.306 Q32.7167 637.452 32.7167 638.852 Q32.7167 643.818 35.9632 646.491 Q39.1779 649.133 45.2253 649.133 L64.0042 649.133 L64.0042 655.021 L28.3562 655.021 L28.3562 649.133 L33.8944 649.133 Q30.6479 647.287 29.0883 644.327 Q27.4968 641.367 27.4968 637.134 Q27.4968 636.529 27.5923 635.797 Q27.656 635.065 27.8151 634.174 L33.8307 634.142 Z\" fill=\"#000000\" fill-rule=\"nonzero\" fill-opacity=\"1\" /><path clip-path=\"url(#clip850)\" d=\"M32.4621 615.618 Q32.4621 620.328 36.1542 623.065 Q39.8145 625.803 46.212 625.803 Q52.6095 625.803 56.3017 623.097 Q59.9619 620.36 59.9619 615.618 Q59.9619 610.939 56.2698 608.202 Q52.5777 605.464 46.212 605.464 Q39.8781 605.464 36.186 608.202 Q32.4621 610.939 32.4621 615.618 M27.4968 615.618 Q27.4968 607.979 32.4621 603.618 Q37.4273 599.258 46.212 599.258 Q54.9649 599.258 59.9619 603.618 Q64.9272 607.979 64.9272 615.618 Q64.9272 623.288 59.9619 627.649 Q54.9649 631.977 46.212 631.977 Q37.4273 631.977 32.4621 627.649 Q27.4968 623.288 27.4968 615.618 Z\" fill=\"#000000\" fill-rule=\"nonzero\" fill-opacity=\"1\" /><path clip-path=\"url(#clip850)\" d=\"M29.4065 566.824 L34.9447 566.824 Q33.6716 569.307 33.035 571.981 Q32.3984 574.654 32.3984 577.519 Q32.3984 581.879 33.7352 584.075 Q35.072 586.24 37.7456 586.24 Q39.7826 586.24 40.9603 584.68 Q42.1061 583.121 43.1565 578.41 L43.6021 576.405 Q44.9389 570.166 47.3897 567.556 Q49.8086 564.915 54.1691 564.915 Q59.1344 564.915 62.0308 568.861 Q64.9272 572.776 64.9272 579.651 Q64.9272 582.516 64.3543 585.635 Q63.8132 588.722 62.6992 592.16 L56.6518 592.16 Q58.3387 588.913 59.198 585.762 Q60.0256 582.611 60.0256 579.524 Q60.0256 575.386 58.6251 573.158 Q57.1929 570.93 54.6147 570.93 Q52.2276 570.93 50.9545 572.554 Q49.6813 574.145 48.5037 579.588 L48.0262 581.625 Q46.8804 587.067 44.5251 589.486 Q42.138 591.905 38.0002 591.905 Q32.9713 591.905 30.2341 588.341 Q27.4968 584.776 27.4968 578.219 Q27.4968 574.973 27.9743 572.108 Q28.4517 569.243 29.4065 566.824 Z\" fill=\"#000000\" fill-rule=\"nonzero\" fill-opacity=\"1\" /><path clip-path=\"url(#clip850)\" d=\"M29.4065 532.863 L34.9447 532.863 Q33.6716 535.346 33.035 538.02 Q32.3984 540.693 32.3984 543.558 Q32.3984 547.918 33.7352 550.114 Q35.072 552.279 37.7456 552.279 Q39.7826 552.279 40.9603 550.719 Q42.1061 549.16 43.1565 544.449 L43.6021 542.444 Q44.9389 536.205 47.3897 533.595 Q49.8086 530.954 54.1691 530.954 Q59.1344 530.954 62.0308 534.9 Q64.9272 538.815 64.9272 545.69 Q64.9272 548.555 64.3543 551.674 Q63.8132 554.761 62.6992 558.199 L56.6518 558.199 Q58.3387 554.952 59.198 551.801 Q60.0256 548.65 60.0256 545.563 Q60.0256 541.425 58.6251 539.197 Q57.1929 536.969 54.6147 536.969 Q52.2276 536.969 50.9545 538.593 Q49.6813 540.184 48.5037 545.627 L48.0262 547.664 Q46.8804 553.106 44.5251 555.525 Q42.138 557.944 38.0002 557.944 Q32.9713 557.944 30.2341 554.379 Q27.4968 550.815 27.4968 544.258 Q27.4968 541.011 27.9743 538.147 Q28.4517 535.282 29.4065 532.863 Z\" fill=\"#000000\" fill-rule=\"nonzero\" fill-opacity=\"1\" /><path clip-path=\"url(#clip850)\" d=\"M16.4842 500.653 L16.4842 470.607 L21.895 470.607 L21.895 494.224 L35.9632 494.224 L35.9632 471.593 L41.3741 471.593 L41.3741 494.224 L58.5933 494.224 L58.5933 470.034 L64.0042 470.034 L64.0042 500.653 L16.4842 500.653 Z\" fill=\"#000000\" fill-rule=\"nonzero\" fill-opacity=\"1\" /><path clip-path=\"url(#clip850)\" d=\"M42.4881 430.089 L64.0042 430.089 L64.0042 435.945 L42.679 435.945 Q37.6183 435.945 35.1038 437.919 Q32.5894 439.892 32.5894 443.839 Q32.5894 448.581 35.6131 451.319 Q38.6368 454.056 43.8567 454.056 L64.0042 454.056 L64.0042 459.944 L28.3562 459.944 L28.3562 454.056 L33.8944 454.056 Q30.6797 451.955 29.0883 449.123 Q27.4968 446.258 27.4968 442.534 Q27.4968 436.391 31.3163 433.24 Q35.1038 430.089 42.4881 430.089 Z\" fill=\"#000000\" fill-rule=\"nonzero\" fill-opacity=\"1\" /><path clip-path=\"url(#clip850)\" d=\"M18.2347 412.615 L28.3562 412.615 L28.3562 400.552 L32.9077 400.552 L32.9077 412.615 L52.2594 412.615 Q56.6199 412.615 57.8613 411.438 Q59.1026 410.228 59.1026 406.568 L59.1026 400.552 L64.0042 400.552 L64.0042 406.568 Q64.0042 413.347 61.4897 415.925 Q58.9434 418.503 52.2594 418.503 L32.9077 418.503 L32.9077 422.8 L28.3562 422.8 L28.3562 418.503 L18.2347 418.503 L18.2347 412.615 Z\" fill=\"#000000\" fill-rule=\"nonzero\" fill-opacity=\"1\" /><path clip-path=\"url(#clip850)\" d=\"M33.8307 372.193 Q33.2578 373.18 33.0032 374.357 Q32.7167 375.503 32.7167 376.904 Q32.7167 381.869 35.9632 384.542 Q39.1779 387.184 45.2253 387.184 L64.0042 387.184 L64.0042 393.072 L28.3562 393.072 L28.3562 387.184 L33.8944 387.184 Q30.6479 385.338 29.0883 382.378 Q27.4968 379.418 27.4968 375.185 Q27.4968 374.58 27.5923 373.848 Q27.656 373.116 27.8151 372.225 L33.8307 372.193 Z\" fill=\"#000000\" fill-rule=\"nonzero\" fill-opacity=\"1\" /><path clip-path=\"url(#clip850)\" d=\"M32.4621 353.669 Q32.4621 358.379 36.1542 361.117 Q39.8145 363.854 46.212 363.854 Q52.6095 363.854 56.3017 361.148 Q59.9619 358.411 59.9619 353.669 Q59.9619 348.99 56.2698 346.253 Q52.5777 343.515 46.212 343.515 Q39.8781 343.515 36.186 346.253 Q32.4621 348.99 32.4621 353.669 M27.4968 353.669 Q27.4968 346.03 32.4621 341.669 Q37.4273 337.309 46.212 337.309 Q54.9649 337.309 59.9619 341.669 Q64.9272 346.03 64.9272 353.669 Q64.9272 361.339 59.9619 365.7 Q54.9649 370.029 46.212 370.029 Q37.4273 370.029 32.4621 365.7 Q27.4968 361.339 27.4968 353.669 Z\" fill=\"#000000\" fill-rule=\"nonzero\" fill-opacity=\"1\" /><path clip-path=\"url(#clip850)\" d=\"M58.657 321.936 L77.5631 321.936 L77.5631 327.824 L28.3562 327.824 L28.3562 321.936 L33.7671 321.936 Q30.5842 320.09 29.0564 317.289 Q27.4968 314.456 27.4968 310.541 Q27.4968 304.048 32.6531 300.006 Q37.8093 295.932 46.212 295.932 Q54.6147 295.932 59.771 300.006 Q64.9272 304.048 64.9272 310.541 Q64.9272 314.456 63.3994 317.289 Q61.8398 320.09 58.657 321.936 M46.212 302.011 Q39.7508 302.011 36.0905 304.685 Q32.3984 307.326 32.3984 311.973 Q32.3984 316.62 36.0905 319.294 Q39.7508 321.936 46.212 321.936 Q52.6732 321.936 56.3653 319.294 Q60.0256 316.62 60.0256 311.973 Q60.0256 307.326 56.3653 304.685 Q52.6732 302.011 46.212 302.011 Z\" fill=\"#000000\" fill-rule=\"nonzero\" fill-opacity=\"1\" /><path clip-path=\"url(#clip850)\" d=\"M67.3143 271.392 Q73.68 273.875 75.6216 276.23 Q77.5631 278.585 77.5631 282.532 L77.5631 287.211 L72.6615 287.211 L72.6615 283.773 Q72.6615 281.354 71.5157 280.018 Q70.3699 278.681 66.1048 277.057 L63.4312 276.007 L28.3562 290.425 L28.3562 284.219 L56.238 273.079 L28.3562 261.939 L28.3562 255.732 L67.3143 271.392 Z\" fill=\"#000000\" fill-rule=\"nonzero\" fill-opacity=\"1\" /><polyline clip-path=\"url(#clip852)\" style=\"stroke:#009af9; stroke-linecap:round; stroke-linejoin:round; stroke-width:4; stroke-opacity:1; fill:none\" points=\"279.916,85.838 543.195,149.354 697.203,228.842 806.474,311.828 891.231,398.065 960.482,478.06 1019.03,522.096 1114.49,557.546 1190.71,583.909 1254.16,629.403 1308.52,642.186 1398.31,713.423 1453.99,748.613 1531.78,797.648 1596.31,854.975 1671.45,912.853 1734.15,975.046 1808.87,1037.45 1876.99,1091.82 1944.35,1156.08 2013.6,1198.94 2085.48,1226.23 2154.18,1277.08 2223.89,1333.67 2292.38,1372.3 \"/>\n",
       "<path clip-path=\"url(#clip850)\" d=\"M2015.9 196.379 L2281.65 196.379 L2281.65 92.6992 L2015.9 92.6992  Z\" fill=\"#ffffff\" fill-rule=\"evenodd\" fill-opacity=\"1\"/>\n",
       "<polyline clip-path=\"url(#clip850)\" style=\"stroke:#000000; stroke-linecap:round; stroke-linejoin:round; stroke-width:4; stroke-opacity:1; fill:none\" points=\"2015.9,196.379 2281.65,196.379 2281.65,92.6992 2015.9,92.6992 2015.9,196.379 \"/>\n",
       "<polyline clip-path=\"url(#clip850)\" style=\"stroke:#009af9; stroke-linecap:round; stroke-linejoin:round; stroke-width:4; stroke-opacity:1; fill:none\" points=\"2039.6,144.539 2181.81,144.539 \"/>\n",
       "<path clip-path=\"url(#clip850)\" d=\"M2219.36 164.227 Q2217.55 168.856 2215.84 170.268 Q2214.13 171.68 2211.26 171.68 L2207.85 171.68 L2207.85 168.115 L2210.35 168.115 Q2212.11 168.115 2213.09 167.282 Q2214.06 166.449 2215.24 163.347 L2216 161.403 L2205.52 135.893 L2210.03 135.893 L2218.13 156.171 L2226.23 135.893 L2230.75 135.893 L2219.36 164.227 Z\" fill=\"#000000\" fill-rule=\"nonzero\" fill-opacity=\"1\" /><path clip-path=\"url(#clip850)\" d=\"M2238.04 157.884 L2245.68 157.884 L2245.68 131.518 L2237.37 133.185 L2237.37 128.926 L2245.63 127.259 L2250.31 127.259 L2250.31 157.884 L2257.95 157.884 L2257.95 161.819 L2238.04 161.819 L2238.04 157.884 Z\" fill=\"#000000\" fill-rule=\"nonzero\" fill-opacity=\"1\" /></svg>\n"
      ],
      "text/html": [
       "<?xml version=\"1.0\" encoding=\"utf-8\"?>\n",
       "<svg xmlns=\"http://www.w3.org/2000/svg\" xmlns:xlink=\"http://www.w3.org/1999/xlink\" width=\"600\" height=\"400\" viewBox=\"0 0 2400 1600\">\n",
       "<defs>\n",
       "  <clipPath id=\"clip900\">\n",
       "    <rect x=\"0\" y=\"0\" width=\"2400\" height=\"1600\"/>\n",
       "  </clipPath>\n",
       "</defs>\n",
       "<path clip-path=\"url(#clip900)\" d=\"M0 1600 L2400 1600 L2400 0 L0 0  Z\" fill=\"#ffffff\" fill-rule=\"evenodd\" fill-opacity=\"1\"/>\n",
       "<defs>\n",
       "  <clipPath id=\"clip901\">\n",
       "    <rect x=\"480\" y=\"0\" width=\"1681\" height=\"1600\"/>\n",
       "  </clipPath>\n",
       "</defs>\n",
       "<path clip-path=\"url(#clip900)\" d=\"M219.542 1410.9 L2352.76 1410.9 L2352.76 47.2441 L219.542 47.2441  Z\" fill=\"#ffffff\" fill-rule=\"evenodd\" fill-opacity=\"1\"/>\n",
       "<defs>\n",
       "  <clipPath id=\"clip902\">\n",
       "    <rect x=\"219\" y=\"47\" width=\"2134\" height=\"1365\"/>\n",
       "  </clipPath>\n",
       "</defs>\n",
       "<polyline clip-path=\"url(#clip902)\" style=\"stroke:#000000; stroke-linecap:round; stroke-linejoin:round; stroke-width:2; stroke-opacity:0.1; fill:none\" points=\"279.916,1410.9 279.916,47.2441 \"/>\n",
       "<polyline clip-path=\"url(#clip902)\" style=\"stroke:#000000; stroke-linecap:round; stroke-linejoin:round; stroke-width:2; stroke-opacity:0.1; fill:none\" points=\"1154.51,1410.9 1154.51,47.2441 \"/>\n",
       "<polyline clip-path=\"url(#clip902)\" style=\"stroke:#000000; stroke-linecap:round; stroke-linejoin:round; stroke-width:2; stroke-opacity:0.1; fill:none\" points=\"2029.1,1410.9 2029.1,47.2441 \"/>\n",
       "<polyline clip-path=\"url(#clip900)\" style=\"stroke:#000000; stroke-linecap:round; stroke-linejoin:round; stroke-width:4; stroke-opacity:1; fill:none\" points=\"219.542,1410.9 2352.76,1410.9 \"/>\n",
       "<polyline clip-path=\"url(#clip900)\" style=\"stroke:#000000; stroke-linecap:round; stroke-linejoin:round; stroke-width:4; stroke-opacity:1; fill:none\" points=\"279.916,1410.9 279.916,1392 \"/>\n",
       "<polyline clip-path=\"url(#clip900)\" style=\"stroke:#000000; stroke-linecap:round; stroke-linejoin:round; stroke-width:4; stroke-opacity:1; fill:none\" points=\"1154.51,1410.9 1154.51,1392 \"/>\n",
       "<polyline clip-path=\"url(#clip900)\" style=\"stroke:#000000; stroke-linecap:round; stroke-linejoin:round; stroke-width:4; stroke-opacity:1; fill:none\" points=\"2029.1,1410.9 2029.1,1392 \"/>\n",
       "<path clip-path=\"url(#clip900)\" d=\"M244.899 1485.02 L252.538 1485.02 L252.538 1458.66 L244.228 1460.32 L244.228 1456.06 L252.492 1454.4 L257.167 1454.4 L257.167 1485.02 L264.806 1485.02 L264.806 1488.96 L244.899 1488.96 L244.899 1485.02 Z\" fill=\"#000000\" fill-rule=\"nonzero\" fill-opacity=\"1\" /><path clip-path=\"url(#clip900)\" d=\"M284.251 1457.48 Q280.64 1457.48 278.811 1461.04 Q277.005 1464.58 277.005 1471.71 Q277.005 1478.82 278.811 1482.38 Q280.64 1485.92 284.251 1485.92 Q287.885 1485.92 289.69 1482.38 Q291.519 1478.82 291.519 1471.71 Q291.519 1464.58 289.69 1461.04 Q287.885 1457.48 284.251 1457.48 M284.251 1453.77 Q290.061 1453.77 293.116 1458.38 Q296.195 1462.96 296.195 1471.71 Q296.195 1480.44 293.116 1485.04 Q290.061 1489.63 284.251 1489.63 Q278.44 1489.63 275.362 1485.04 Q272.306 1480.44 272.306 1471.71 Q272.306 1462.96 275.362 1458.38 Q278.44 1453.77 284.251 1453.77 Z\" fill=\"#000000\" fill-rule=\"nonzero\" fill-opacity=\"1\" /><path clip-path=\"url(#clip900)\" d=\"M305.9 1435.97 Q302.966 1435.97 301.48 1438.86 Q300.013 1441.74 300.013 1447.53 Q300.013 1453.31 301.48 1456.2 Q302.966 1459.08 305.9 1459.08 Q308.853 1459.08 310.32 1456.2 Q311.805 1453.31 311.805 1447.53 Q311.805 1441.74 310.32 1438.86 Q308.853 1435.97 305.9 1435.97 M305.9 1432.96 Q310.621 1432.96 313.103 1436.7 Q315.605 1440.43 315.605 1447.53 Q315.605 1454.62 313.103 1458.37 Q310.621 1462.09 305.9 1462.09 Q301.179 1462.09 298.678 1458.37 Q296.195 1454.62 296.195 1447.53 Q296.195 1440.43 298.678 1436.7 Q301.179 1432.96 305.9 1432.96 Z\" fill=\"#000000\" fill-rule=\"nonzero\" fill-opacity=\"1\" /><path clip-path=\"url(#clip900)\" d=\"M1120.84 1485.02 L1128.48 1485.02 L1128.48 1458.66 L1120.17 1460.32 L1120.17 1456.06 L1128.43 1454.4 L1133.11 1454.4 L1133.11 1485.02 L1140.74 1485.02 L1140.74 1488.96 L1120.84 1488.96 L1120.84 1485.02 Z\" fill=\"#000000\" fill-rule=\"nonzero\" fill-opacity=\"1\" /><path clip-path=\"url(#clip900)\" d=\"M1160.19 1457.48 Q1156.58 1457.48 1154.75 1461.04 Q1152.94 1464.58 1152.94 1471.71 Q1152.94 1478.82 1154.75 1482.38 Q1156.58 1485.92 1160.19 1485.92 Q1163.82 1485.92 1165.63 1482.38 Q1167.46 1478.82 1167.46 1471.71 Q1167.46 1464.58 1165.63 1461.04 Q1163.82 1457.48 1160.19 1457.48 M1160.19 1453.77 Q1166 1453.77 1169.05 1458.38 Q1172.13 1462.96 1172.13 1471.71 Q1172.13 1480.44 1169.05 1485.04 Q1166 1489.63 1160.19 1489.63 Q1154.38 1489.63 1151.3 1485.04 Q1148.24 1480.44 1148.24 1471.71 Q1148.24 1462.96 1151.3 1458.38 Q1154.38 1453.77 1160.19 1453.77 Z\" fill=\"#000000\" fill-rule=\"nonzero\" fill-opacity=\"1\" /><path clip-path=\"url(#clip900)\" d=\"M1172.68 1458.35 L1178.89 1458.35 L1178.89 1436.93 L1172.13 1438.28 L1172.13 1434.82 L1178.85 1433.47 L1182.65 1433.47 L1182.65 1458.35 L1188.85 1458.35 L1188.85 1461.55 L1172.68 1461.55 L1172.68 1458.35 Z\" fill=\"#000000\" fill-rule=\"nonzero\" fill-opacity=\"1\" /><path clip-path=\"url(#clip900)\" d=\"M1994.88 1485.02 L2002.51 1485.02 L2002.51 1458.66 L1994.2 1460.32 L1994.2 1456.06 L2002.47 1454.4 L2007.14 1454.4 L2007.14 1485.02 L2014.78 1485.02 L2014.78 1488.96 L1994.88 1488.96 L1994.88 1485.02 Z\" fill=\"#000000\" fill-rule=\"nonzero\" fill-opacity=\"1\" /><path clip-path=\"url(#clip900)\" d=\"M2034.23 1457.48 Q2030.62 1457.48 2028.79 1461.04 Q2026.98 1464.58 2026.98 1471.71 Q2026.98 1478.82 2028.79 1482.38 Q2030.62 1485.92 2034.23 1485.92 Q2037.86 1485.92 2039.67 1482.38 Q2041.5 1478.82 2041.5 1471.71 Q2041.5 1464.58 2039.67 1461.04 Q2037.86 1457.48 2034.23 1457.48 M2034.23 1453.77 Q2040.04 1453.77 2043.09 1458.38 Q2046.17 1462.96 2046.17 1471.71 Q2046.17 1480.44 2043.09 1485.04 Q2040.04 1489.63 2034.23 1489.63 Q2028.42 1489.63 2025.34 1485.04 Q2022.28 1480.44 2022.28 1471.71 Q2022.28 1462.96 2025.34 1458.38 Q2028.42 1453.77 2034.23 1453.77 Z\" fill=\"#000000\" fill-rule=\"nonzero\" fill-opacity=\"1\" /><path clip-path=\"url(#clip900)\" d=\"M2050.74 1458.35 L2064 1458.35 L2064 1461.55 L2046.17 1461.55 L2046.17 1458.35 Q2048.33 1456.11 2052.06 1452.35 Q2055.8 1448.57 2056.76 1447.48 Q2058.58 1445.43 2059.3 1444.02 Q2060.03 1442.59 2060.03 1441.22 Q2060.03 1438.98 2058.45 1437.57 Q2056.89 1436.16 2054.37 1436.16 Q2052.59 1436.16 2050.59 1436.78 Q2048.62 1437.4 2046.36 1438.66 L2046.36 1434.82 Q2048.65 1433.9 2050.65 1433.43 Q2052.64 1432.96 2054.3 1432.96 Q2058.66 1432.96 2061.26 1435.14 Q2063.85 1437.32 2063.85 1440.97 Q2063.85 1442.7 2063.19 1444.26 Q2062.55 1445.8 2060.84 1447.91 Q2060.37 1448.46 2057.85 1451.07 Q2055.33 1453.67 2050.74 1458.35 Z\" fill=\"#000000\" fill-rule=\"nonzero\" fill-opacity=\"1\" /><path clip-path=\"url(#clip900)\" d=\"M1206.34 1554.9 L1206.34 1557.76 L1179.41 1557.76 Q1179.79 1563.81 1183.04 1566.99 Q1186.32 1570.14 1192.14 1570.14 Q1195.52 1570.14 1198.67 1569.32 Q1201.85 1568.49 1204.97 1566.83 L1204.97 1572.37 Q1201.82 1573.71 1198.51 1574.41 Q1195.2 1575.11 1191.79 1575.11 Q1183.26 1575.11 1178.27 1570.14 Q1173.3 1565.18 1173.3 1556.71 Q1173.3 1547.96 1178.01 1542.83 Q1182.75 1537.68 1190.77 1537.68 Q1197.97 1537.68 1202.14 1542.33 Q1206.34 1546.94 1206.34 1554.9 M1200.48 1553.18 Q1200.42 1548.37 1197.78 1545.51 Q1195.17 1542.64 1190.84 1542.64 Q1185.94 1542.64 1182.98 1545.41 Q1180.05 1548.18 1179.6 1553.21 L1200.48 1553.18 Z\" fill=\"#000000\" fill-rule=\"nonzero\" fill-opacity=\"1\" /><path clip-path=\"url(#clip900)\" d=\"M1221.62 1568.84 L1221.62 1587.74 L1215.73 1587.74 L1215.73 1538.54 L1221.62 1538.54 L1221.62 1543.95 Q1223.46 1540.77 1226.26 1539.24 Q1229.1 1537.68 1233.01 1537.68 Q1239.5 1537.68 1243.55 1542.83 Q1247.62 1547.99 1247.62 1556.39 Q1247.62 1564.8 1243.55 1569.95 Q1239.5 1575.11 1233.01 1575.11 Q1229.1 1575.11 1226.26 1573.58 Q1223.46 1572.02 1221.62 1568.84 M1241.54 1556.39 Q1241.54 1549.93 1238.87 1546.27 Q1236.23 1542.58 1231.58 1542.58 Q1226.93 1542.58 1224.26 1546.27 Q1221.62 1549.93 1221.62 1556.39 Q1221.62 1562.85 1224.26 1566.55 Q1226.93 1570.21 1231.58 1570.21 Q1236.23 1570.21 1238.87 1566.55 Q1241.54 1562.85 1241.54 1556.39 Z\" fill=\"#000000\" fill-rule=\"nonzero\" fill-opacity=\"1\" /><path clip-path=\"url(#clip900)\" d=\"M1271.14 1542.64 Q1266.43 1542.64 1263.69 1546.34 Q1260.96 1550 1260.96 1556.39 Q1260.96 1562.79 1263.66 1566.48 Q1266.4 1570.14 1271.14 1570.14 Q1275.82 1570.14 1278.56 1566.45 Q1281.3 1562.76 1281.3 1556.39 Q1281.3 1550.06 1278.56 1546.37 Q1275.82 1542.64 1271.14 1542.64 M1271.14 1537.68 Q1278.78 1537.68 1283.14 1542.64 Q1287.5 1547.61 1287.5 1556.39 Q1287.5 1565.15 1283.14 1570.14 Q1278.78 1575.11 1271.14 1575.11 Q1263.47 1575.11 1259.11 1570.14 Q1254.78 1565.15 1254.78 1556.39 Q1254.78 1547.61 1259.11 1542.64 Q1263.47 1537.68 1271.14 1537.68 Z\" fill=\"#000000\" fill-rule=\"nonzero\" fill-opacity=\"1\" /><path clip-path=\"url(#clip900)\" d=\"M1322.86 1539.91 L1322.86 1545.38 Q1320.38 1544.01 1317.87 1543.34 Q1315.38 1542.64 1312.84 1542.64 Q1307.14 1542.64 1303.99 1546.27 Q1300.84 1549.87 1300.84 1556.39 Q1300.84 1562.92 1303.99 1566.55 Q1307.14 1570.14 1312.84 1570.14 Q1315.38 1570.14 1317.87 1569.47 Q1320.38 1568.77 1322.86 1567.41 L1322.86 1572.82 Q1320.41 1573.96 1317.77 1574.54 Q1315.16 1575.11 1312.2 1575.11 Q1304.15 1575.11 1299.41 1570.05 Q1294.66 1564.99 1294.66 1556.39 Q1294.66 1547.67 1299.44 1542.68 Q1304.24 1537.68 1312.58 1537.68 Q1315.29 1537.68 1317.87 1538.25 Q1320.44 1538.79 1322.86 1539.91 Z\" fill=\"#000000\" fill-rule=\"nonzero\" fill-opacity=\"1\" /><path clip-path=\"url(#clip900)\" d=\"M1362.68 1552.67 L1362.68 1574.19 L1356.82 1574.19 L1356.82 1552.86 Q1356.82 1547.8 1354.85 1545.29 Q1352.88 1542.77 1348.93 1542.77 Q1344.19 1542.77 1341.45 1545.79 Q1338.71 1548.82 1338.71 1554.04 L1338.71 1574.19 L1332.83 1574.19 L1332.83 1524.66 L1338.71 1524.66 L1338.71 1544.08 Q1340.81 1540.86 1343.65 1539.27 Q1346.51 1537.68 1350.24 1537.68 Q1356.38 1537.68 1359.53 1541.5 Q1362.68 1545.29 1362.68 1552.67 Z\" fill=\"#000000\" fill-rule=\"nonzero\" fill-opacity=\"1\" /><path clip-path=\"url(#clip900)\" d=\"M1397.09 1539.59 L1397.09 1545.13 Q1394.6 1543.85 1391.93 1543.22 Q1389.26 1542.58 1386.39 1542.58 Q1382.03 1542.58 1379.84 1543.92 Q1377.67 1545.25 1377.67 1547.93 Q1377.67 1549.96 1379.23 1551.14 Q1380.79 1552.29 1385.5 1553.34 L1387.51 1553.78 Q1393.75 1555.12 1396.36 1557.57 Q1399 1559.99 1399 1564.35 Q1399 1569.32 1395.05 1572.21 Q1391.14 1575.11 1384.26 1575.11 Q1381.4 1575.11 1378.28 1574.54 Q1375.19 1573.99 1371.75 1572.88 L1371.75 1566.83 Q1375 1568.52 1378.15 1569.38 Q1381.3 1570.21 1384.39 1570.21 Q1388.53 1570.21 1390.75 1568.81 Q1392.98 1567.37 1392.98 1564.8 Q1392.98 1562.41 1391.36 1561.14 Q1389.77 1559.86 1384.32 1558.68 L1382.29 1558.21 Q1376.84 1557.06 1374.43 1554.71 Q1372.01 1552.32 1372.01 1548.18 Q1372.01 1543.15 1375.57 1540.42 Q1379.14 1537.68 1385.69 1537.68 Q1388.94 1537.68 1391.8 1538.16 Q1394.67 1538.63 1397.09 1539.59 Z\" fill=\"#000000\" fill-rule=\"nonzero\" fill-opacity=\"1\" /><polyline clip-path=\"url(#clip902)\" style=\"stroke:#000000; stroke-linecap:round; stroke-linejoin:round; stroke-width:2; stroke-opacity:0.1; fill:none\" points=\"219.542,1197.14 2352.76,1197.14 \"/>\n",
       "<polyline clip-path=\"url(#clip902)\" style=\"stroke:#000000; stroke-linecap:round; stroke-linejoin:round; stroke-width:2; stroke-opacity:0.1; fill:none\" points=\"219.542,878.121 2352.76,878.121 \"/>\n",
       "<polyline clip-path=\"url(#clip902)\" style=\"stroke:#000000; stroke-linecap:round; stroke-linejoin:round; stroke-width:2; stroke-opacity:0.1; fill:none\" points=\"219.542,559.103 2352.76,559.103 \"/>\n",
       "<polyline clip-path=\"url(#clip902)\" style=\"stroke:#000000; stroke-linecap:round; stroke-linejoin:round; stroke-width:2; stroke-opacity:0.1; fill:none\" points=\"219.542,240.086 2352.76,240.086 \"/>\n",
       "<polyline clip-path=\"url(#clip900)\" style=\"stroke:#000000; stroke-linecap:round; stroke-linejoin:round; stroke-width:4; stroke-opacity:1; fill:none\" points=\"219.542,1410.9 219.542,47.2441 \"/>\n",
       "<polyline clip-path=\"url(#clip900)\" style=\"stroke:#000000; stroke-linecap:round; stroke-linejoin:round; stroke-width:4; stroke-opacity:1; fill:none\" points=\"219.542,1197.14 238.44,1197.14 \"/>\n",
       "<polyline clip-path=\"url(#clip900)\" style=\"stroke:#000000; stroke-linecap:round; stroke-linejoin:round; stroke-width:4; stroke-opacity:1; fill:none\" points=\"219.542,878.121 238.44,878.121 \"/>\n",
       "<polyline clip-path=\"url(#clip900)\" style=\"stroke:#000000; stroke-linecap:round; stroke-linejoin:round; stroke-width:4; stroke-opacity:1; fill:none\" points=\"219.542,559.103 238.44,559.103 \"/>\n",
       "<polyline clip-path=\"url(#clip900)\" style=\"stroke:#000000; stroke-linecap:round; stroke-linejoin:round; stroke-width:4; stroke-opacity:1; fill:none\" points=\"219.542,240.086 238.44,240.086 \"/>\n",
       "<path clip-path=\"url(#clip900)\" d=\"M126.205 1182.94 Q122.593 1182.94 120.765 1186.5 Q118.959 1190.04 118.959 1197.17 Q118.959 1204.28 120.765 1207.84 Q122.593 1211.39 126.205 1211.39 Q129.839 1211.39 131.644 1207.84 Q133.473 1204.28 133.473 1197.17 Q133.473 1190.04 131.644 1186.5 Q129.839 1182.94 126.205 1182.94 M126.205 1179.23 Q132.015 1179.23 135.07 1183.84 Q138.149 1188.42 138.149 1197.17 Q138.149 1205.9 135.07 1210.51 Q132.015 1215.09 126.205 1215.09 Q120.394 1215.09 117.316 1210.51 Q114.26 1205.9 114.26 1197.17 Q114.26 1188.42 117.316 1183.84 Q120.394 1179.23 126.205 1179.23 Z\" fill=\"#000000\" fill-rule=\"nonzero\" fill-opacity=\"1\" /><path clip-path=\"url(#clip900)\" d=\"M146.366 1208.54 L151.251 1208.54 L151.251 1214.42 L146.366 1214.42 L146.366 1208.54 Z\" fill=\"#000000\" fill-rule=\"nonzero\" fill-opacity=\"1\" /><path clip-path=\"url(#clip900)\" d=\"M172.014 1195.28 Q168.866 1195.28 167.015 1197.43 Q165.186 1199.58 165.186 1203.33 Q165.186 1207.06 167.015 1209.23 Q168.866 1211.39 172.014 1211.39 Q175.163 1211.39 176.991 1209.23 Q178.843 1207.06 178.843 1203.33 Q178.843 1199.58 176.991 1197.43 Q175.163 1195.28 172.014 1195.28 M181.297 1180.62 L181.297 1184.88 Q179.538 1184.05 177.732 1183.61 Q175.95 1183.17 174.19 1183.17 Q169.561 1183.17 167.107 1186.29 Q164.677 1189.42 164.329 1195.74 Q165.695 1193.72 167.755 1192.66 Q169.815 1191.57 172.292 1191.57 Q177.501 1191.57 180.51 1194.74 Q183.542 1197.89 183.542 1203.33 Q183.542 1208.66 180.394 1211.87 Q177.246 1215.09 172.014 1215.09 Q166.019 1215.09 162.848 1210.51 Q159.677 1205.9 159.677 1197.17 Q159.677 1188.98 163.565 1184.12 Q167.454 1179.23 174.005 1179.23 Q175.764 1179.23 177.547 1179.58 Q179.352 1179.93 181.297 1180.62 Z\" fill=\"#000000\" fill-rule=\"nonzero\" fill-opacity=\"1\" /><path clip-path=\"url(#clip900)\" d=\"M126.459 863.92 Q122.848 863.92 121.019 867.485 Q119.214 871.026 119.214 878.156 Q119.214 885.262 121.019 888.827 Q122.848 892.369 126.459 892.369 Q130.093 892.369 131.899 888.827 Q133.728 885.262 133.728 878.156 Q133.728 871.026 131.899 867.485 Q130.093 863.92 126.459 863.92 M126.459 860.216 Q132.269 860.216 135.325 864.823 Q138.404 869.406 138.404 878.156 Q138.404 886.883 135.325 891.489 Q132.269 896.072 126.459 896.072 Q120.649 896.072 117.57 891.489 Q114.515 886.883 114.515 878.156 Q114.515 869.406 117.57 864.823 Q120.649 860.216 126.459 860.216 Z\" fill=\"#000000\" fill-rule=\"nonzero\" fill-opacity=\"1\" /><path clip-path=\"url(#clip900)\" d=\"M146.621 889.522 L151.505 889.522 L151.505 895.401 L146.621 895.401 L146.621 889.522 Z\" fill=\"#000000\" fill-rule=\"nonzero\" fill-opacity=\"1\" /><path clip-path=\"url(#clip900)\" d=\"M171.69 878.989 Q168.357 878.989 166.436 880.772 Q164.538 882.554 164.538 885.679 Q164.538 888.804 166.436 890.586 Q168.357 892.369 171.69 892.369 Q175.024 892.369 176.945 890.586 Q178.866 888.781 178.866 885.679 Q178.866 882.554 176.945 880.772 Q175.047 878.989 171.69 878.989 M167.015 876.998 Q164.005 876.258 162.315 874.198 Q160.649 872.137 160.649 869.174 Q160.649 865.031 163.589 862.624 Q166.552 860.216 171.69 860.216 Q176.852 860.216 179.792 862.624 Q182.732 865.031 182.732 869.174 Q182.732 872.137 181.042 874.198 Q179.376 876.258 176.389 876.998 Q179.769 877.786 181.644 880.077 Q183.542 882.369 183.542 885.679 Q183.542 890.702 180.464 893.387 Q177.408 896.072 171.69 896.072 Q165.973 896.072 162.894 893.387 Q159.839 890.702 159.839 885.679 Q159.839 882.369 161.737 880.077 Q163.635 877.786 167.015 876.998 M165.302 869.614 Q165.302 872.299 166.968 873.804 Q168.658 875.309 171.69 875.309 Q174.7 875.309 176.389 873.804 Q178.102 872.299 178.102 869.614 Q178.102 866.929 176.389 865.424 Q174.7 863.92 171.69 863.92 Q168.658 863.92 166.968 865.424 Q165.302 866.929 165.302 869.614 Z\" fill=\"#000000\" fill-rule=\"nonzero\" fill-opacity=\"1\" /><path clip-path=\"url(#clip900)\" d=\"M117.177 572.448 L124.816 572.448 L124.816 546.083 L116.506 547.749 L116.506 543.49 L124.769 541.823 L129.445 541.823 L129.445 572.448 L137.084 572.448 L137.084 576.383 L117.177 576.383 L117.177 572.448 Z\" fill=\"#000000\" fill-rule=\"nonzero\" fill-opacity=\"1\" /><path clip-path=\"url(#clip900)\" d=\"M146.529 570.504 L151.413 570.504 L151.413 576.383 L146.529 576.383 L146.529 570.504 Z\" fill=\"#000000\" fill-rule=\"nonzero\" fill-opacity=\"1\" /><path clip-path=\"url(#clip900)\" d=\"M171.598 544.902 Q167.987 544.902 166.158 548.467 Q164.352 552.009 164.352 559.138 Q164.352 566.245 166.158 569.809 Q167.987 573.351 171.598 573.351 Q175.232 573.351 177.038 569.809 Q178.866 566.245 178.866 559.138 Q178.866 552.009 177.038 548.467 Q175.232 544.902 171.598 544.902 M171.598 541.198 Q177.408 541.198 180.464 545.805 Q183.542 550.388 183.542 559.138 Q183.542 567.865 180.464 572.471 Q177.408 577.055 171.598 577.055 Q165.788 577.055 162.709 572.471 Q159.653 567.865 159.653 559.138 Q159.653 550.388 162.709 545.805 Q165.788 541.198 171.598 541.198 Z\" fill=\"#000000\" fill-rule=\"nonzero\" fill-opacity=\"1\" /><path clip-path=\"url(#clip900)\" d=\"M118.774 253.431 L126.413 253.431 L126.413 227.065 L118.103 228.732 L118.103 224.472 L126.367 222.806 L131.042 222.806 L131.042 253.431 L138.681 253.431 L138.681 257.366 L118.774 257.366 L118.774 253.431 Z\" fill=\"#000000\" fill-rule=\"nonzero\" fill-opacity=\"1\" /><path clip-path=\"url(#clip900)\" d=\"M148.126 251.486 L153.01 251.486 L153.01 257.366 L148.126 257.366 L148.126 251.486 Z\" fill=\"#000000\" fill-rule=\"nonzero\" fill-opacity=\"1\" /><path clip-path=\"url(#clip900)\" d=\"M167.223 253.431 L183.542 253.431 L183.542 257.366 L161.598 257.366 L161.598 253.431 Q164.26 250.676 168.843 246.046 Q173.45 241.394 174.63 240.051 Q176.876 237.528 177.755 235.792 Q178.658 234.033 178.658 232.343 Q178.658 229.588 176.714 227.852 Q174.792 226.116 171.69 226.116 Q169.491 226.116 167.038 226.88 Q164.607 227.644 161.829 229.195 L161.829 224.472 Q164.653 223.338 167.107 222.759 Q169.561 222.181 171.598 222.181 Q176.968 222.181 180.163 224.866 Q183.357 227.551 183.357 232.042 Q183.357 234.171 182.547 236.093 Q181.76 237.991 179.653 240.583 Q179.075 241.255 175.973 244.472 Q172.871 247.667 167.223 253.431 Z\" fill=\"#000000\" fill-rule=\"nonzero\" fill-opacity=\"1\" /><path clip-path=\"url(#clip900)\" d=\"M16.4842 1202.41 L16.4842 1172.36 L21.895 1172.36 L21.895 1195.98 L35.9632 1195.98 L35.9632 1173.35 L41.3741 1173.35 L41.3741 1195.98 L58.5933 1195.98 L58.5933 1171.79 L64.0042 1171.79 L64.0042 1202.41 L16.4842 1202.41 Z\" fill=\"#000000\" fill-rule=\"nonzero\" fill-opacity=\"1\" /><path clip-path=\"url(#clip900)\" d=\"M33.8307 1140.82 Q33.2578 1141.81 33.0032 1142.98 Q32.7167 1144.13 32.7167 1145.53 Q32.7167 1150.5 35.9632 1153.17 Q39.1779 1155.81 45.2253 1155.81 L64.0042 1155.81 L64.0042 1161.7 L28.3562 1161.7 L28.3562 1155.81 L33.8944 1155.81 Q30.6479 1153.97 29.0883 1151.01 Q27.4968 1148.05 27.4968 1143.81 Q27.4968 1143.21 27.5923 1142.48 Q27.656 1141.74 27.8151 1140.85 L33.8307 1140.82 Z\" fill=\"#000000\" fill-rule=\"nonzero\" fill-opacity=\"1\" /><path clip-path=\"url(#clip900)\" d=\"M33.8307 1115.17 Q33.2578 1116.15 33.0032 1117.33 Q32.7167 1118.48 32.7167 1119.88 Q32.7167 1124.84 35.9632 1127.52 Q39.1779 1130.16 45.2253 1130.16 L64.0042 1130.16 L64.0042 1136.05 L28.3562 1136.05 L28.3562 1130.16 L33.8944 1130.16 Q30.6479 1128.31 29.0883 1125.35 Q27.4968 1122.39 27.4968 1118.16 Q27.4968 1117.55 27.5923 1116.82 Q27.656 1116.09 27.8151 1115.2 L33.8307 1115.17 Z\" fill=\"#000000\" fill-rule=\"nonzero\" fill-opacity=\"1\" /><path clip-path=\"url(#clip900)\" d=\"M32.4621 1096.64 Q32.4621 1101.35 36.1542 1104.09 Q39.8145 1106.83 46.212 1106.83 Q52.6095 1106.83 56.3017 1104.12 Q59.9619 1101.38 59.9619 1096.64 Q59.9619 1091.96 56.2698 1089.23 Q52.5777 1086.49 46.212 1086.49 Q39.8781 1086.49 36.186 1089.23 Q32.4621 1091.96 32.4621 1096.64 M27.4968 1096.64 Q27.4968 1089 32.4621 1084.64 Q37.4273 1080.28 46.212 1080.28 Q54.9649 1080.28 59.9619 1084.64 Q64.9272 1089 64.9272 1096.64 Q64.9272 1104.31 59.9619 1108.67 Q54.9649 1113 46.212 1113 Q37.4273 1113 32.4621 1108.67 Q27.4968 1104.31 27.4968 1096.64 Z\" fill=\"#000000\" fill-rule=\"nonzero\" fill-opacity=\"1\" /><path clip-path=\"url(#clip900)\" d=\"M33.8307 1049.92 Q33.2578 1050.9 33.0032 1052.08 Q32.7167 1053.23 32.7167 1054.63 Q32.7167 1059.59 35.9632 1062.27 Q39.1779 1064.91 45.2253 1064.91 L64.0042 1064.91 L64.0042 1070.8 L28.3562 1070.8 L28.3562 1064.91 L33.8944 1064.91 Q30.6479 1063.06 29.0883 1060.1 Q27.4968 1057.14 27.4968 1052.91 Q27.4968 1052.31 27.5923 1051.57 Q27.656 1050.84 27.8151 1049.95 L33.8307 1049.92 Z\" fill=\"#000000\" fill-rule=\"nonzero\" fill-opacity=\"1\" /><path clip-path=\"url(#clip900)\" d=\"M41.3104 1016.37 L58.7206 1016.37 L58.7206 1006.06 Q58.7206 1000.87 56.5881 998.388 Q54.4238 995.873 49.9996 995.873 Q45.5436 995.873 43.4429 998.388 Q41.3104 1000.87 41.3104 1006.06 L41.3104 1016.37 M21.7677 1016.37 L36.0905 1016.37 L36.0905 1006.85 Q36.0905 1002.14 34.34 999.852 Q32.5576 997.528 28.9291 997.528 Q25.3325 997.528 23.5501 999.852 Q21.7677 1002.14 21.7677 1006.85 L21.7677 1016.37 M16.4842 1022.8 L16.4842 1006.38 Q16.4842 999.024 19.5397 995.046 Q22.5952 991.067 28.2289 991.067 Q32.5894 991.067 35.1675 993.104 Q37.7456 995.141 38.3822 999.088 Q39.4007 994.345 42.6472 991.735 Q45.8619 989.094 50.6998 989.094 Q57.0655 989.094 60.5348 993.422 Q64.0042 997.751 64.0042 1005.74 L64.0042 1022.8 L16.4842 1022.8 Z\" fill=\"#000000\" fill-rule=\"nonzero\" fill-opacity=\"1\" /><path clip-path=\"url(#clip900)\" d=\"M46.0847 962.135 Q46.0847 969.233 47.7079 971.97 Q49.3312 974.707 53.2461 974.707 Q56.3653 974.707 58.2114 972.67 Q60.0256 970.601 60.0256 967.068 Q60.0256 962.198 56.5881 959.27 Q53.1188 956.31 47.3897 956.31 L46.0847 956.31 L46.0847 962.135 M43.6657 950.454 L64.0042 950.454 L64.0042 956.31 L58.5933 956.31 Q61.8398 958.315 63.3994 961.307 Q64.9272 964.299 64.9272 968.628 Q64.9272 974.102 61.8716 977.349 Q58.7843 980.564 53.6281 980.564 Q47.6125 980.564 44.5569 976.553 Q41.5014 972.511 41.5014 964.522 L41.5014 956.31 L40.9285 956.31 Q36.8862 956.31 34.6901 958.984 Q32.4621 961.626 32.4621 966.432 Q32.4621 969.487 33.1941 972.384 Q33.9262 975.28 35.3903 977.954 L29.9795 977.954 Q28.7381 974.739 28.1334 971.715 Q27.4968 968.691 27.4968 965.827 Q27.4968 958.093 31.5072 954.273 Q35.5176 950.454 43.6657 950.454 Z\" fill=\"#000000\" fill-rule=\"nonzero\" fill-opacity=\"1\" /><path clip-path=\"url(#clip900)\" d=\"M29.4065 915.665 L34.9447 915.665 Q33.6716 918.148 33.035 920.821 Q32.3984 923.495 32.3984 926.36 Q32.3984 930.72 33.7352 932.916 Q35.072 935.081 37.7456 935.081 Q39.7826 935.081 40.9603 933.521 Q42.1061 931.961 43.1565 927.251 L43.6021 925.246 Q44.9389 919.007 47.3897 916.397 Q49.8086 913.755 54.1691 913.755 Q59.1344 913.755 62.0308 917.702 Q64.9272 921.617 64.9272 928.492 Q64.9272 931.357 64.3543 934.476 Q63.8132 937.563 62.6992 941.001 L56.6518 941.001 Q58.3387 937.754 59.198 934.603 Q60.0256 931.452 60.0256 928.365 Q60.0256 924.227 58.6251 921.999 Q57.1929 919.771 54.6147 919.771 Q52.2276 919.771 50.9545 921.394 Q49.6813 922.986 48.5037 928.428 L48.0262 930.465 Q46.8804 935.908 44.5251 938.327 Q42.138 940.746 38.0002 940.746 Q32.9713 940.746 30.2341 937.181 Q27.4968 933.616 27.4968 927.06 Q27.4968 923.813 27.9743 920.949 Q28.4517 918.084 29.4065 915.665 Z\" fill=\"#000000\" fill-rule=\"nonzero\" fill-opacity=\"1\" /><path clip-path=\"url(#clip900)\" d=\"M44.7161 873.938 L47.5806 873.938 L47.5806 900.865 Q53.6281 900.483 56.8109 897.236 Q59.9619 893.958 59.9619 888.133 Q59.9619 884.76 59.1344 881.609 Q58.3069 878.426 56.6518 875.307 L62.1899 875.307 Q63.5267 878.458 64.227 881.768 Q64.9272 885.078 64.9272 888.484 Q64.9272 897.014 59.9619 902.011 Q54.9967 906.976 46.5303 906.976 Q37.7774 906.976 32.6531 902.265 Q27.4968 897.523 27.4968 889.502 Q27.4968 882.309 32.1438 878.139 Q36.7589 873.938 44.7161 873.938 M42.9973 879.794 Q38.1912 879.858 35.3266 882.5 Q32.4621 885.11 32.4621 889.438 Q32.4621 894.34 35.2312 897.3 Q38.0002 900.228 43.0292 900.674 L42.9973 879.794 Z\" fill=\"#000000\" fill-rule=\"nonzero\" fill-opacity=\"1\" /><path clip-path=\"url(#clip900)\" d=\"M33.7671 840.868 L14.479 840.868 L14.479 835.012 L64.0042 835.012 L64.0042 840.868 L58.657 840.868 Q61.8398 842.714 63.3994 845.547 Q64.9272 848.348 64.9272 852.295 Q64.9272 858.756 59.771 862.83 Q54.6147 866.872 46.212 866.872 Q37.8093 866.872 32.6531 862.83 Q27.4968 858.756 27.4968 852.295 Q27.4968 848.348 29.0564 845.547 Q30.5842 842.714 33.7671 840.868 M46.212 860.825 Q52.6732 860.825 56.3653 858.183 Q60.0256 855.509 60.0256 850.862 Q60.0256 846.215 56.3653 843.542 Q52.6732 840.868 46.212 840.868 Q39.7508 840.868 36.0905 843.542 Q32.3984 846.215 32.3984 850.862 Q32.3984 855.509 36.0905 858.183 Q39.7508 860.825 46.212 860.825 Z\" fill=\"#000000\" fill-rule=\"nonzero\" fill-opacity=\"1\" /><path clip-path=\"url(#clip900)\" d=\"M32.4621 788.415 Q32.4621 793.125 36.1542 795.863 Q39.8145 798.6 46.212 798.6 Q52.6095 798.6 56.3017 795.894 Q59.9619 793.157 59.9619 788.415 Q59.9619 783.736 56.2698 780.999 Q52.5777 778.261 46.212 778.261 Q39.8781 778.261 36.186 780.999 Q32.4621 783.736 32.4621 788.415 M27.4968 788.415 Q27.4968 780.776 32.4621 776.415 Q37.4273 772.055 46.212 772.055 Q54.9649 772.055 59.9619 776.415 Q64.9272 780.776 64.9272 788.415 Q64.9272 796.085 59.9619 800.446 Q54.9649 804.775 46.212 804.775 Q37.4273 804.775 32.4621 800.446 Q27.4968 796.085 27.4968 788.415 Z\" fill=\"#000000\" fill-rule=\"nonzero\" fill-opacity=\"1\" /><path clip-path=\"url(#clip900)\" d=\"M42.4881 732.715 L64.0042 732.715 L64.0042 738.571 L42.679 738.571 Q37.6183 738.571 35.1038 740.545 Q32.5894 742.518 32.5894 746.465 Q32.5894 751.207 35.6131 753.944 Q38.6368 756.682 43.8567 756.682 L64.0042 756.682 L64.0042 762.57 L28.3562 762.57 L28.3562 756.682 L33.8944 756.682 Q30.6797 754.581 29.0883 751.748 Q27.4968 748.884 27.4968 745.16 Q27.4968 739.017 31.3163 735.866 Q35.1038 732.715 42.4881 732.715 Z\" fill=\"#000000\" fill-rule=\"nonzero\" fill-opacity=\"1\" /><path clip-path=\"url(#clip900)\" d=\"M20.1444 664.474 L26.9239 664.474 Q23.9002 667.721 22.4043 671.413 Q20.9083 675.073 20.9083 679.211 Q20.9083 687.359 25.9054 691.688 Q30.8707 696.016 40.2919 696.016 Q49.6813 696.016 54.6784 691.688 Q59.6436 687.359 59.6436 679.211 Q59.6436 675.073 58.1477 671.413 Q56.6518 667.721 53.6281 664.474 L60.3439 664.474 Q62.6355 667.848 63.7814 671.636 Q64.9272 675.392 64.9272 679.593 Q64.9272 690.383 58.3387 696.589 Q51.7183 702.796 40.2919 702.796 Q28.8336 702.796 22.2451 696.589 Q15.6248 690.383 15.6248 679.593 Q15.6248 675.328 16.7706 671.572 Q17.8846 667.785 20.1444 664.474 Z\" fill=\"#000000\" fill-rule=\"nonzero\" fill-opacity=\"1\" /><path clip-path=\"url(#clip900)\" d=\"M33.8307 634.142 Q33.2578 635.128 33.0032 636.306 Q32.7167 637.452 32.7167 638.852 Q32.7167 643.818 35.9632 646.491 Q39.1779 649.133 45.2253 649.133 L64.0042 649.133 L64.0042 655.021 L28.3562 655.021 L28.3562 649.133 L33.8944 649.133 Q30.6479 647.287 29.0883 644.327 Q27.4968 641.367 27.4968 637.134 Q27.4968 636.529 27.5923 635.797 Q27.656 635.065 27.8151 634.174 L33.8307 634.142 Z\" fill=\"#000000\" fill-rule=\"nonzero\" fill-opacity=\"1\" /><path clip-path=\"url(#clip900)\" d=\"M32.4621 615.618 Q32.4621 620.328 36.1542 623.065 Q39.8145 625.803 46.212 625.803 Q52.6095 625.803 56.3017 623.097 Q59.9619 620.36 59.9619 615.618 Q59.9619 610.939 56.2698 608.202 Q52.5777 605.464 46.212 605.464 Q39.8781 605.464 36.186 608.202 Q32.4621 610.939 32.4621 615.618 M27.4968 615.618 Q27.4968 607.979 32.4621 603.618 Q37.4273 599.258 46.212 599.258 Q54.9649 599.258 59.9619 603.618 Q64.9272 607.979 64.9272 615.618 Q64.9272 623.288 59.9619 627.649 Q54.9649 631.977 46.212 631.977 Q37.4273 631.977 32.4621 627.649 Q27.4968 623.288 27.4968 615.618 Z\" fill=\"#000000\" fill-rule=\"nonzero\" fill-opacity=\"1\" /><path clip-path=\"url(#clip900)\" d=\"M29.4065 566.824 L34.9447 566.824 Q33.6716 569.307 33.035 571.981 Q32.3984 574.654 32.3984 577.519 Q32.3984 581.879 33.7352 584.075 Q35.072 586.24 37.7456 586.24 Q39.7826 586.24 40.9603 584.68 Q42.1061 583.121 43.1565 578.41 L43.6021 576.405 Q44.9389 570.166 47.3897 567.556 Q49.8086 564.915 54.1691 564.915 Q59.1344 564.915 62.0308 568.861 Q64.9272 572.776 64.9272 579.651 Q64.9272 582.516 64.3543 585.635 Q63.8132 588.722 62.6992 592.16 L56.6518 592.16 Q58.3387 588.913 59.198 585.762 Q60.0256 582.611 60.0256 579.524 Q60.0256 575.386 58.6251 573.158 Q57.1929 570.93 54.6147 570.93 Q52.2276 570.93 50.9545 572.554 Q49.6813 574.145 48.5037 579.588 L48.0262 581.625 Q46.8804 587.067 44.5251 589.486 Q42.138 591.905 38.0002 591.905 Q32.9713 591.905 30.2341 588.341 Q27.4968 584.776 27.4968 578.219 Q27.4968 574.973 27.9743 572.108 Q28.4517 569.243 29.4065 566.824 Z\" fill=\"#000000\" fill-rule=\"nonzero\" fill-opacity=\"1\" /><path clip-path=\"url(#clip900)\" d=\"M29.4065 532.863 L34.9447 532.863 Q33.6716 535.346 33.035 538.02 Q32.3984 540.693 32.3984 543.558 Q32.3984 547.918 33.7352 550.114 Q35.072 552.279 37.7456 552.279 Q39.7826 552.279 40.9603 550.719 Q42.1061 549.16 43.1565 544.449 L43.6021 542.444 Q44.9389 536.205 47.3897 533.595 Q49.8086 530.954 54.1691 530.954 Q59.1344 530.954 62.0308 534.9 Q64.9272 538.815 64.9272 545.69 Q64.9272 548.555 64.3543 551.674 Q63.8132 554.761 62.6992 558.199 L56.6518 558.199 Q58.3387 554.952 59.198 551.801 Q60.0256 548.65 60.0256 545.563 Q60.0256 541.425 58.6251 539.197 Q57.1929 536.969 54.6147 536.969 Q52.2276 536.969 50.9545 538.593 Q49.6813 540.184 48.5037 545.627 L48.0262 547.664 Q46.8804 553.106 44.5251 555.525 Q42.138 557.944 38.0002 557.944 Q32.9713 557.944 30.2341 554.379 Q27.4968 550.815 27.4968 544.258 Q27.4968 541.011 27.9743 538.147 Q28.4517 535.282 29.4065 532.863 Z\" fill=\"#000000\" fill-rule=\"nonzero\" fill-opacity=\"1\" /><path clip-path=\"url(#clip900)\" d=\"M16.4842 500.653 L16.4842 470.607 L21.895 470.607 L21.895 494.224 L35.9632 494.224 L35.9632 471.593 L41.3741 471.593 L41.3741 494.224 L58.5933 494.224 L58.5933 470.034 L64.0042 470.034 L64.0042 500.653 L16.4842 500.653 Z\" fill=\"#000000\" fill-rule=\"nonzero\" fill-opacity=\"1\" /><path clip-path=\"url(#clip900)\" d=\"M42.4881 430.089 L64.0042 430.089 L64.0042 435.945 L42.679 435.945 Q37.6183 435.945 35.1038 437.919 Q32.5894 439.892 32.5894 443.839 Q32.5894 448.581 35.6131 451.319 Q38.6368 454.056 43.8567 454.056 L64.0042 454.056 L64.0042 459.944 L28.3562 459.944 L28.3562 454.056 L33.8944 454.056 Q30.6797 451.955 29.0883 449.123 Q27.4968 446.258 27.4968 442.534 Q27.4968 436.391 31.3163 433.24 Q35.1038 430.089 42.4881 430.089 Z\" fill=\"#000000\" fill-rule=\"nonzero\" fill-opacity=\"1\" /><path clip-path=\"url(#clip900)\" d=\"M18.2347 412.615 L28.3562 412.615 L28.3562 400.552 L32.9077 400.552 L32.9077 412.615 L52.2594 412.615 Q56.6199 412.615 57.8613 411.438 Q59.1026 410.228 59.1026 406.568 L59.1026 400.552 L64.0042 400.552 L64.0042 406.568 Q64.0042 413.347 61.4897 415.925 Q58.9434 418.503 52.2594 418.503 L32.9077 418.503 L32.9077 422.8 L28.3562 422.8 L28.3562 418.503 L18.2347 418.503 L18.2347 412.615 Z\" fill=\"#000000\" fill-rule=\"nonzero\" fill-opacity=\"1\" /><path clip-path=\"url(#clip900)\" d=\"M33.8307 372.193 Q33.2578 373.18 33.0032 374.357 Q32.7167 375.503 32.7167 376.904 Q32.7167 381.869 35.9632 384.542 Q39.1779 387.184 45.2253 387.184 L64.0042 387.184 L64.0042 393.072 L28.3562 393.072 L28.3562 387.184 L33.8944 387.184 Q30.6479 385.338 29.0883 382.378 Q27.4968 379.418 27.4968 375.185 Q27.4968 374.58 27.5923 373.848 Q27.656 373.116 27.8151 372.225 L33.8307 372.193 Z\" fill=\"#000000\" fill-rule=\"nonzero\" fill-opacity=\"1\" /><path clip-path=\"url(#clip900)\" d=\"M32.4621 353.669 Q32.4621 358.379 36.1542 361.117 Q39.8145 363.854 46.212 363.854 Q52.6095 363.854 56.3017 361.148 Q59.9619 358.411 59.9619 353.669 Q59.9619 348.99 56.2698 346.253 Q52.5777 343.515 46.212 343.515 Q39.8781 343.515 36.186 346.253 Q32.4621 348.99 32.4621 353.669 M27.4968 353.669 Q27.4968 346.03 32.4621 341.669 Q37.4273 337.309 46.212 337.309 Q54.9649 337.309 59.9619 341.669 Q64.9272 346.03 64.9272 353.669 Q64.9272 361.339 59.9619 365.7 Q54.9649 370.029 46.212 370.029 Q37.4273 370.029 32.4621 365.7 Q27.4968 361.339 27.4968 353.669 Z\" fill=\"#000000\" fill-rule=\"nonzero\" fill-opacity=\"1\" /><path clip-path=\"url(#clip900)\" d=\"M58.657 321.936 L77.5631 321.936 L77.5631 327.824 L28.3562 327.824 L28.3562 321.936 L33.7671 321.936 Q30.5842 320.09 29.0564 317.289 Q27.4968 314.456 27.4968 310.541 Q27.4968 304.048 32.6531 300.006 Q37.8093 295.932 46.212 295.932 Q54.6147 295.932 59.771 300.006 Q64.9272 304.048 64.9272 310.541 Q64.9272 314.456 63.3994 317.289 Q61.8398 320.09 58.657 321.936 M46.212 302.011 Q39.7508 302.011 36.0905 304.685 Q32.3984 307.326 32.3984 311.973 Q32.3984 316.62 36.0905 319.294 Q39.7508 321.936 46.212 321.936 Q52.6732 321.936 56.3653 319.294 Q60.0256 316.62 60.0256 311.973 Q60.0256 307.326 56.3653 304.685 Q52.6732 302.011 46.212 302.011 Z\" fill=\"#000000\" fill-rule=\"nonzero\" fill-opacity=\"1\" /><path clip-path=\"url(#clip900)\" d=\"M67.3143 271.392 Q73.68 273.875 75.6216 276.23 Q77.5631 278.585 77.5631 282.532 L77.5631 287.211 L72.6615 287.211 L72.6615 283.773 Q72.6615 281.354 71.5157 280.018 Q70.3699 278.681 66.1048 277.057 L63.4312 276.007 L28.3562 290.425 L28.3562 284.219 L56.238 273.079 L28.3562 261.939 L28.3562 255.732 L67.3143 271.392 Z\" fill=\"#000000\" fill-rule=\"nonzero\" fill-opacity=\"1\" /><polyline clip-path=\"url(#clip902)\" style=\"stroke:#009af9; stroke-linecap:round; stroke-linejoin:round; stroke-width:4; stroke-opacity:1; fill:none\" points=\"279.916,85.838 543.195,149.354 697.203,228.842 806.474,311.828 891.231,398.065 960.482,478.06 1019.03,522.096 1114.49,557.546 1190.71,583.909 1254.16,629.403 1308.52,642.186 1398.31,713.423 1453.99,748.613 1531.78,797.648 1596.31,854.975 1671.45,912.853 1734.15,975.046 1808.87,1037.45 1876.99,1091.82 1944.35,1156.08 2013.6,1198.94 2085.48,1226.23 2154.18,1277.08 2223.89,1333.67 2292.38,1372.3 \"/>\n",
       "<path clip-path=\"url(#clip900)\" d=\"M2015.9 196.379 L2281.65 196.379 L2281.65 92.6992 L2015.9 92.6992  Z\" fill=\"#ffffff\" fill-rule=\"evenodd\" fill-opacity=\"1\"/>\n",
       "<polyline clip-path=\"url(#clip900)\" style=\"stroke:#000000; stroke-linecap:round; stroke-linejoin:round; stroke-width:4; stroke-opacity:1; fill:none\" points=\"2015.9,196.379 2281.65,196.379 2281.65,92.6992 2015.9,92.6992 2015.9,196.379 \"/>\n",
       "<polyline clip-path=\"url(#clip900)\" style=\"stroke:#009af9; stroke-linecap:round; stroke-linejoin:round; stroke-width:4; stroke-opacity:1; fill:none\" points=\"2039.6,144.539 2181.81,144.539 \"/>\n",
       "<path clip-path=\"url(#clip900)\" d=\"M2219.36 164.227 Q2217.55 168.856 2215.84 170.268 Q2214.13 171.68 2211.26 171.68 L2207.85 171.68 L2207.85 168.115 L2210.35 168.115 Q2212.11 168.115 2213.09 167.282 Q2214.06 166.449 2215.24 163.347 L2216 161.403 L2205.52 135.893 L2210.03 135.893 L2218.13 156.171 L2226.23 135.893 L2230.75 135.893 L2219.36 164.227 Z\" fill=\"#000000\" fill-rule=\"nonzero\" fill-opacity=\"1\" /><path clip-path=\"url(#clip900)\" d=\"M2238.04 157.884 L2245.68 157.884 L2245.68 131.518 L2237.37 133.185 L2237.37 128.926 L2245.63 127.259 L2250.31 127.259 L2250.31 157.884 L2257.95 157.884 L2257.95 161.819 L2238.04 161.819 L2238.04 157.884 Z\" fill=\"#000000\" fill-rule=\"nonzero\" fill-opacity=\"1\" /></svg>\n"
      ]
     },
     "execution_count": 73,
     "metadata": {},
     "output_type": "execute_result"
    }
   ],
   "source": [
    "using Plots\n",
    "plot(lr_curve.parameter_values, lr_curve.measurements, xlab = lr_curve.parameter_name, xscale = lr_curve.parameter_scale, ylab = \"Error Based on Cross Entropy\")"
   ]
  },
  {
   "cell_type": "code",
   "execution_count": 74,
   "id": "84027ae7",
   "metadata": {},
   "outputs": [],
   "source": [
    "# Save model\n",
    "MLJ.save(\"model.jlso\", mach)"
   ]
  },
  {
   "cell_type": "code",
   "execution_count": 75,
   "id": "bd601c68",
   "metadata": {},
   "outputs": [
    {
     "data": {
      "text/plain": [
       "trained Machine; caches model-specific representations of data\n",
       "  model: NeuralNetworkClassifier(builder = Short(n_hidden = 0, …), …)\n",
       "  args: \n"
      ]
     },
     "execution_count": 75,
     "metadata": {},
     "output_type": "execute_result"
    }
   ],
   "source": [
    "# Load model\n",
    "mach2 = machine(\"model.jlso\")"
   ]
  },
  {
   "cell_type": "code",
   "execution_count": 76,
   "id": "1e637b17",
   "metadata": {},
   "outputs": [
    {
     "data": {
      "text/plain": [
       "45-element CategoricalDistributions.UnivariateFiniteVector{Multiclass{3}, String, UInt32, Float32}:\n",
       " UnivariateFinite{Multiclass{3}}(Iris-setosa=>0.259, Iris-versicolor=>0.359, Iris-virginica=>0.382)\n",
       " UnivariateFinite{Multiclass{3}}(Iris-setosa=>0.232, Iris-versicolor=>0.369, Iris-virginica=>0.399)\n",
       " UnivariateFinite{Multiclass{3}}(Iris-setosa=>0.652, Iris-versicolor=>0.194, Iris-virginica=>0.154)\n",
       " UnivariateFinite{Multiclass{3}}(Iris-setosa=>0.217, Iris-versicolor=>0.373, Iris-virginica=>0.41)\n",
       " UnivariateFinite{Multiclass{3}}(Iris-setosa=>0.214, Iris-versicolor=>0.373, Iris-virginica=>0.413)\n",
       " UnivariateFinite{Multiclass{3}}(Iris-setosa=>0.609, Iris-versicolor=>0.216, Iris-virginica=>0.175)\n",
       " UnivariateFinite{Multiclass{3}}(Iris-setosa=>0.241, Iris-versicolor=>0.364, Iris-virginica=>0.395)\n",
       " UnivariateFinite{Multiclass{3}}(Iris-setosa=>0.252, Iris-versicolor=>0.361, Iris-virginica=>0.387)\n",
       " UnivariateFinite{Multiclass{3}}(Iris-setosa=>0.226, Iris-versicolor=>0.369, Iris-virginica=>0.405)\n",
       " UnivariateFinite{Multiclass{3}}(Iris-setosa=>0.265, Iris-versicolor=>0.357, Iris-virginica=>0.378)\n",
       " UnivariateFinite{Multiclass{3}}(Iris-setosa=>0.229, Iris-versicolor=>0.369, Iris-virginica=>0.402)\n",
       " UnivariateFinite{Multiclass{3}}(Iris-setosa=>0.246, Iris-versicolor=>0.364, Iris-virginica=>0.39)\n",
       " UnivariateFinite{Multiclass{3}}(Iris-setosa=>0.231, Iris-versicolor=>0.367, Iris-virginica=>0.402)\n",
       " ⋮\n",
       " UnivariateFinite{Multiclass{3}}(Iris-setosa=>0.23, Iris-versicolor=>0.368, Iris-virginica=>0.402)\n",
       " UnivariateFinite{Multiclass{3}}(Iris-setosa=>0.672, Iris-versicolor=>0.186, Iris-virginica=>0.142)\n",
       " UnivariateFinite{Multiclass{3}}(Iris-setosa=>0.223, Iris-versicolor=>0.37, Iris-virginica=>0.407)\n",
       " UnivariateFinite{Multiclass{3}}(Iris-setosa=>0.215, Iris-versicolor=>0.373, Iris-virginica=>0.412)\n",
       " UnivariateFinite{Multiclass{3}}(Iris-setosa=>0.221, Iris-versicolor=>0.372, Iris-virginica=>0.408)\n",
       " UnivariateFinite{Multiclass{3}}(Iris-setosa=>0.272, Iris-versicolor=>0.357, Iris-virginica=>0.371)\n",
       " UnivariateFinite{Multiclass{3}}(Iris-setosa=>0.22, Iris-versicolor=>0.371, Iris-virginica=>0.409)\n",
       " UnivariateFinite{Multiclass{3}}(Iris-setosa=>0.694, Iris-versicolor=>0.173, Iris-virginica=>0.133)\n",
       " UnivariateFinite{Multiclass{3}}(Iris-setosa=>0.214, Iris-versicolor=>0.374, Iris-virginica=>0.413)\n",
       " UnivariateFinite{Multiclass{3}}(Iris-setosa=>0.226, Iris-versicolor=>0.37, Iris-virginica=>0.405)\n",
       " UnivariateFinite{Multiclass{3}}(Iris-setosa=>0.689, Iris-versicolor=>0.175, Iris-virginica=>0.136)\n",
       " UnivariateFinite{Multiclass{3}}(Iris-setosa=>0.701, Iris-versicolor=>0.17, Iris-virginica=>0.13)"
      ]
     },
     "execution_count": 76,
     "metadata": {},
     "output_type": "execute_result"
    }
   ],
   "source": [
    "yhat = predict(mach2, X[test, :])"
   ]
  },
  {
   "cell_type": "code",
   "execution_count": 77,
   "id": "af4a035e",
   "metadata": {},
   "outputs": [
    {
     "data": {
      "text/plain": [
       "5-element CategoricalDistributions.UnivariateFiniteVector{Multiclass{3}, String, UInt32, Float32}:\n",
       " UnivariateFinite{Multiclass{3}}(Iris-setosa=>0.259, Iris-versicolor=>0.359, Iris-virginica=>0.382)\n",
       " UnivariateFinite{Multiclass{3}}(Iris-setosa=>0.232, Iris-versicolor=>0.369, Iris-virginica=>0.399)\n",
       " UnivariateFinite{Multiclass{3}}(Iris-setosa=>0.652, Iris-versicolor=>0.194, Iris-virginica=>0.154)\n",
       " UnivariateFinite{Multiclass{3}}(Iris-setosa=>0.217, Iris-versicolor=>0.373, Iris-virginica=>0.41)\n",
       " UnivariateFinite{Multiclass{3}}(Iris-setosa=>0.214, Iris-versicolor=>0.373, Iris-virginica=>0.413)"
      ]
     },
     "execution_count": 77,
     "metadata": {},
     "output_type": "execute_result"
    }
   ],
   "source": [
    "yhat[1:5]"
   ]
  },
  {
   "cell_type": "code",
   "execution_count": 79,
   "id": "8aae4acc",
   "metadata": {},
   "outputs": [
    {
     "data": {
      "text/plain": [
       "0.3820168f0"
      ]
     },
     "execution_count": 79,
     "metadata": {},
     "output_type": "execute_result"
    }
   ],
   "source": [
    "# class probability\n",
    "pdf(yhat[1], \"Iris-virginica\")"
   ]
  },
  {
   "cell_type": "code",
   "execution_count": 80,
   "id": "b0d70570",
   "metadata": {},
   "outputs": [
    {
     "data": {
      "text/plain": [
       "45×3 Matrix{Float32}:\n",
       " 0.258836  0.359147  0.382017\n",
       " 0.232307  0.368579  0.399114\n",
       " 0.651968  0.194428  0.153604\n",
       " 0.217202  0.372731  0.410068\n",
       " 0.213581  0.372983  0.413435\n",
       " 0.609364  0.21606   0.174576\n",
       " 0.24101   0.363513  0.395477\n",
       " 0.252149  0.360979  0.386872\n",
       " 0.226433  0.368745  0.404822\n",
       " 0.264785  0.357129  0.378086\n",
       " 0.229005  0.368896  0.402099\n",
       " 0.246386  0.36356   0.390054\n",
       " 0.230783  0.367435  0.401782\n",
       " ⋮                   \n",
       " 0.230291  0.367901  0.401807\n",
       " 0.672306  0.185899  0.141795\n",
       " 0.222761  0.370478  0.406761\n",
       " 0.214986  0.373044  0.41197\n",
       " 0.220523  0.371798  0.40768\n",
       " 0.272062  0.356857  0.371082\n",
       " 0.220366  0.371051  0.408584\n",
       " 0.694277  0.173216  0.132507\n",
       " 0.213538  0.373828  0.412635\n",
       " 0.225659  0.369658  0.404683\n",
       " 0.689106  0.175108  0.135786\n",
       " 0.700631  0.169683  0.129686"
      ]
     },
     "execution_count": 80,
     "metadata": {},
     "output_type": "execute_result"
    }
   ],
   "source": [
    "# probability of all classes\n",
    "L = levels(y)\n",
    "pdf(yhat, L)"
   ]
  }
 ],
 "metadata": {
  "kernelspec": {
   "display_name": "Julia 1.10.4",
   "language": "julia",
   "name": "julia-1.10"
  },
  "language_info": {
   "file_extension": ".jl",
   "mimetype": "application/julia",
   "name": "julia",
   "version": "1.10.4"
  }
 },
 "nbformat": 4,
 "nbformat_minor": 5
}
